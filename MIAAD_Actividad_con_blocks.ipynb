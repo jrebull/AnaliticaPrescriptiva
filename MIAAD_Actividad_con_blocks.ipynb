{
  "nbformat": 4,
  "nbformat_minor": 0,
  "metadata": {
    "colab": {
      "provenance": [],
      "authorship_tag": "ABX9TyMNELYaV2hjjlk03Zl2wOV1",
      "include_colab_link": true
    },
    "kernelspec": {
      "name": "python3",
      "display_name": "Python 3"
    },
    "language_info": {
      "name": "python"
    }
  },
  "cells": [
    {
      "cell_type": "markdown",
      "metadata": {
        "id": "view-in-github",
        "colab_type": "text"
      },
      "source": [
        "<a href=\"https://colab.research.google.com/github/jrebull/AnaliticaPrescriptiva/blob/main/MIAAD_Actividad_con_blocks.ipynb\" target=\"_parent\"><img src=\"https://colab.research.google.com/assets/colab-badge.svg\" alt=\"Open In Colab\"/></a>"
      ]
    },
    {
      "cell_type": "code",
      "execution_count": 1,
      "metadata": {
        "colab": {
          "base_uri": "https://localhost:8080/"
        },
        "id": "H8ftbxbbrMSH",
        "outputId": "1d3e5a29-5fb1-4b68-8c57-ee91abc01fb3"
      },
      "outputs": [
        {
          "output_type": "stream",
          "name": "stdout",
          "text": [
            "✅ Dependencias instaladas\n"
          ]
        }
      ],
      "source": [
        "# ============================================\n",
        "# CELDA 1: Instalación de dependencias\n",
        "# ============================================\n",
        "\"\"\"\n",
        "Modelo Multi-periodo de Caza Sostenible de Ciervos usando Blocks\n",
        "=================================================================\n",
        "Este modelo extiende el problema original de caza de ciervos a múltiples\n",
        "periodos usando la estructura de blocks de Pyomo para organización jerárquica.\n",
        "\"\"\"\n",
        "\n",
        "!pip install pyomo -q\n",
        "!apt-get install -y coinor-libipopt-dev > /dev/null 2>&1\n",
        "print(\"✅ Dependencias instaladas\")"
      ]
    },
    {
      "cell_type": "code",
      "source": [
        "# ============================================\n",
        "# CELDA 2: Importaciones y configuración\n",
        "# ============================================\n",
        "\n",
        "import pyomo.environ as pyo\n",
        "import numpy as np\n",
        "import pandas as pd\n",
        "import warnings\n",
        "warnings.filterwarnings('ignore')\n",
        "\n",
        "print(\"📚 Librerías importadas correctamente\")"
      ],
      "metadata": {
        "colab": {
          "base_uri": "https://localhost:8080/"
        },
        "id": "LUH2O5UNrZGV",
        "outputId": "a8a8a686-da09-4d26-891b-394aee144c3f"
      },
      "execution_count": 2,
      "outputs": [
        {
          "output_type": "stream",
          "name": "stdout",
          "text": [
            "📚 Librerías importadas correctamente\n"
          ]
        }
      ]
    },
    {
      "cell_type": "code",
      "source": [
        "# ============================================\n",
        "# CELDA 3: Definición de parámetros del modelo\n",
        "# ============================================\n",
        "\n",
        "# Parámetros del modelo original (Bailey, 1984)\n",
        "PARAMS = {\n",
        "    # Tasas de supervivencia\n",
        "    'p1': 0.88,   # Supervivencia de cervatillos en el periodo\n",
        "    'p2': 0.82,   # Proporción de cervatillos hembras (x10)\n",
        "    'p3': 0.92,   # Proporción de hembras adultas que tienen crías\n",
        "    'p4': 0.84,   # Supervivencia de hembras adultas\n",
        "    'p5': 0.73,   # Proporción de cervatillos que maduran\n",
        "    'p6': 0.87,   # Supervivencia de machos adultos\n",
        "\n",
        "    # Consumo de alimento por tipo\n",
        "    'p7': 2700,   # Consumo anual de machos (libras)\n",
        "    'p8': 2300,   # Consumo anual de hembras (libras)\n",
        "    'p9': 540,    # Consumo anual de cervatillos (libras)\n",
        "\n",
        "    # Suministro de alimento\n",
        "    'ps': 700000, # Suministro total de alimento disponible (libras)\n",
        "\n",
        "    # Pesos para la función objetivo\n",
        "    'wf': 1.0,    # Peso de cosecha de cervatillos\n",
        "    'wd': 1.0,    # Peso de cosecha de hembras\n",
        "    'wb': 10.0,   # Peso de cosecha de machos (más valioso)\n",
        "}\n",
        "\n",
        "# Número de periodos a simular\n",
        "NUM_PERIODOS = 3\n",
        "\n",
        "print(f\"📊 Configuración del modelo:\")\n",
        "print(f\"   - Periodos a simular: {NUM_PERIODOS}\")\n",
        "print(f\"   - Suministro de alimento: {PARAMS['ps']:,} libras\")\n",
        "print(f\"   - Pesos objetivo: Machos={PARAMS['wb']}, Hembras={PARAMS['wd']}, Cervatillos={PARAMS['wf']}\")"
      ],
      "metadata": {
        "colab": {
          "base_uri": "https://localhost:8080/"
        },
        "id": "VI-qvC62resx",
        "outputId": "e0eef587-08fd-45ca-9680-a16d72968d1e"
      },
      "execution_count": 3,
      "outputs": [
        {
          "output_type": "stream",
          "name": "stdout",
          "text": [
            "📊 Configuración del modelo:\n",
            "   - Periodos a simular: 3\n",
            "   - Suministro de alimento: 700,000 libras\n",
            "   - Pesos objetivo: Machos=10.0, Hembras=1.0, Cervatillos=1.0\n"
          ]
        }
      ]
    }
  ]
}