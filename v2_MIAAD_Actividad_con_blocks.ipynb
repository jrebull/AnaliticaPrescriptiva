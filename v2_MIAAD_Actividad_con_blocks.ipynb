{
  "nbformat": 4,
  "nbformat_minor": 0,
  "metadata": {
    "colab": {
      "provenance": [],
      "authorship_tag": "ABX9TyNOrljpL95+n3ALvNkd396f",
      "include_colab_link": true
    },
    "kernelspec": {
      "name": "python3",
      "display_name": "Python 3"
    },
    "language_info": {
      "name": "python"
    }
  },
  "cells": [
    {
      "cell_type": "markdown",
      "metadata": {
        "id": "view-in-github",
        "colab_type": "text"
      },
      "source": [
        "<a href=\"https://colab.research.google.com/github/jrebull/AnaliticaPrescriptiva/blob/main/v2_MIAAD_Actividad_con_blocks.ipynb\" target=\"_parent\"><img src=\"https://colab.research.google.com/assets/colab-badge.svg\" alt=\"Open In Colab\"/></a>"
      ]
    },
    {
      "cell_type": "markdown",
      "source": [
        "# Instalacion de Dependencias"
      ],
      "metadata": {
        "id": "_vOv0PhS32gk"
      }
    },
    {
      "cell_type": "code",
      "execution_count": 1,
      "metadata": {
        "colab": {
          "base_uri": "https://localhost:8080/"
        },
        "id": "H8ftbxbbrMSH",
        "outputId": "15cf8489-bd68-45a5-9f9e-d5605051b0da"
      },
      "outputs": [
        {
          "output_type": "stream",
          "name": "stdout",
          "text": [
            "/usr/bin/ipopt\n",
            "Ipopt 3.14.19 (Linux x86_64), ASL(20231111)\n",
            "\n"
          ]
        }
      ],
      "source": [
        "# Quitar el repo problemático si existe\n",
        "!sed -i '/r2u.stat.illinois.edu/ s/^/#/' /etc/apt/sources.list 2>/dev/null || true\n",
        "!sed -i '/r2u.stat.illinois.edu/ s/^/#/' /etc/apt/sources.list.d/* 2>/dev/null || true\n",
        "\n",
        "# Instalar micromamba (binario)\n",
        "!wget -qO- https://micro.mamba.pm/api/micromamba/linux-64/latest | tar -xvj bin/micromamba > /dev/null\n",
        "\n",
        "# Crear un entorno con ipopt y pyomo desde conda-forge\n",
        "!./bin/micromamba create -y -p /usr/local/ipopt-env -c conda-forge ipopt pyomo > /dev/null\n",
        "\n",
        "# Exponer el ejecutable ipopt\n",
        "!ln -sf /usr/local/ipopt-env/bin/ipopt /usr/bin/ipopt\n",
        "\n",
        "# Comprobar instalación\n",
        "!which ipopt\n",
        "!ipopt -v"
      ]
    },
    {
      "cell_type": "markdown",
      "source": [
        "\n",
        "# CELDA 2: Importaciones y configuración"
      ],
      "metadata": {
        "id": "-UOP40BdGuLZ"
      }
    },
    {
      "cell_type": "code",
      "source": [
        "import pyomo.environ as pyo # Importa Pyomo, una librería para modelar y resolver problemas de optimización matemática.\n",
        "import numpy as np # Importa NumPy, fundamental para el cálculo numérico y el trabajo con arrays en Python.\n",
        "import pandas as pd # Importa Pandas, utilizada para la manipulación y el análisis de datos, especialmente con estructuras como DataFrames.\n",
        "import matplotlib.pyplot as plt # Importa Matplotlib, una librería para la creación de gráficos y visualizaciones de datos.\n",
        "import warnings # Importa el módulo de advertencias para controlar cómo se manejan.\n",
        "warnings.filterwarnings('ignore') # Configura que se ignoren las advertencias para mantener la salida más limpia.\n",
        "\n",
        "print(\"📚 Librerías importadas correctamente\")"
      ],
      "metadata": {
        "colab": {
          "base_uri": "https://localhost:8080/"
        },
        "id": "LUH2O5UNrZGV",
        "outputId": "eb04bddc-0125-432d-fc7c-1b3f92bd7358"
      },
      "execution_count": 2,
      "outputs": [
        {
          "output_type": "stream",
          "name": "stdout",
          "text": [
            "📚 Librerías importadas correctamente\n"
          ]
        }
      ]
    },
    {
      "cell_type": "markdown",
      "source": [
        "# CELDA 3: INTRODUCCIÓN Y CONFIGURACIÓN\n"
      ],
      "metadata": {
        "id": "mHvr4VnFHcb1"
      }
    },
    {
      "cell_type": "markdown",
      "source": [
        "> ```\n",
        "> ╔════════════════════════════════════════════════════════════════════════════╗\n",
        "> ║  MODELO DE OPTIMIZACIÓN DE CAZA SOSTENIBLE DE CIERVOS                     ║\n",
        "> ║  Basado en: Bailey (1984) - Optimal Quotas for Sustainable Harvesting     ║\n",
        "> ╚════════════════════════════════════════════════════════════════════════════╝\n",
        "> ```\n",
        ">\n",
        "> Este notebook implementa **DOS** versiones del modelo:\n",
        ">\n",
        "> ---\n",
        ">\n",
        "> ### 1. MODELO ESTADO ESTACIONARIO (Sección A)\n",
        "> - Replica **EXACTAMENTE** el paper original.\n",
        "> - Un solo periodo en equilibrio (steady-state).\n",
        "> - Variables continuas.\n",
        "> - `Resultado esperado:` ~62 bucks, ~37 does, ~0 fawns.\n",
        ">\n",
        "> ### 2. MODELO MULTI-PERIODO DINÁMICO (Sección B)\n",
        "> - Extensión con `blocks` de Pyomo.\n",
        "> - Múltiples periodos configurables.\n",
        "> - Variables enteras (más realista).\n",
        "> - Conexión temporal entre periodos.\n",
        ">    \n",
        "> ---\n",
        ">    \n",
        "> ### **NOMENCLATURA:**\n",
        "> * **Cervatillos (Fawns)** - Crías menores de 1 año.\n",
        "> * **Hembras (Does)** - Hembras adultas reproductivas.\n",
        "> * **Machos (Bucks)** - Machos adultos."
      ],
      "metadata": {
        "id": "mTSstV3LH_Nh"
      }
    },
    {
      "cell_type": "code",
      "source": [
        "print(\"📚 MODELO DE CAZA SOSTENIBLE DE CIERVOS\")\n",
        "print(\"=\"*60)\n",
        "print(\"Notebook con dos implementaciones:\")\n",
        "print(\"  A) Estado Estacionario (paper original)\")\n",
        "print(\"  B) Multi-periodo Dinámico (extensión con blocks)\")\n",
        "print(\"=\"*60)"
      ],
      "metadata": {
        "colab": {
          "base_uri": "https://localhost:8080/"
        },
        "id": "D22L2t1e4QCy",
        "outputId": "d5527bd7-cddc-4d67-cae4-d05532f32284"
      },
      "execution_count": 3,
      "outputs": [
        {
          "output_type": "stream",
          "name": "stdout",
          "text": [
            "📚 MODELO DE CAZA SOSTENIBLE DE CIERVOS\n",
            "============================================================\n",
            "Notebook con dos implementaciones:\n",
            "  A) Estado Estacionario (paper original)\n",
            "  B) Multi-periodo Dinámico (extensión con blocks)\n",
            "============================================================\n"
          ]
        }
      ]
    },
    {
      "cell_type": "markdown",
      "source": [
        "# CELDA 4: PARÁMETROS GLOBALES"
      ],
      "metadata": {
        "id": "MBccEzTvIKU7"
      }
    },
    {
      "cell_type": "markdown",
      "source": [
        "# Parámetros del Modelo de Optimización para Caza Sostenible de Ciervos\n",
        "\n",
        "Este modelo está basado en el trabajo de Bailey [5] y representa un sistema dinámico complejo que modela la población de ciervos considerando tasas de fertilidad, supervivencia y consumo energético. A continuación se presenta la **deconstrucción integral** de cada parámetro.\n",
        "\n",
        "## 🔄 Parámetros de Producción y Fertilidad\n",
        "\n",
        "### `p1 = 0.88` - Coeficiente de Producción de Cervatos\n",
        "- **Definición Formal**: Factor de escala para los nacimientos totales en la población\n",
        "- **Interpretación Ecológica**: Probabilidad combinada de que las hembras preñadas sobrevivan hasta el parto Y que sus crías sobrevivan el período neonatal (verano)\n",
        "- **Derivación Biológica**: `p1 = S_madre,pre-parto × S_cervato,neonatal`\n",
        "- **Importancia**: Integra dos procesos críticos: supervivencia maternal y supervivencia temprana de las crías\n",
        "\n",
        "### `p2 = 0.82` - Tasa de Fertilidad de Hembras Jóvenes  \n",
        "- **Definición Formal**: Tasa de fertilidad de las hembras jóvenes (cervatos del año anterior)\n",
        "- **Interpretación Ecológica**: Tasa de natalidad promedio para las hembras que se reproducen en su **primer año de vida**\n",
        "- **Derivación Biológica**: Medida directa de campo (tasa de preñez de hembras de un año)\n",
        "- **Significado**: Las hembras jóvenes tienen menor capacidad reproductiva que las adultas\n",
        "\n",
        "### `p3 = 0.92` - Tasa de Fertilidad de Hembras Adultas\n",
        "- **Definición Formal**: Tasa de fertilidad de las hembras adultas (dos años o más)\n",
        "- **Interpretación Ecológica**: Tasa de natalidad promedio para hembras de **dos años o más**\n",
        "- **Derivación Biológica**: Medida directa de campo (tasa de preñez de hembras adultas)\n",
        "- **Comparación**: Significativamente mayor que `p2`, reflejando la madurez reproductiva\n",
        "\n",
        "## 🦌 Parámetros de Supervivencia Anual\n",
        "\n",
        "### `p4 = 0.84` - Supervivencia Anual de Hembras Adultas\n",
        "- **Definición Formal**: Tasa de supervivencia anual de las hembras adultas\n",
        "- **Interpretación Ecológica**: Probabilidad de que una hembra adulta sobreviva un año completo por **causas naturales** (excluyendo la cosecha)\n",
        "- **Derivación Biológica**: `p4 = S_invierno,h × S_reproducción,h × S_verano,h × S_cosecha,h` (h=hembra)\n",
        "- **Nota Crítica**: NO incluye mortalidad por caza, solo factores naturales\n",
        "\n",
        "### `p5 = 0.73` - Supervivencia de Cervatos hasta Primer Año\n",
        "- **Definición Formal**: Tasa de supervivencia anual de los cervatos hasta convertirse en individuos de un año\n",
        "- **Interpretación Ecológica**: Probabilidad de que un cervato sobreviva desde el otoño de un año hasta el otoño del siguiente\n",
        "- **Derivación Biológica**: `p5 = S_invierno,c × S_reproducción,c × S_verano,c × S_cosecha,c` (c=cervato)\n",
        "- **Importancia**: Período más vulnerable de la vida del ciervo\n",
        "\n",
        "### `p6 = 0.87` - Supervivencia Anual de Machos Adultos  \n",
        "- **Definición Formal**: Tasa de supervivencia anual de los machos adultos\n",
        "- **Interpretación Ecológica**: Probabilidad de que un macho adulto sobreviva un año completo por **causas naturales** (excluyendo la cosecha)\n",
        "- **Derivación Biológica**: `p6 = S_invierno,m × S_reproducción,m × S_verano,m × S_cosecha,m` (m=macho)\n",
        "- **Observación**: Mayor supervivencia que hembras, posiblemente por menor estrés reproductivo\n",
        "\n",
        "## 🌿 Parámetros Energéticos y de Capacidad de Carga\n",
        "\n",
        "### `p7 = 2,700` - Consumo Anual per cápita de Machos\n",
        "- **Definición Formal**: Consumo anual de alimento per cápita de un macho adulto\n",
        "- **Unidades**: Libras por año por individuo\n",
        "- **Interpretación Ecológica**: Requerimiento energético anual de un macho adulto\n",
        "- **Derivación**: Estimado mediante estudios metabólicos y análisis de dieta\n",
        "\n",
        "### `p8 = 2,300` - Consumo Anual per cápita de Hembras\n",
        "- **Definición Formal**: Consumo anual de alimento per cápita de una hembra adulta  \n",
        "- **Unidades**: Libras por año por individuo\n",
        "- **Interpretación Ecológica**: Requerimiento energético anual de una hembra adulta\n",
        "- **Comparación**: ~15% menor que machos, reflejando dimorfismo sexual\n",
        "\n",
        "### `p9 = 540` - Consumo Anual per cápita de Cervatos\n",
        "- **Definición Formal**: Consumo anual de alimento per cápita de un cervato\n",
        "- **Unidades**: Libras por año por individuo  \n",
        "- **Interpretación Ecológica**: Requerimiento energético anual de un cervato\n",
        "- **Proporción**: ~23% del consumo de un macho adulto\n",
        "\n",
        "### `ps = 700,000` - Capacidad de Carga del Hábitat\n",
        "- **Definición Formal**: Suministro total de alimento disponible en el ecosistema\n",
        "- **Unidades**: Libras totales por año\n",
        "- **Interpretación Ecológica**: Capacidad de carga del hábitat, expresada en biomasa de forraje\n",
        "- **Derivación**: Medida directa del hábitat (productividad de forraje)\n",
        "- **Función**: **Restricción fundamental** que limita el tamaño poblacional máximo\n",
        "\n",
        "## 💰 Parámetros Económicos (Valores de Cosecha)\n",
        "\n",
        "### `wf = 1.0` - Valor Relativo de Cervato\n",
        "- **Significado**: Valor económico base para la cosecha de cervatos\n",
        "\n",
        "### `wd = 1.0` - Valor Relativo de Hembra  \n",
        "- **Significado**: Valor económico equivalente al de cervatos\n",
        "\n",
        "### `wb = 10.0` - Valor Relativo de Macho\n",
        "- **Significado**: Valor económico **10 veces superior** al de hembras/cervatos\n",
        "- **Justificación**: Refleja la preferencia del mercado por trofeos de machos con cornamentas\n",
        "\n",
        "## 🎯 Integración del Modelo\n",
        "\n",
        "El modelo combina estos parámetros en un sistema de ecuaciones diferenciales que captura:\n",
        "\n",
        "1. **Dinámica Reproductiva**: `p1`, `p2`, `p3` determinan la producción de nuevos individuos\n",
        "2. **Mortalidad Natural**: `p4`, `p5`, `p6` modelan la supervivencia sin intervención humana\n",
        "3. **Limitaciones Ambientales**: `p7`, `p8`, `p9`, `ps` imponen restricciones de capacidad de carga\n",
        "4. **Objetivos Económicos**: `wf`, `wd`, `wb` definen la función objetivo a maximizar\n",
        "\n",
        "---\n",
        "*Basado en: Deconstrucción Integral de Parámetros - Modelo de Bailey [5]*"
      ],
      "metadata": {
        "id": "vpcrabfENV_6"
      }
    },
    {
      "cell_type": "code",
      "source": [
        "# Parámetros del modelo (Tabla 7.3 del paper)\n",
        "PARAMETROS_PAPER = {\n",
        "    'p1': 0.88,   # Coeficiente de producción de cervatos; factor de escala para los nacimientos totales.\n",
        "    'p2': 0.82,   # Tasa de fertilidad de las hembras jóvenes (cervatos del año anterior).\n",
        "    'p3': 0.92,   # Tasa de fertilidad de las hembras adultas.\n",
        "    'p4': 0.84,   # Tasa de supervivencia anual de las hembras adultas.\n",
        "    'p5': 0.73,   # Tasa de supervivencia anual de los cervatos hasta convertirse en individuos de un año.\n",
        "    'p6': 0.87,   # Tasa de supervivencia anual de los machos adultos.\n",
        "    'p7': 2700,   # Consumo anual de alimento per cápita de un macho (lbs).\n",
        "    'p8': 2300,   # Consumo anual de alimento per cápita de una hembra (lbs).\n",
        "    'p9': 540,    # Consumo anual de alimento per cápita de un cervato (lbs).\n",
        "    'ps': 700000, # Suministro total de alimento disponible (lbs).\n",
        "    'wf': 1.0,    # Valor cosecha cervatillo\n",
        "    'wd': 1.0,    # Valor cosecha hembra\n",
        "    'wb': 10.0    # Valor cosecha macho (10× más valioso)\n",
        "}\n",
        "\n",
        "print(\"📊 PARÁMETROS DEL MODELO (Bailey, 1984):\")\n",
        "print(\"-\"*60)\n",
        "for key, value in PARAMETROS_PAPER.items():\n",
        "    if key.startswith('p') and key != 'ps':\n",
        "        print(f\"  {key}: {value:7.2f}\")\n",
        "print(f\"  ps: {PARAMETROS_PAPER['ps']:,} libras (suministro alimento)\")\n",
        "print(f\"\\n  Pesos función objetivo:\")\n",
        "print(f\"    Bucks: {PARAMETROS_PAPER['wb']} | Does: {PARAMETROS_PAPER['wd']} | Fawns: {PARAMETROS_PAPER['wf']}\")"
      ],
      "metadata": {
        "colab": {
          "base_uri": "https://localhost:8080/"
        },
        "id": "VI-qvC62resx",
        "outputId": "029f245d-8d54-4423-cecb-454f2a30c465"
      },
      "execution_count": 4,
      "outputs": [
        {
          "output_type": "stream",
          "name": "stdout",
          "text": [
            "📊 PARÁMETROS DEL MODELO (Bailey, 1984):\n",
            "------------------------------------------------------------\n",
            "  p1:    0.88\n",
            "  p2:    0.82\n",
            "  p3:    0.92\n",
            "  p4:    0.84\n",
            "  p5:    0.73\n",
            "  p6:    0.87\n",
            "  p7: 2700.00\n",
            "  p8: 2300.00\n",
            "  p9:  540.00\n",
            "  ps: 700,000 libras (suministro alimento)\n",
            "\n",
            "  Pesos función objetivo:\n",
            "    Bucks: 10.0 | Does: 1.0 | Fawns: 1.0\n"
          ]
        }
      ]
    },
    {
      "cell_type": "markdown",
      "source": [
        "# SECCIÓN A: MODELO ESTADO ESTACIONARIO\n",
        "# CELDA 5: DEFINICIÓN MODELO ESTADO ESTACIONARIO"
      ],
      "metadata": {
        "id": "VkSsmUAEU0ss"
      }
    },
    {
      "cell_type": "code",
      "source": [
        "print(\"\\n\" + \"=\"*70)\n",
        "print(\" SECCIÓN A: MODELO ESTADO ESTACIONARIO (PAPER ORIGINAL)\")\n",
        "print(\"=\"*70)\n",
        "\n",
        "def crear_modelo_estado_estacionario(params=PARAMETROS_PAPER):\n",
        "    \"\"\"\n",
        "    Modelo de estado estacionario (steady-state) - Replica exacta del paper.\n",
        "\n",
        "    CARACTERÍSTICAS:\n",
        "    - Un solo periodo en equilibrio\n",
        "    - Variables continuas\n",
        "    - Poblaciones constantes año tras año\n",
        "    - Sistema de ecuaciones no lineales (7.7-7.13)\n",
        "    \"\"\"\n",
        "\n",
        "    print(\"\\n📝 Creando modelo de ESTADO ESTACIONARIO...\")\n",
        "    print(\"   • Un solo periodo (equilibrio)\")\n",
        "    print(\"   • Variables continuas\")\n",
        "    print(\"   • Replica exacta del paper\")\n",
        "\n",
        "    model = pyo.ConcreteModel(name=\"Deer_SteadyState\")\n",
        "\n",
        "    # Parámetros\n",
        "    for key, value in params.items():\n",
        "        setattr(model, key, value)\n",
        "\n",
        "    # ========================================\n",
        "    # VARIABLES DE DECISIÓN (continuas)\n",
        "    # ========================================\n",
        "\n",
        "    # Poblaciones en estado estacionario\n",
        "    model.f = pyo.Var(bounds=(0, 1000), within=pyo.NonNegativeReals,\n",
        "                      initialize=100, doc=\"Cervatillos (Fawns)\")\n",
        "    model.d = pyo.Var(bounds=(0, 1000), within=pyo.NonNegativeReals,\n",
        "                      initialize=100, doc=\"Hembras (Does)\")\n",
        "    model.b = pyo.Var(bounds=(0, 1000), within=pyo.NonNegativeReals,\n",
        "                      initialize=80, doc=\"Machos (Bucks)\")\n",
        "\n",
        "    # Variables de cosecha\n",
        "    model.hf = pyo.Var(bounds=(0, 500), within=pyo.NonNegativeReals,\n",
        "                       initialize=0, doc=\"Cosecha Fawns\")\n",
        "    model.hd = pyo.Var(bounds=(0, 500), within=pyo.NonNegativeReals,\n",
        "                       initialize=30, doc=\"Cosecha Does\")\n",
        "    model.hb = pyo.Var(bounds=(0, 500), within=pyo.NonNegativeReals,\n",
        "                       initialize=50, doc=\"Cosecha Bucks\")\n",
        "\n",
        "    # Variables auxiliares\n",
        "    model.br = pyo.Var(bounds=(1.0, 2.0), within=pyo.NonNegativeReals,\n",
        "                       initialize=1.5, doc=\"Tasa natalidad\")\n",
        "    model.c = pyo.Var(bounds=(0, 1000000), within=pyo.NonNegativeReals,\n",
        "                      initialize=500000, doc=\"Consumo alimento\")\n",
        "\n",
        "    # ========================================\n",
        "    # RESTRICCIONES (Ecuaciones 7.7-7.13)\n",
        "    # ========================================\n",
        "\n",
        "    # Ecuación 7.7: Balance cervatillos (estado estacionario)\n",
        "    def balance_fawns_rule(m):\n",
        "        nacimientos = m.p1 * m.br * (m.p2/10.0 * m.f + m.p3 * m.d)\n",
        "        return m.f == nacimientos - m.hf\n",
        "    model.balance_fawns = pyo.Constraint(rule=balance_fawns_rule,\n",
        "                                         doc=\"Ec. 7.7: f = p1*br*(p2/10*f + p3*d) - hf\")\n",
        "\n",
        "    # Ecuación 7.8: Balance hembras (estado estacionario)\n",
        "    def balance_does_rule(m):\n",
        "        supervivientes = m.p4 * m.d\n",
        "        maduracion = m.p5 / 2.0 * m.f\n",
        "        return m.d == supervivientes + maduracion - m.hd\n",
        "    model.balance_does = pyo.Constraint(rule=balance_does_rule,\n",
        "                                        doc=\"Ec. 7.8: d = p4*d + p5/2*f - hd\")\n",
        "\n",
        "    # Ecuación 7.9: Balance machos (estado estacionario)\n",
        "    def balance_bucks_rule(m):\n",
        "        supervivientes = m.p6 * m.b\n",
        "        maduracion = m.p5 / 2.0 * m.f\n",
        "        return m.b == supervivientes + maduracion - m.hb\n",
        "    model.balance_bucks = pyo.Constraint(rule=balance_bucks_rule,\n",
        "                                         doc=\"Ec. 7.9: b = p6*b + p5/2*f - hb\")\n",
        "\n",
        "    # Ecuación 7.10: Tasa de natalidad\n",
        "    def birth_rate_rule(m):\n",
        "        return m.br == 1.1 + 0.8 * (m.ps - m.c) / m.ps\n",
        "    model.birth_rate = pyo.Constraint(rule=birth_rate_rule,\n",
        "                                      doc=\"Ec. 7.10: br = 1.1 + 0.8*(ps-c)/ps\")\n",
        "\n",
        "    # Ecuación 7.11: Consumo de alimento\n",
        "    def food_consumption_rule(m):\n",
        "        return m.c == m.p7 * m.b + m.p8 * m.d + m.p9 * m.f\n",
        "    model.food_consumption = pyo.Constraint(rule=food_consumption_rule,\n",
        "                                           doc=\"Ec. 7.11: c = p7*b + p8*d + p9*f\")\n",
        "\n",
        "    # Ecuación 7.12: Restricción suministro\n",
        "    def supply_constraint_rule(m):\n",
        "        return m.c <= m.ps\n",
        "    model.supply_constraint = pyo.Constraint(rule=supply_constraint_rule,\n",
        "                                            doc=\"Ec. 7.12: c <= ps\")\n",
        "\n",
        "    # Ecuación 7.13: Proporción mínima machos (minbuck)\n",
        "    def minbuck_rule(m):\n",
        "        return m.b >= (1.0/5.0) * (0.4 * m.f + m.d)\n",
        "    model.minbuck = pyo.Constraint(rule=minbuck_rule,\n",
        "                                  doc=\"Ec. 7.13: b >= 1/5*(0.4*f + d)\")\n",
        "\n",
        "    # ========================================\n",
        "    # FUNCIÓN OBJETIVO (Ecuación 7.6)\n",
        "    # ========================================\n",
        "\n",
        "    def objective_rule(m):\n",
        "        return m.wb * m.hb + m.wd * m.hd + m.wf * m.hf\n",
        "    model.objective = pyo.Objective(rule=objective_rule, sense=pyo.maximize,\n",
        "                                   doc=\"Ec. 7.6: max wb*hb + wd*hd + wf*hf\")\n",
        "\n",
        "    print(\"✅ Modelo estado estacionario creado\")\n",
        "    return model\n"
      ],
      "metadata": {
        "colab": {
          "base_uri": "https://localhost:8080/"
        },
        "id": "PCWWpvYyr0pw",
        "outputId": "6b053a3a-7aa5-41fd-ae57-eea5e16f825e"
      },
      "execution_count": 5,
      "outputs": [
        {
          "output_type": "stream",
          "name": "stdout",
          "text": [
            "\n",
            "======================================================================\n",
            " SECCIÓN A: MODELO ESTADO ESTACIONARIO (PAPER ORIGINAL)\n",
            "======================================================================\n"
          ]
        }
      ]
    },
    {
      "cell_type": "markdown",
      "source": [
        "# CELDA 6: RESOLVER MODELO ESTADO ESTACIONARIO"
      ],
      "metadata": {
        "id": "2L-YJyf3VCY6"
      }
    },
    {
      "cell_type": "code",
      "source": [
        "print(\"\\n🔧 RESOLVIENDO MODELO ESTADO ESTACIONARIO...\")\n",
        "print(\"-\"*60)\n",
        "\n",
        "# Crear modelo\n",
        "model_ss = crear_modelo_estado_estacionario()\n",
        "\n",
        "# Resolver con IPOPT\n",
        "solver = pyo.SolverFactory('ipopt')\n",
        "solver.options['max_iter'] = 3000\n",
        "solver.options['tol'] = 1e-6\n",
        "solver.options['print_level'] = 0\n",
        "\n",
        "results_ss = solver.solve(model_ss, tee=False)\n"
      ],
      "metadata": {
        "colab": {
          "base_uri": "https://localhost:8080/"
        },
        "id": "MtdEa2srr9UT",
        "outputId": "54141014-66d2-4b17-f0e0-e9c0c97f864a"
      },
      "execution_count": 6,
      "outputs": [
        {
          "output_type": "stream",
          "name": "stdout",
          "text": [
            "\n",
            "🔧 RESOLVIENDO MODELO ESTADO ESTACIONARIO...\n",
            "------------------------------------------------------------\n",
            "\n",
            "📝 Creando modelo de ESTADO ESTACIONARIO...\n",
            "   • Un solo periodo (equilibrio)\n",
            "   • Variables continuas\n",
            "   • Replica exacta del paper\n",
            "✅ Modelo estado estacionario creado\n"
          ]
        }
      ]
    },
    {
      "cell_type": "markdown",
      "source": [
        "# CELDA 7: RESULTADOS ESTADO ESTACIONARIO\n"
      ],
      "metadata": {
        "id": "cwet53wfVTTz"
      }
    },
    {
      "cell_type": "code",
      "source": [
        "from pyomo.opt import SolverStatus, TerminationCondition\n",
        "\n",
        "if (results_ss.solver.status == SolverStatus.ok and\n",
        "    results_ss.solver.termination_condition == TerminationCondition.optimal):\n",
        "\n",
        "    print(\"\\n\" + \"=\"*70)\n",
        "    print(\" 🏆 SOLUCIÓN ÓPTIMA - ESTADO ESTACIONARIO (PAPER ORIGINAL)\")\n",
        "    print(\"=\"*70)\n",
        "\n",
        "    # Extraer valores\n",
        "    f_val = pyo.value(model_ss.f)\n",
        "    d_val = pyo.value(model_ss.d)\n",
        "    b_val = pyo.value(model_ss.b)\n",
        "    hf_val = pyo.value(model_ss.hf)\n",
        "    hd_val = pyo.value(model_ss.hd)\n",
        "    hb_val = pyo.value(model_ss.hb)\n",
        "    br_val = pyo.value(model_ss.br)\n",
        "    c_val = pyo.value(model_ss.c)\n",
        "    obj_val = pyo.value(model_ss.objective)\n",
        "\n",
        "    print(\"\\n📊 POBLACIONES EN EQUILIBRIO:\")\n",
        "    print(\"-\"*50)\n",
        "    print(f\"  Cervatillos (Fawns):  {f_val:8.2f}\")\n",
        "    print(f\"  Hembras (Does):       {d_val:8.2f}\")\n",
        "    print(f\"  Machos (Bucks):       {b_val:8.2f}\")\n",
        "    print(f\"  {'─'*30}\")\n",
        "    print(f\"  POBLACIÓN TOTAL:      {f_val + d_val + b_val:8.2f}\")\n",
        "\n",
        "    print(\"\\n🎯 COSECHA ÓPTIMA ANUAL:\")\n",
        "    print(\"-\"*50)\n",
        "    print(f\"  Cervatillos (Fawns):  {hf_val:8.2f}  ({hf_val:.0f})\")\n",
        "    print(f\"  Hembras (Does):       {hd_val:8.2f}  ({hd_val:.0f})\")\n",
        "    print(f\"  Machos (Bucks):       {hb_val:8.2f}  ({hb_val:.0f})\")\n",
        "    print(f\"  {'─'*30}\")\n",
        "    print(f\"  COSECHA TOTAL:        {hf_val + hd_val + hb_val:8.2f}\")\n",
        "\n",
        "    print(\"\\n📈 MÉTRICAS DEL SISTEMA:\")\n",
        "    print(\"-\"*50)\n",
        "    print(f\"  Tasa de natalidad:    {br_val:8.4f}\")\n",
        "    print(f\"  Consumo alimento:     {c_val:,.0f} libras\")\n",
        "    print(f\"  % Alimento usado:     {(c_val/model_ss.ps)*100:8.2f}%\")\n",
        "    print(f\"  Alimento disponible:  {model_ss.ps - c_val:,.0f} libras\")\n",
        "\n",
        "    print(\"\\n💰 FUNCIÓN OBJETIVO:\")\n",
        "    print(\"-\"*50)\n",
        "    print(f\"  Valor óptimo:         {obj_val:8.2f}\")\n",
        "    print(f\"  Cálculo: 10×{hb_val:.1f} + 1×{hd_val:.1f} + 1×{hf_val:.1f}\")\n",
        "\n",
        "    print(\"\\n✅ COMPARACIÓN CON PAPER ORIGINAL:\")\n",
        "    print(\"-\"*50)\n",
        "    print(\"  Paper:   62 bucks, 37 does, 0 fawns\")\n",
        "    print(f\"  Modelo:  {hb_val:.0f} bucks, {hd_val:.0f} does, {hf_val:.0f} fawns\")\n",
        "\n",
        "    # Verificar restricción minbuck\n",
        "    minbuck_slack = pyo.value(model_ss.b - (1/5)*(0.4*model_ss.f + model_ss.d))\n",
        "    print(f\"\\n📍 Restricción minbuck slack: {minbuck_slack:.4f}\")\n",
        "    if abs(minbuck_slack) < 0.01:\n",
        "        print(\"   → Restricción ACTIVA (binding)\")"
      ],
      "metadata": {
        "colab": {
          "base_uri": "https://localhost:8080/"
        },
        "id": "cBcwBEeHtZtx",
        "outputId": "8bcf9d2c-2209-4ad9-c36a-99fa52b63cd0"
      },
      "execution_count": 7,
      "outputs": [
        {
          "output_type": "stream",
          "name": "stdout",
          "text": [
            "\n",
            "======================================================================\n",
            " 🏆 SOLUCIÓN ÓPTIMA - ESTADO ESTACIONARIO (PAPER ORIGINAL)\n",
            "======================================================================\n",
            "\n",
            "📊 POBLACIONES EN EQUILIBRIO:\n",
            "--------------------------------------------------\n",
            "  Cervatillos (Fawns):    189.61\n",
            "  Hembras (Does):         196.01\n",
            "  Machos (Bucks):          54.37\n",
            "  ──────────────────────────────\n",
            "  POBLACIÓN TOTAL:        439.98\n",
            "\n",
            "🎯 COSECHA ÓPTIMA ANUAL:\n",
            "--------------------------------------------------\n",
            "  Cervatillos (Fawns):      0.00  (0)\n",
            "  Hembras (Does):          37.85  (38)\n",
            "  Machos (Bucks):          62.14  (62)\n",
            "  ──────────────────────────────\n",
            "  COSECHA TOTAL:           99.98\n",
            "\n",
            "📈 MÉTRICAS DEL SISTEMA:\n",
            "--------------------------------------------------\n",
            "  Tasa de natalidad:      1.1000\n",
            "  Consumo alimento:     700,000 libras\n",
            "  % Alimento usado:       100.00%\n",
            "  Alimento disponible:  0 libras\n",
            "\n",
            "💰 FUNCIÓN OBJETIVO:\n",
            "--------------------------------------------------\n",
            "  Valor óptimo:           659.22\n",
            "  Cálculo: 10×62.1 + 1×37.8 + 1×0.0\n",
            "\n",
            "✅ COMPARACIÓN CON PAPER ORIGINAL:\n",
            "--------------------------------------------------\n",
            "  Paper:   62 bucks, 37 does, 0 fawns\n",
            "  Modelo:  62 bucks, 38 does, 0 fawns\n",
            "\n",
            "📍 Restricción minbuck slack: 0.0000\n",
            "   → Restricción ACTIVA (binding)\n"
          ]
        }
      ]
    },
    {
      "cell_type": "markdown",
      "source": [
        "# SECCIÓN B: MODELO MULTI-PERIODO DINÁMICO\n",
        "\n",
        "# CELDA 8: SOLICITAR NÚMERO DE PERIODOS\n"
      ],
      "metadata": {
        "id": "uoW6lxPPWCXR"
      }
    },
    {
      "cell_type": "code",
      "source": [
        "print(\"\\n\\n\" + \"=\"*70)\n",
        "print(\" SECCIÓN B: MODELO MULTI-PERIODO DINÁMICO (EXTENSIÓN CON BLOCKS)\")\n",
        "print(\"=\"*70)\n",
        "\n",
        "print(\"\\n📅 CONFIGURACIÓN MULTI-PERIODO\")\n",
        "print(\"-\"*40)\n",
        "\n",
        "# Solicitar número de periodos al usuario\n",
        "try:\n",
        "    num_periodos_input = input(\"¿Cuántos periodos deseas simular? (1-10, default=3): \")\n",
        "    if num_periodos_input.strip() == \"\":\n",
        "        NUM_PERIODOS = 3\n",
        "    else:\n",
        "        NUM_PERIODOS = int(num_periodos_input)\n",
        "        if NUM_PERIODOS < 1 or NUM_PERIODOS > 10:\n",
        "            print(\"⚠️ Valor fuera de rango. Usando 3 periodos.\")\n",
        "            NUM_PERIODOS = 3\n",
        "except:\n",
        "    NUM_PERIODOS = 3\n",
        "    print(\"⚠️ Entrada no válida. Usando 3 periodos.\")\n",
        "\n",
        "print(f\"\\n✅ Configurado para {NUM_PERIODOS} periodos\")"
      ],
      "metadata": {
        "colab": {
          "base_uri": "https://localhost:8080/"
        },
        "id": "frMO-PGgtv2g",
        "outputId": "ccb28b0b-1777-4f98-8544-846a5082b16a"
      },
      "execution_count": 8,
      "outputs": [
        {
          "output_type": "stream",
          "name": "stdout",
          "text": [
            "\n",
            "\n",
            "======================================================================\n",
            " SECCIÓN B: MODELO MULTI-PERIODO DINÁMICO (EXTENSIÓN CON BLOCKS)\n",
            "======================================================================\n",
            "\n",
            "📅 CONFIGURACIÓN MULTI-PERIODO\n",
            "----------------------------------------\n",
            "¿Cuántos periodos deseas simular? (1-10, default=3): 5\n",
            "\n",
            "✅ Configurado para 5 periodos\n"
          ]
        }
      ]
    },
    {
      "cell_type": "markdown",
      "source": [
        "# CELDA 9: DEFINICIÓN MODELO MULTI-PERIODO"
      ],
      "metadata": {
        "id": "rupbfXJzWTib"
      }
    },
    {
      "cell_type": "code",
      "source": [
        "def crear_modelo_multiperiodo(num_periodos=3, params=PARAMETROS_PAPER):\n",
        "    \"\"\"\n",
        "    Modelo multi-periodo dinámico con blocks.\n",
        "\n",
        "    DIFERENCIAS CON ESTADO ESTACIONARIO:\n",
        "    - Múltiples periodos conectados temporalmente\n",
        "    - Variables enteras (poblaciones y cosechas)\n",
        "    - Población evoluciona dinámicamente\n",
        "    - Restricciones de sostenibilidad al final\n",
        "    - Usa blocks de Pyomo para estructura jerárquica\n",
        "    \"\"\"\n",
        "\n",
        "    print(f\"\\n📝 Creando modelo MULTI-PERIODO DINÁMICO...\")\n",
        "    print(f\"   • {num_periodos} periodos conectados\")\n",
        "    print(f\"   • Variables ENTERAS\")\n",
        "    print(f\"   • Evolución temporal dinámica\")\n",
        "    print(f\"   • Estructura con blocks de Pyomo\")\n",
        "\n",
        "    model = pyo.ConcreteModel(name=\"Deer_MultiPeriod\")\n",
        "\n",
        "    # Periodos\n",
        "    model.PERIODOS = pyo.RangeSet(1, num_periodos)\n",
        "\n",
        "    # Parámetros\n",
        "    for key, value in params.items():\n",
        "        setattr(model, key, value)\n",
        "\n",
        "    # Población inicial\n",
        "    model.f0 = 150  # Cervatillos iniciales\n",
        "    model.d0 = 120  # Hembras iniciales\n",
        "    model.b0 = 80   # Machos iniciales\n",
        "\n",
        "    # ========================================\n",
        "    # DEFINICIÓN DE BLOCKS (uno por periodo)\n",
        "    # ========================================\n",
        "\n",
        "    def periodo_rule(bloque, t):\n",
        "        \"\"\"Define estructura de cada periodo.\"\"\"\n",
        "\n",
        "        # Variables población (ENTERAS - diferencia clave)\n",
        "        bloque.f = pyo.Var(bounds=(0, 500), within=pyo.NonNegativeIntegers,\n",
        "                          initialize=100, doc=f\"Fawns periodo {t}\")\n",
        "        bloque.d = pyo.Var(bounds=(0, 500), within=pyo.NonNegativeIntegers,\n",
        "                          initialize=100, doc=f\"Does periodo {t}\")\n",
        "        bloque.b = pyo.Var(bounds=(0, 500), within=pyo.NonNegativeIntegers,\n",
        "                          initialize=80, doc=f\"Bucks periodo {t}\")\n",
        "\n",
        "        # Variables cosecha (ENTERAS)\n",
        "        bloque.hf = pyo.Var(bounds=(0, 200), within=pyo.NonNegativeIntegers,\n",
        "                           initialize=5, doc=f\"Harvest fawns {t}\")\n",
        "        bloque.hd = pyo.Var(bounds=(0, 200), within=pyo.NonNegativeIntegers,\n",
        "                           initialize=5, doc=f\"Harvest does {t}\")\n",
        "        bloque.hb = pyo.Var(bounds=(0, 200), within=pyo.NonNegativeIntegers,\n",
        "                           initialize=5, doc=f\"Harvest bucks {t}\")\n",
        "\n",
        "        # Variables auxiliares\n",
        "        bloque.br = pyo.Var(bounds=(1.0, 2.0), within=pyo.NonNegativeReals,\n",
        "                           initialize=1.5)\n",
        "        bloque.c = pyo.Var(bounds=(0, 1000000), within=pyo.NonNegativeReals,\n",
        "                          initialize=500000)\n",
        "\n",
        "        # Poblaciones iniciales del periodo\n",
        "        bloque.f_inicial = pyo.Var(bounds=(0, 500), within=pyo.NonNegativeIntegers)\n",
        "        bloque.d_inicial = pyo.Var(bounds=(0, 500), within=pyo.NonNegativeIntegers)\n",
        "        bloque.b_inicial = pyo.Var(bounds=(0, 500), within=pyo.NonNegativeIntegers)\n",
        "\n",
        "        # Nacimientos (auxiliar para redondeo)\n",
        "        bloque.nacimientos = pyo.Var(bounds=(0, 500), within=pyo.NonNegativeReals)\n",
        "\n",
        "        # ====================================\n",
        "        # Restricciones del periodo\n",
        "        # ====================================\n",
        "\n",
        "        m = bloque.model()\n",
        "\n",
        "        # Cálculo nacimientos\n",
        "        def calc_nacimientos_rule(b):\n",
        "            return b.nacimientos == m.p1 * b.br * (m.p2/10.0 * b.f_inicial + m.p3 * b.d_inicial)\n",
        "        bloque.calc_nacimientos = pyo.Constraint(rule=calc_nacimientos_rule)\n",
        "\n",
        "        # Balance poblaciones (con redondeo para enteros)\n",
        "        def f_balance_rule(b):\n",
        "            return b.f <= b.nacimientos - b.hf + 0.9999\n",
        "        bloque.f_balance = pyo.Constraint(rule=f_balance_rule)\n",
        "\n",
        "        def f_balance_lower_rule(b):\n",
        "            return b.f >= b.nacimientos - b.hf\n",
        "        bloque.f_balance_lower = pyo.Constraint(rule=f_balance_lower_rule)\n",
        "\n",
        "        def d_balance_rule(b):\n",
        "            return b.d <= m.p4 * b.d_inicial + m.p5/2 * b.f_inicial - b.hd + 0.9999\n",
        "        bloque.d_balance = pyo.Constraint(rule=d_balance_rule)\n",
        "\n",
        "        def d_balance_lower_rule(b):\n",
        "            return b.d >= m.p4 * b.d_inicial + m.p5/2 * b.f_inicial - b.hd\n",
        "        bloque.d_balance_lower = pyo.Constraint(rule=d_balance_lower_rule)\n",
        "\n",
        "        def b_balance_rule(b):\n",
        "            return b.b <= m.p6 * b.b_inicial + m.p5/2 * b.f_inicial - b.hb + 0.9999\n",
        "        bloque.b_balance = pyo.Constraint(rule=b_balance_rule)\n",
        "\n",
        "        def b_balance_lower_rule(b):\n",
        "            return b.b >= m.p6 * b.b_inicial + m.p5/2 * b.f_inicial - b.hb\n",
        "        bloque.b_balance_lower = pyo.Constraint(rule=b_balance_lower_rule)\n",
        "\n",
        "        # Límites de cosecha\n",
        "        def harvest_limit_hf_rule(b):\n",
        "            return b.hf <= b.nacimientos\n",
        "        bloque.harvest_limit_hf = pyo.Constraint(rule=harvest_limit_hf_rule)\n",
        "\n",
        "        def harvest_limit_hd_rule(b):\n",
        "            return b.hd <= m.p4 * b.d_inicial + m.p5/2 * b.f_inicial\n",
        "        bloque.harvest_limit_hd = pyo.Constraint(rule=harvest_limit_hd_rule)\n",
        "\n",
        "        def harvest_limit_hb_rule(b):\n",
        "            return b.hb <= m.p6 * b.b_inicial + m.p5/2 * b.f_inicial\n",
        "        bloque.harvest_limit_hb = pyo.Constraint(rule=harvest_limit_hb_rule)\n",
        "\n",
        "        # Consumo y suministro\n",
        "        def food_cons_rule(b):\n",
        "            return b.c == m.p7 * b.b_inicial + m.p8 * b.d_inicial + m.p9 * b.f_inicial\n",
        "        bloque.food_cons = pyo.Constraint(rule=food_cons_rule)\n",
        "\n",
        "        def supply_rule(b):\n",
        "            return b.c <= m.ps\n",
        "        bloque.supply = pyo.Constraint(rule=supply_rule)\n",
        "\n",
        "        # Tasa natalidad\n",
        "        def birth_rate_rule(b):\n",
        "            return b.br == 1.1 + 0.8 * (m.ps - b.c) / m.ps\n",
        "        bloque.birth_rate = pyo.Constraint(rule=birth_rate_rule)\n",
        "\n",
        "        # Proporción mínima machos\n",
        "        def minbuck_rule(b):\n",
        "            return b.b >= 0.2 * (0.4 * b.f + b.d)\n",
        "        bloque.minbuck = pyo.Constraint(rule=minbuck_rule)\n",
        "\n",
        "        return bloque\n",
        "\n",
        "    # Crear blocks\n",
        "    model.periodo = pyo.Block(model.PERIODOS, rule=periodo_rule)\n",
        "\n",
        "    # ========================================\n",
        "    # CONEXIÓN ENTRE PERIODOS (diferencia clave)\n",
        "    # ========================================\n",
        "\n",
        "    model.conexion = pyo.ConstraintList()\n",
        "    for t in model.PERIODOS:\n",
        "        if t == 1:\n",
        "            # Primer periodo: población inicial\n",
        "            model.conexion.add(model.periodo[t].f_inicial == model.f0)\n",
        "            model.conexion.add(model.periodo[t].d_inicial == model.d0)\n",
        "            model.conexion.add(model.periodo[t].b_inicial == model.b0)\n",
        "        else:\n",
        "            # Siguientes: población del periodo anterior\n",
        "            model.conexion.add(model.periodo[t].f_inicial == model.periodo[t-1].f)\n",
        "            model.conexion.add(model.periodo[t].d_inicial == model.periodo[t-1].d)\n",
        "            model.conexion.add(model.periodo[t].b_inicial == model.periodo[t-1].b)\n",
        "\n",
        "    # ========================================\n",
        "    # RESTRICCIONES DE SOSTENIBILIDAD\n",
        "    # ========================================\n",
        "\n",
        "    # Población mínima final (80% de inicial)\n",
        "    def sostenibilidad_rule(m):\n",
        "        pob_inicial = m.f0 + m.d0 + m.b0\n",
        "        pob_final = (m.periodo[num_periodos].f +\n",
        "                    m.periodo[num_periodos].d +\n",
        "                    m.periodo[num_periodos].b)\n",
        "        return pob_final >= 0.8 * pob_inicial\n",
        "    model.sostenibilidad = pyo.Constraint(rule=sostenibilidad_rule)\n",
        "\n",
        "    # Diversidad genética\n",
        "    model.diversidad = pyo.ConstraintList()\n",
        "    model.diversidad.add(model.periodo[num_periodos].f >= 20)\n",
        "    model.diversidad.add(model.periodo[num_periodos].d >= 30)\n",
        "    model.diversidad.add(model.periodo[num_periodos].b >= 15)\n",
        "\n",
        "    # ========================================\n",
        "    # FUNCIÓN OBJETIVO (suma ponderada)\n",
        "    # ========================================\n",
        "\n",
        "    def objetivo_multiperiodo_rule(m):\n",
        "        cosecha_total = 0\n",
        "        descuento = 0.95  # Factor descuento temporal\n",
        "\n",
        "        for t in m.PERIODOS:\n",
        "            factor = descuento ** (t-1)\n",
        "            cosecha = (m.wb * m.periodo[t].hb +\n",
        "                      m.wd * m.periodo[t].hd +\n",
        "                      m.wf * m.periodo[t].hf)\n",
        "            cosecha_total += factor * cosecha\n",
        "\n",
        "        return cosecha_total\n",
        "\n",
        "    model.objetivo = pyo.Objective(rule=objetivo_multiperiodo_rule, sense=pyo.maximize)\n",
        "\n",
        "    print(\"✅ Modelo multi-periodo creado\")\n",
        "    return model"
      ],
      "metadata": {
        "id": "MXOLqfUKt-4Z"
      },
      "execution_count": 9,
      "outputs": []
    },
    {
      "cell_type": "markdown",
      "source": [
        "# CELDA 10: RESOLVER MODELO MULTI-PERIODO"
      ],
      "metadata": {
        "id": "kZefLopOWqr1"
      }
    },
    {
      "cell_type": "code",
      "source": [
        "print(f\"\\n🔧 RESOLVIENDO MODELO MULTI-PERIODO ({NUM_PERIODOS} periodos)...\")\n",
        "print(\"-\"*60)\n",
        "\n",
        "# Crear modelo\n",
        "model_mp = crear_modelo_multiperiodo(NUM_PERIODOS)\n",
        "\n",
        "# Resolver\n",
        "solver = pyo.SolverFactory('ipopt')\n",
        "solver.options['max_iter'] = 5000\n",
        "solver.options['tol'] = 1e-6\n",
        "solver.options['print_level'] = 0\n",
        "\n",
        "results_mp = solver.solve(model_mp, tee=False)"
      ],
      "metadata": {
        "colab": {
          "base_uri": "https://localhost:8080/"
        },
        "id": "W_3CuopYuIWi",
        "outputId": "7cb86067-a7e1-4829-a580-f883f41f2868"
      },
      "execution_count": 10,
      "outputs": [
        {
          "output_type": "stream",
          "name": "stdout",
          "text": [
            "\n",
            "🔧 RESOLVIENDO MODELO MULTI-PERIODO (5 periodos)...\n",
            "------------------------------------------------------------\n",
            "\n",
            "📝 Creando modelo MULTI-PERIODO DINÁMICO...\n",
            "   • 5 periodos conectados\n",
            "   • Variables ENTERAS\n",
            "   • Evolución temporal dinámica\n",
            "   • Estructura con blocks de Pyomo\n",
            "✅ Modelo multi-periodo creado\n"
          ]
        }
      ]
    },
    {
      "cell_type": "markdown",
      "source": [
        "# CELDA 11: RESULTADOS MULTI-PERIODO"
      ],
      "metadata": {
        "id": "uVRxCtE_W5Cy"
      }
    },
    {
      "cell_type": "code",
      "source": [
        "if (results_mp.solver.status == SolverStatus.ok):\n",
        "\n",
        "    print(\"\\n\" + \"=\"*70)\n",
        "    print(f\" 🏆 SOLUCIÓN ÓPTIMA - MODELO MULTI-PERIODO ({NUM_PERIODOS} PERIODOS)\")\n",
        "    print(\"=\"*70)\n",
        "\n",
        "    # Recolectar datos para tabla\n",
        "    datos_periodos = []\n",
        "\n",
        "    for t in model_mp.PERIODOS:\n",
        "        periodo = model_mp.periodo[t]\n",
        "\n",
        "        # Valores\n",
        "        f_ini = int(pyo.value(periodo.f_inicial))\n",
        "        d_ini = int(pyo.value(periodo.d_inicial))\n",
        "        b_ini = int(pyo.value(periodo.b_inicial))\n",
        "        f_fin = int(pyo.value(periodo.f))\n",
        "        d_fin = int(pyo.value(periodo.d))\n",
        "        b_fin = int(pyo.value(periodo.b))\n",
        "        hf = int(pyo.value(periodo.hf))\n",
        "        hd = int(pyo.value(periodo.hd))\n",
        "        hb = int(pyo.value(periodo.hb))\n",
        "        br = pyo.value(periodo.br)\n",
        "        c = pyo.value(periodo.c)\n",
        "\n",
        "        datos_periodos.append({\n",
        "            'Periodo': t,\n",
        "            'F_ini': f_ini, 'D_ini': d_ini, 'B_ini': b_ini,\n",
        "            'F_fin': f_fin, 'D_fin': d_fin, 'B_fin': b_fin,\n",
        "            'HF': hf, 'HD': hd, 'HB': hb,\n",
        "            'BR': br, 'Consumo': c,\n",
        "            'Pob_Total_Ini': f_ini + d_ini + b_ini,\n",
        "            'Pob_Total_Fin': f_fin + d_fin + b_fin,\n",
        "            'Cosecha_Total': hf + hd + hb\n",
        "        })\n",
        "\n",
        "        print(f\"\\n{'='*60}\")\n",
        "        print(f\" PERIODO {t}\")\n",
        "        print('='*60)\n",
        "\n",
        "        print(f\"\\n📊 POBLACIÓN INICIAL:\")\n",
        "        print(f\"  Fawns: {f_ini:4d} | Does: {d_ini:4d} | Bucks: {b_ini:4d} | Total: {f_ini+d_ini+b_ini:4d}\")\n",
        "\n",
        "        print(f\"\\n📈 POBLACIÓN FINAL:\")\n",
        "        print(f\"  Fawns: {f_fin:4d} | Does: {d_fin:4d} | Bucks: {b_fin:4d} | Total: {f_fin+d_fin+b_fin:4d}\")\n",
        "\n",
        "        print(f\"\\n🎯 COSECHA:\")\n",
        "        print(f\"  Fawns: {hf:4d} | Does: {hd:4d} | Bucks: {hb:4d} | Total: {hf+hd+hb:4d}\")\n",
        "\n",
        "        print(f\"\\n📊 MÉTRICAS:\")\n",
        "        print(f\"  Tasa natalidad: {br:.4f} | Consumo: {c:,.0f} | %Usado: {(c/model_mp.ps)*100:.1f}%\")\n",
        "\n",
        "    # Resumen\n",
        "    df = pd.DataFrame(datos_periodos)\n",
        "\n",
        "    print(f\"\\n{'='*60}\")\n",
        "    print(\" RESUMEN GLOBAL\")\n",
        "    print('='*60)\n",
        "\n",
        "    valor_obj = pyo.value(model_mp.objetivo)\n",
        "    print(f\"\\n💰 Valor objetivo: {valor_obj:.2f}\")\n",
        "    print(f\"📊 Cosecha total: {df['Cosecha_Total'].sum()}\")\n",
        "    print(f\"📈 Población final total: {df.iloc[-1]['Pob_Total_Fin']}\")\n"
      ],
      "metadata": {
        "colab": {
          "base_uri": "https://localhost:8080/"
        },
        "id": "PJObZXpw6Av2",
        "outputId": "bf14097e-4191-468d-c8ca-a47993b9f24c"
      },
      "execution_count": 11,
      "outputs": [
        {
          "output_type": "stream",
          "name": "stdout",
          "text": [
            "\n",
            "======================================================================\n",
            " 🏆 SOLUCIÓN ÓPTIMA - MODELO MULTI-PERIODO (5 PERIODOS)\n",
            "======================================================================\n",
            "\n",
            "============================================================\n",
            " PERIODO 1\n",
            "============================================================\n",
            "\n",
            "📊 POBLACIÓN INICIAL:\n",
            "  Fawns:  150 | Does:  120 | Bucks:   80 | Total:  350\n",
            "\n",
            "📈 POBLACIÓN FINAL:\n",
            "  Fawns:  135 | Does:  156 | Bucks:   42 | Total:  333\n",
            "\n",
            "🎯 COSECHA:\n",
            "  Fawns:    0 | Does:    0 | Bucks:   83 | Total:   83\n",
            "\n",
            "📊 MÉTRICAS:\n",
            "  Tasa natalidad: 1.2451 | Consumo: 573,000 | %Usado: 81.9%\n",
            "\n",
            "============================================================\n",
            " PERIODO 2\n",
            "============================================================\n",
            "\n",
            "📊 POBLACIÓN INICIAL:\n",
            "  Fawns:  135 | Does:  156 | Bucks:   42 | Total:  333\n",
            "\n",
            "📈 POBLACIÓN FINAL:\n",
            "  Fawns:  175 | Does:  181 | Bucks:   50 | Total:  406\n",
            "\n",
            "🎯 COSECHA:\n",
            "  Fawns:    0 | Does:    0 | Bucks:   36 | Total:   36\n",
            "\n",
            "📊 MÉTRICAS:\n",
            "  Tasa natalidad: 1.2749 | Consumo: 546,998 | %Usado: 78.1%\n",
            "\n",
            "============================================================\n",
            " PERIODO 3\n",
            "============================================================\n",
            "\n",
            "📊 POBLACIÓN INICIAL:\n",
            "  Fawns:  175 | Does:  181 | Bucks:   50 | Total:  406\n",
            "\n",
            "📈 POBLACIÓN FINAL:\n",
            "  Fawns:  186 | Does:  196 | Bucks:   54 | Total:  436\n",
            "\n",
            "🎯 COSECHA:\n",
            "  Fawns:    0 | Does:   20 | Bucks:   54 | Total:   74\n",
            "\n",
            "📊 MÉTRICAS:\n",
            "  Tasa natalidad: 1.1582 | Consumo: 649,038 | %Usado: 92.7%\n",
            "\n",
            "============================================================\n",
            " PERIODO 4\n",
            "============================================================\n",
            "\n",
            "📊 POBLACIÓN INICIAL:\n",
            "  Fawns:  186 | Does:  196 | Bucks:   54 | Total:  436\n",
            "\n",
            "📈 POBLACIÓN FINAL:\n",
            "  Fawns:  191 | Does:  195 | Bucks:   54 | Total:  440\n",
            "\n",
            "🎯 COSECHA:\n",
            "  Fawns:    0 | Does:   38 | Bucks:   61 | Total:   99\n",
            "\n",
            "📊 MÉTRICAS:\n",
            "  Tasa natalidad: 1.1000 | Consumo: 700,000 | %Usado: 100.0%\n",
            "\n",
            "============================================================\n",
            " PERIODO 5\n",
            "============================================================\n",
            "\n",
            "📊 POBLACIÓN INICIAL:\n",
            "  Fawns:  191 | Does:  195 | Bucks:   54 | Total:  440\n",
            "\n",
            "📈 POBLACIÓN FINAL:\n",
            "  Fawns:  190 | Does:   62 | Bucks:   27 | Total:  279\n",
            "\n",
            "🎯 COSECHA:\n",
            "  Fawns:    0 | Does:  173 | Bucks:   90 | Total:  263\n",
            "\n",
            "📊 MÉTRICAS:\n",
            "  Tasa natalidad: 1.1000 | Consumo: 700,000 | %Usado: 100.0%\n",
            "\n",
            "============================================================\n",
            " RESUMEN GLOBAL\n",
            "============================================================\n",
            "\n",
            "💰 Valor objetivo: 3131.88\n",
            "📊 Cosecha total: 555\n",
            "📈 Población final total: 279.0\n"
          ]
        }
      ]
    },
    {
      "cell_type": "markdown",
      "source": [
        "# CELDA 12: COMPARACIÓN DE MODELOS"
      ],
      "metadata": {
        "id": "OQnO95GaXCLd"
      }
    },
    {
      "cell_type": "code",
      "source": [
        "print(\"\\n\\n\" + \"=\"*70)\n",
        "print(\" 📊 COMPARACIÓN: ESTADO ESTACIONARIO vs MULTI-PERIODO\")\n",
        "print(\"=\"*70)\n",
        "\n",
        "print(\"\\n┌─────────────────────────────────────────────────────────────┐\")\n",
        "print(\"│ DIFERENCIAS CLAVE ENTRE LOS MODELOS                        │\")\n",
        "print(\"├─────────────────────────────────────────────────────────────┤\")\n",
        "print(\"│                                                             │\")\n",
        "print(\"│ ESTADO ESTACIONARIO (Sección A):                           │\")\n",
        "print(\"│ • Un solo periodo en equilibrio (steady-state)             │\")\n",
        "print(\"│ • Variables continuas (decimales permitidos)               │\")\n",
        "print(\"│ • Población constante año tras año                         │\")\n",
        "print(\"│ • Sistema de ecuaciones no lineales simultáneas            │\")\n",
        "print(\"│ • Replica exactamente el paper original                    │\")\n",
        "print(\"│                                                             │\")\n",
        "print(\"│ MULTI-PERIODO (Sección B):                                 │\")\n",
        "print(\"│ • Múltiples periodos conectados temporalmente              │\")\n",
        "print(\"│ • Variables enteras (más realista)                         │\")\n",
        "print(\"│ • Población evoluciona dinámicamente                       │\")\n",
        "print(\"│ • Usa blocks de Pyomo para estructura jerárquica           │\")\n",
        "print(\"│ • Incluye restricciones de sostenibilidad                  │\")\n",
        "print(\"│ • Factor de descuento temporal en objetivo                 │\")\n",
        "print(\"└─────────────────────────────────────────────────────────────┘\")\n",
        "\n",
        "if 'model_ss' in locals() and 'model_mp' in locals():\n",
        "    print(\"\\n📈 RESULTADOS NUMÉRICOS:\")\n",
        "    print(\"-\"*60)\n",
        "\n",
        "    # Estado estacionario\n",
        "    print(\"\\nESTADO ESTACIONARIO:\")\n",
        "    print(f\"  Cosecha: {pyo.value(model_ss.hf):.0f} fawns, \"\n",
        "          f\"{pyo.value(model_ss.hd):.0f} does, {pyo.value(model_ss.hb):.0f} bucks\")\n",
        "    print(f\"  Valor objetivo: {pyo.value(model_ss.objective):.2f}\")\n",
        "\n",
        "    # Multi-periodo\n",
        "    if 'df' in locals():\n",
        "        print(f\"\\nMULTI-PERIODO ({NUM_PERIODOS} periodos):\")\n",
        "        print(f\"  Cosecha total: {df['HF'].sum()} fawns, \"\n",
        "              f\"{df['HD'].sum()} does, {df['HB'].sum()} bucks\")\n",
        "        print(f\"  Valor objetivo: {valor_obj:.2f}\")\n",
        "        print(f\"  Población final: {df.iloc[-1]['Pob_Total_Fin']}\")"
      ],
      "metadata": {
        "colab": {
          "base_uri": "https://localhost:8080/"
        },
        "id": "DyQS2kPp6Imd",
        "outputId": "1b93ed14-cb07-4937-f907-092c9bd36432"
      },
      "execution_count": 12,
      "outputs": [
        {
          "output_type": "stream",
          "name": "stdout",
          "text": [
            "\n",
            "\n",
            "======================================================================\n",
            " 📊 COMPARACIÓN: ESTADO ESTACIONARIO vs MULTI-PERIODO\n",
            "======================================================================\n",
            "\n",
            "┌─────────────────────────────────────────────────────────────┐\n",
            "│ DIFERENCIAS CLAVE ENTRE LOS MODELOS                        │\n",
            "├─────────────────────────────────────────────────────────────┤\n",
            "│                                                             │\n",
            "│ ESTADO ESTACIONARIO (Sección A):                           │\n",
            "│ • Un solo periodo en equilibrio (steady-state)             │\n",
            "│ • Variables continuas (decimales permitidos)               │\n",
            "│ • Población constante año tras año                         │\n",
            "│ • Sistema de ecuaciones no lineales simultáneas            │\n",
            "│ • Replica exactamente el paper original                    │\n",
            "│                                                             │\n",
            "│ MULTI-PERIODO (Sección B):                                 │\n",
            "│ • Múltiples periodos conectados temporalmente              │\n",
            "│ • Variables enteras (más realista)                         │\n",
            "│ • Población evoluciona dinámicamente                       │\n",
            "│ • Usa blocks de Pyomo para estructura jerárquica           │\n",
            "│ • Incluye restricciones de sostenibilidad                  │\n",
            "│ • Factor de descuento temporal en objetivo                 │\n",
            "└─────────────────────────────────────────────────────────────┘\n",
            "\n",
            "📈 RESULTADOS NUMÉRICOS:\n",
            "------------------------------------------------------------\n",
            "\n",
            "ESTADO ESTACIONARIO:\n",
            "  Cosecha: 0 fawns, 38 does, 62 bucks\n",
            "  Valor objetivo: 659.22\n",
            "\n",
            "MULTI-PERIODO (5 periodos):\n",
            "  Cosecha total: 0 fawns, 231 does, 324 bucks\n",
            "  Valor objetivo: 3131.88\n",
            "  Población final: 279.0\n"
          ]
        }
      ]
    },
    {
      "cell_type": "markdown",
      "source": [
        "# CELDA 13: VISUALIZACIÓN"
      ],
      "metadata": {
        "id": "5rd8WzqfXG5x"
      }
    },
    {
      "cell_type": "code",
      "source": [
        "if 'df' in locals() and NUM_PERIODOS > 1:\n",
        "    print(\"\\n📊 Generando visualizaciones...\")\n",
        "\n",
        "    fig, axes = plt.subplots(2, 2, figsize=(14, 10))\n",
        "    fig.suptitle(f'Análisis Multi-periodo ({NUM_PERIODOS} periodos)', fontsize=16)\n",
        "\n",
        "    # 1. Evolución poblaciones\n",
        "    ax1 = axes[0, 0]\n",
        "    ax1.plot(df['Periodo'], df['F_fin'], 'o-', label='Fawns', linewidth=2)\n",
        "    ax1.plot(df['Periodo'], df['D_fin'], 's-', label='Does', linewidth=2)\n",
        "    ax1.plot(df['Periodo'], df['B_fin'], '^-', label='Bucks', linewidth=2)\n",
        "    ax1.set_xlabel('Periodo')\n",
        "    ax1.set_ylabel('Población')\n",
        "    ax1.set_title('Evolución de Poblaciones')\n",
        "    ax1.legend()\n",
        "    ax1.grid(True, alpha=0.3)\n",
        "\n",
        "    # 2. Cosechas por periodo\n",
        "    ax2 = axes[0, 1]\n",
        "    width = 0.25\n",
        "    x = np.arange(len(df))\n",
        "    ax2.bar(x - width, df['HF'], width, label='Fawns', alpha=0.8)\n",
        "    ax2.bar(x, df['HD'], width, label='Does', alpha=0.8)\n",
        "    ax2.bar(x + width, df['HB'], width, label='Bucks', alpha=0.8)\n",
        "    ax2.set_xlabel('Periodo')\n",
        "    ax2.set_ylabel('Cosecha')\n",
        "    ax2.set_title('Plan de Cosecha')\n",
        "    ax2.set_xticks(x)\n",
        "    ax2.set_xticklabels(df['Periodo'])\n",
        "    ax2.legend()\n",
        "    ax2.grid(True, alpha=0.3, axis='y')\n",
        "\n",
        "    # 3. Población total\n",
        "    ax3 = axes[1, 0]\n",
        "    ax3.plot(df['Periodo'], df['Pob_Total_Ini'], 'b-o', label='Inicial', linewidth=2)\n",
        "    ax3.plot(df['Periodo'], df['Pob_Total_Fin'], 'r-s', label='Final', linewidth=2)\n",
        "    ax3.set_xlabel('Periodo')\n",
        "    ax3.set_ylabel('Población Total')\n",
        "    ax3.set_title('Población Total por Periodo')\n",
        "    ax3.legend()\n",
        "    ax3.grid(True, alpha=0.3)\n",
        "\n",
        "    # 4. Tasa natalidad\n",
        "    ax4 = axes[1, 1]\n",
        "    ax4.plot(df['Periodo'], df['BR'], 'g-o', linewidth=2, markersize=8)\n",
        "    ax4.set_xlabel('Periodo')\n",
        "    ax4.set_ylabel('Tasa de Natalidad')\n",
        "    ax4.set_title('Evolución Tasa de Natalidad')\n",
        "    ax4.grid(True, alpha=0.3)\n",
        "\n",
        "    plt.tight_layout()\n",
        "    plt.show()\n",
        "\n",
        "    print(\"✅ Visualizaciones generadas\")\n",
        "\n",
        "print(\"\\n\" + \"=\"*70)\n",
        "print(\" FIN DEL ANÁLISIS\")\n",
        "print(\"=\"*70)"
      ],
      "metadata": {
        "colab": {
          "base_uri": "https://localhost:8080/",
          "height": 1000
        },
        "id": "DeHivXmz6O0B",
        "outputId": "b8f6e398-b535-4ad6-fefc-f21f4a834df8"
      },
      "execution_count": 13,
      "outputs": [
        {
          "output_type": "stream",
          "name": "stdout",
          "text": [
            "\n",
            "📊 Generando visualizaciones...\n"
          ]
        },
        {
          "output_type": "display_data",
          "data": {
            "text/plain": [
              "<Figure size 1400x1000 with 4 Axes>"
            ],
            "image/png": "[encoded data removed]"
          },
          "metadata": {}
        },
        {
          "output_type": "stream",
          "name": "stdout",
          "text": [
            "✅ Visualizaciones generadas\n",
            "\n",
            "======================================================================\n",
            " FIN DEL ANÁLISIS\n",
            "======================================================================\n"
          ]
        }
      ]
    }
  ]
}