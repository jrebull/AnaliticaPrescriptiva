{
  "nbformat": 4,
  "nbformat_minor": 0,
  "metadata": {
    "colab": {
      "provenance": [],
      "authorship_tag": "ABX9TyN2PmxHz+T4QPIsxbiPvN6O",
      "include_colab_link": true
    },
    "kernelspec": {
      "name": "python3",
      "display_name": "Python 3"
    },
    "language_info": {
      "name": "python"
    }
  },
  "cells": [
    {
      "cell_type": "markdown",
      "metadata": {
        "id": "view-in-github",
        "colab_type": "text"
      },
      "source": [
        "<a href=\"https://colab.research.google.com/github/jrebull/AnaliticaPrescriptiva/blob/main/MIAAD_Progra_Rebull_Farm_Planning_Problem_vDraft.ipynb\" target=\"_parent\"><img src=\"https://colab.research.google.com/assets/colab-badge.svg\" alt=\"Open In Colab\"/></a>"
      ]
    },
    {
      "cell_type": "markdown",
      "source": [
        "# Análisis de Eficiencia de Franquicias con DEA\n",
        "\n",
        "**Materia:** Programación para Analítica Prescriptiva y de Apoyo a la Decisión  \n",
        "**Alumno:** Javier Augusto Rebull Saucedo  \n",
        "**Matrícula:** al263483\n",
        "\n",
        "## Objetivo\n",
        "\n",
        "Este proyecto utiliza el **Análisis Envolvente de Datos (DEA)** para evaluar la eficiencia productiva de 28 franquicias de automóviles. Se busca identificar qué franquicias operan de manera óptima (eficientes) y cuáles tienen áreas de mejora (ineficientes), basándose en sus recursos (inputs) y sus resultados (outputs).\n",
        "\n",
        "El modelo se implementa en Python utilizando la librería `gurobipy` para resolver el problema de programación lineal subyacente."
      ],
      "metadata": {
        "id": "_ftDSrgONI32"
      }
    },
    {
      "cell_type": "code",
      "execution_count": 1,
      "metadata": {
        "colab": {
          "base_uri": "https://localhost:8080/"
        },
        "id": "Q0gTL7O4NBcw",
        "outputId": "c3a647c4-a5f5-4d95-e55d-40a60ae7adba"
      },
      "outputs": [
        {
          "output_type": "stream",
          "name": "stdout",
          "text": [
            "Collecting gurobipy\n",
            "  Downloading gurobipy-12.0.3-cp312-cp312-manylinux2014_x86_64.manylinux_2_17_x86_64.whl.metadata (16 kB)\n",
            "Downloading gurobipy-12.0.3-cp312-cp312-manylinux2014_x86_64.manylinux_2_17_x86_64.whl (14.3 MB)\n",
            "\u001b[2K   \u001b[90m━━━━━━━━━━━━━━━━━━━━━━━━━━━━━━━━━━━━━━━━\u001b[0m \u001b[32m14.3/14.3 MB\u001b[0m \u001b[31m94.9 MB/s\u001b[0m eta \u001b[36m0:00:00\u001b[0m\n",
            "\u001b[?25hInstalling collected packages: gurobipy\n",
            "Successfully installed gurobipy-12.0.3\n"
          ]
        }
      ],
      "source": [
        "%pip install gurobipy"
      ]
    },
    {
      "cell_type": "code",
      "source": [
        "import pandas as pd\n",
        "import gurobipy as gp\n",
        "from gurobipy import GRB\n",
        "\n",
        "print(\"Librerías importadas correctamente.\")"
      ],
      "metadata": {
        "colab": {
          "base_uri": "https://localhost:8080/"
        },
        "id": "LWmhjs8nNPRZ",
        "outputId": "2a74a989-5994-42a9-a97c-ebef36d833bc"
      },
      "execution_count": 2,
      "outputs": [
        {
          "output_type": "stream",
          "name": "stdout",
          "text": [
            "Librerías importadas correctamente.\n"
          ]
        }
      ]
    },
    {
      "cell_type": "markdown",
      "source": [
        "## Datos del Problema\n",
        "\n",
        "Se definen los datos para las 28 franquicias, a las que llamaremos **Unidades de Toma de Decisión** (DMUs). Para cada una, se especifican sus inputs (recursos) y outputs (resultados).\n",
        "\n",
        "* **Inputs (Recursos):**\n",
        "    * `staff`: Número de empleados.\n",
        "    * `showRoom`: Espacio de exhibición (en $100 m^2$).\n",
        "    * `Population1`: Población en área de influencia tipo 1 (en 1000s).\n",
        "    * `Population2`: Población en área de influencia tipo 2 (en 1000s).\n",
        "    * `alphaEnquiries`: Consultas sobre el modelo Alpha (en 100s).\n",
        "    * `betaEnquiries`: Consultas sobre el modelo Beta (en 100s).\n",
        "* **Outputs (Resultados):**\n",
        "    * `alphaSales`: Ventas del modelo Alpha (en 1000s).\n",
        "    * `BetaSales`: Ventas del modelo Beta (en 1000s).\n",
        "    * `profit`: Ganancia (en millones).\n",
        "\n",
        "Estos datos se almacenan en una estructura `multidict` de Gurobi para facilitar su acceso en el modelo."
      ],
      "metadata": {
        "id": "AzFjBTQ4NSgS"
      }
    },
    {
      "cell_type": "code",
      "source": [
        "# Nombres de los inputs y outputs para referencia\n",
        "inattr = ['staff', 'showRoom', 'Population1', 'Population2', 'alphaEnquiries', 'betaEnquiries']\n",
        "outattr = ['alphaSales', 'BetaSales', 'profit']\n",
        "\n",
        "# Datos de las 28 DMUs (franquicias)\n",
        "dmus, inputs, outputs = gp.multidict({\n",
        "    'Winchester': [{'staff': 7, 'showRoom': 8, 'Population1': 10, 'Population2': 12, 'alphaEnquiries': 8.5, 'betaEnquiries': 4}, {'alphaSales': 2, 'BetaSales': 0.6, 'profit': 1.5}],\n",
        "    'Andover': [{'staff': 6, 'showRoom': 6, 'Population1': 20, 'Population2': 30, 'alphaEnquiries': 9, 'betaEnquiries': 4.5}, {'alphaSales': 2.3, 'BetaSales': 0.7, 'profit': 1.6}],\n",
        "    'Basingstoke': [{'staff': 2, 'showRoom': 3, 'Population1': 40, 'Population2': 40, 'alphaEnquiries': 2, 'betaEnquiries': 1.5}, {'alphaSales': 0.8, 'BetaSales': 0.25, 'profit': 0.5}],\n",
        "    'Poole': [{'staff': 14, 'showRoom': 9, 'Population1': 20, 'Population2': 25, 'alphaEnquiries': 10, 'betaEnquiries': 6}, {'alphaSales': 2.6, 'BetaSales': 0.86, 'profit': 1.9}],\n",
        "    'Woking': [{'staff': 10, 'showRoom': 9, 'Population1': 10, 'Population2': 10, 'alphaEnquiries': 11, 'betaEnquiries': 5}, {'alphaSales': 2.4, 'BetaSales': 1, 'profit': 2}],\n",
        "    'Newbury': [{'staff': 24, 'showRoom': 15, 'Population1': 15, 'Population2': 13, 'alphaEnquiries': 25, 'betaEnquiries': 1.9}, {'alphaSales': 8, 'BetaSales': 2.6, 'profit': 4.5}],\n",
        "    'Portsmouth': [{'staff': 6, 'showRoom': 7, 'Population1': 50, 'Population2': 40, 'alphaEnquiries': 8.5, 'betaEnquiries': 3}, {'alphaSales': 2.5, 'BetaSales': 0.9, 'profit': 1.6}],\n",
        "    'Alresford': [{'staff': 8, 'showRoom': 7.5, 'Population1': 5, 'Population2': 8, 'alphaEnquiries': 9, 'betaEnquiries': 4}, {'alphaSales': 2.1, 'BetaSales': 0.85, 'profit': 2}],\n",
        "    'Salisbury': [{'staff': 5, 'showRoom': 5, 'Population1': 10, 'Population2': 10, 'alphaEnquiries': 5, 'betaEnquiries': 2.5}, {'alphaSales': 2, 'BetaSales': 0.65, 'profit': 0.9}],\n",
        "    'Guildford': [{'staff': 8, 'showRoom': 10, 'Population1': 30, 'Population2': 35, 'alphaEnquiries': 9.5, 'betaEnquiries': 4.5}, {'alphaSales': 2.05, 'BetaSales': 0.75, 'profit': 1.7}],\n",
        "    'Alton': [{'staff': 7, 'showRoom': 8, 'Population1': 7, 'Population2': 8, 'alphaEnquiries': 3, 'betaEnquiries': 2}, {'alphaSales': 1.9, 'BetaSales': 0.70, 'profit': 0.5}],\n",
        "    'Weybridge': [{'staff': 5, 'showRoom': 6.5, 'Population1': 9, 'Population2': 12, 'alphaEnquiries': 8, 'betaEnquiries': 4.5}, {'alphaSales': 1.8, 'BetaSales': 0.63, 'profit': 1.4}],\n",
        "    'Dorchester': [{'staff': 6, 'showRoom': 7.5, 'Population1': 10, 'Population2': 10, 'alphaEnquiries': 7.5, 'betaEnquiries': 4}, {'alphaSales': 1.5, 'BetaSales': 0.45, 'profit': 1.45}],\n",
        "    'Bridport': [{'staff': 11, 'showRoom': 8, 'Population1': 8, 'Population2': 10, 'alphaEnquiries': 10, 'betaEnquiries': 6}, {'alphaSales': 2.2, 'BetaSales': 0.65, 'profit': 2.2}],\n",
        "    'Weymouth': [{'staff': 4, 'showRoom': 5, 'Population1': 10, 'Population2': 10, 'alphaEnquiries': 7.5, 'betaEnquiries': 3.5}, {'alphaSales': 1.8, 'BetaSales': 0.62, 'profit': 1.6}],\n",
        "    'Portland': [{'staff': 3, 'showRoom': 3.5, 'Population1': 3, 'Population2': 20, 'alphaEnquiries': 2, 'betaEnquiries': 1.5}, {'alphaSales': 0.9, 'BetaSales': 0.35, 'profit': 0.5}],\n",
        "    'Chichester': [{'staff': 5, 'showRoom': 5.5, 'Population1': 8, 'Population2': 10, 'alphaEnquiries': 7, 'betaEnquiries': 3.5}, {'alphaSales': 1.2, 'BetaSales': 0.45, 'profit': 1.3}],\n",
        "    'Petersfield': [{'staff': 21, 'showRoom': 12, 'Population1': 6, 'Population2': 6, 'alphaEnquiries': 15, 'betaEnquiries': 8}, {'alphaSales': 6, 'BetaSales': 0.25, 'profit': 2.9}],\n",
        "    'Petworth': [{'staff': 6, 'showRoom': 5.5, 'Population1': 2, 'Population2': 2, 'alphaEnquiries': 8, 'betaEnquiries': 5}, {'alphaSales': 1.5, 'BetaSales': 0.55, 'profit': 1.55}],\n",
        "    'Midhurst': [{'staff': 3, 'showRoom': 3.6, 'Population1': 3, 'Population2': 3, 'alphaEnquiries': 2.5, 'betaEnquiries': 1.5}, {'alphaSales': 0.8, 'BetaSales': 0.20, 'profit': 0.45}],\n",
        "    'Reading': [{'staff': 30, 'showRoom': 29, 'Population1': 120, 'Population2': 80, 'alphaEnquiries': 35, 'betaEnquiries': 20}, {'alphaSales': 7, 'BetaSales': 2.5, 'profit': 8}],\n",
        "    'Southampton': [{'staff': 25, 'showRoom': 16, 'Population1': 110, 'Population2': 80, 'alphaEnquiries': 27, 'betaEnquiries': 12}, {'alphaSales': 6.5, 'BetaSales': 3.5, 'profit': 5.4}],\n",
        "    'Bournemouth': [{'staff': 19, 'showRoom': 10, 'Population1': 90, 'Population2': 22, 'alphaEnquiries': 25, 'betaEnquiries': 13}, {'alphaSales': 5.5, 'BetaSales': 3.1, 'profit': 4.5}],\n",
        "    'Henley': [{'staff': 7, 'showRoom': 6, 'Population1': 5, 'Population2': 7, 'alphaEnquiries': 8.5, 'betaEnquiries': 4.5}, {'alphaSales': 1.2, 'BetaSales': 0.48, 'profit': 2}],\n",
        "    'Maidenhead': [{'staff': 12, 'showRoom': 8, 'Population1': 7, 'Population2': 10, 'alphaEnquiries': 12, 'betaEnquiries': 7}, {'alphaSales': 4.5, 'BetaSales': 2, 'profit': 2.3}],\n",
        "    'Fareham': [{'staff': 4, 'showRoom': 6, 'Population1': 1, 'Population2': 1, 'alphaEnquiries': 7.5, 'betaEnquiries': 3.5}, {'alphaSales': 1.1, 'BetaSales': 0.48, 'profit': 1.7}],\n",
        "    'Romsey': [{'staff': 2, 'showRoom': 2.5, 'Population1': 1, 'Population2': 1, 'alphaEnquiries': 2.5, 'betaEnquiries': 1}, {'alphaSales': 0.4, 'BetaSales': 0.1, 'profit': 0.55}],\n",
        "    'Ringwood': [{'staff': 2, 'showRoom': 3.5, 'Population1': 2, 'Population2': 2, 'alphaEnquiries': 1.9, 'betaEnquiries': 1.2}, {'alphaSales': 0.3, 'BetaSales': 0.09, 'profit': 0.4}]\n",
        "})"
      ],
      "metadata": {
        "id": "bfAkkIqHNVhQ"
      },
      "execution_count": 3,
      "outputs": []
    },
    {
      "cell_type": "markdown",
      "source": [
        "## Construcción del Modelo de Optimización\n",
        "\n",
        "Para cada franquicia (DMU) que queramos evaluar (la llamaremos `target`), debemos resolver un problema de programación lineal.\n",
        "\n",
        "* **Variables de Decisión:**\n",
        "    * `wout[r]`: Peso o importancia asignada al output `r`.\n",
        "    * `win[i]`: Peso o importancia asignada al input `i`.\n",
        "\n",
        "* **Función Objetivo:**\n",
        "    Maximizar la suma ponderada de los outputs de la franquicia `target`.\n",
        "    $$ \\text{Maximizar} \\quad E_k = \\sum_{r \\in \\text{Outputs}} \\text{outvalue}_{r,k} \\cdot u_{r} $$\n",
        "\n",
        "* **Restricciones:**\n",
        "    1.  **Normalización:** La suma ponderada de los inputs de la franquicia `target` debe ser igual a 1. Esto convierte el problema fraccional original en uno lineal.\n",
        "        $$ \\sum_{i \\in \\text{Inputs}} \\text{invalue}_{i,k} \\cdot v_{i} = 1 $$\n",
        "    2.  **Eficiencia Relativa:** Para *cada* franquicia en el conjunto de datos (incluida la `target`), la suma ponderada de sus outputs no puede superar la suma ponderada de sus inputs. Esto asegura que ninguna franquicia tenga un ratio de eficiencia mayor a 1 con los pesos calculados.\n",
        "        $$ \\sum_{r \\in \\text{Outputs}} \\text{outvalue}_{r,j} \\cdot u_{r} - \\sum_{i \\in \\text{Inputs}} \\text{invalue}_{i,j} \\cdot v_{i} \\leq 0 \\quad \\forall j \\in \\text{DMUS} $$\n",
        "\n",
        "La siguiente función `solve_DEA` encapsula la creación y resolución de este modelo para una franquicia `target` específica."
      ],
      "metadata": {
        "id": "kgDOvS2tNYqR"
      }
    },
    {
      "cell_type": "code",
      "source": [
        "def solve_DEA(target_dmu, verbose=False):\n",
        "    \"\"\"\n",
        "    Construye y resuelve el modelo de programación lineal DEA para una DMU objetivo.\n",
        "\n",
        "    Args:\n",
        "        target_dmu (str): El nombre de la DMU a evaluar.\n",
        "        verbose (bool): Si es True, muestra el log del solver. Si es False, lo oculta.\n",
        "\n",
        "    Returns:\n",
        "        float: El score de eficiencia de la DMU objetivo.\n",
        "    \"\"\"\n",
        "    # Crear el modelo\n",
        "    model = gp.Model('DEA')\n",
        "\n",
        "    # Variables de decisión: pesos para inputs y outputs\n",
        "    wout = model.addVars(outattr, name=\"outputWeight\")\n",
        "    win = model.addVars(inattr, name=\"inputWeight\")\n",
        "\n",
        "    # Restricción 1: Normalización de inputs para la DMU objetivo\n",
        "    model.addConstr((gp.quicksum(inputs[target_dmu][i] * win[i] for i in inattr) == 1), name='normalization')\n",
        "\n",
        "    # Restricción 2: Ratios de eficiencia para TODAS las DMUs\n",
        "    model.addConstrs((gp.quicksum(outputs[j][r] * wout[r] for r in outattr) -\n",
        "                      gp.quicksum(inputs[j][i] * win[i] for i in inattr) <= 0\n",
        "                      for j in dmus), name='ratios')\n",
        "\n",
        "    # Función Objetivo: Maximizar la suma ponderada de outputs de la DMU objetivo\n",
        "    model.setObjective(gp.quicksum(outputs[target_dmu][r] * wout[r] for r in outattr), GRB.MAXIMIZE)\n",
        "\n",
        "    # Configurar el solver para no imprimir logs si verbose es False\n",
        "    if not verbose:\n",
        "        model.params.OutputFlag = 0\n",
        "\n",
        "    # Resolver el modelo\n",
        "    model.optimize()\n",
        "\n",
        "    # Retornar el valor óptimo de la función objetivo (el score de eficiencia)\n",
        "    return model.objVal"
      ],
      "metadata": {
        "id": "dAD_znPtNa9c"
      },
      "execution_count": 4,
      "outputs": []
    },
    {
      "cell_type": "markdown",
      "source": [
        "## Cálculo de la Eficiencia para Todas las Franquicias\n",
        "\n",
        "Ahora, iteramos sobre la lista de todas las franquicias. En cada iteración, llamamos a la función `solve_DEA` para resolver el problema de optimización con esa franquicia como `target`.\n",
        "\n",
        "Los scores de eficiencia resultantes se almacenan en un diccionario llamado `performance`."
      ],
      "metadata": {
        "id": "aSS2qrXMNd6-"
      }
    },
    {
      "cell_type": "code",
      "source": [
        "# Diccionario para almacenar los resultados de eficiencia\n",
        "performance = {}\n",
        "\n",
        "# Resolver el modelo DEA para cada franquicia\n",
        "for dmu in dmus:\n",
        "    efficiency_score = solve_DEA(dmu, verbose=False)\n",
        "    performance[dmu] = efficiency_score\n",
        "\n",
        "print(\"Cálculo de eficiencia completado para todas las 28 franquicias.\")"
      ],
      "metadata": {
        "colab": {
          "base_uri": "https://localhost:8080/"
        },
        "id": "KjKrtbMENgNS",
        "outputId": "9489c15e-4019-4044-d13c-36f81217ef98"
      },
      "execution_count": 5,
      "outputs": [
        {
          "output_type": "stream",
          "name": "stdout",
          "text": [
            "Restricted license - for non-production use only - expires 2026-11-23\n",
            "Cálculo de eficiencia completado para todas las 28 franquicias.\n"
          ]
        }
      ]
    },
    {
      "cell_type": "markdown",
      "source": [
        "## Análisis e Interpretación de Resultados\n",
        "\n",
        "Una vez calculados todos los scores, procedemos a interpretarlos:\n",
        "\n",
        "* **DMU Eficiente:** Si su score de eficiencia es igual a 1 (o muy cercano, debido a tolerancias numéricas). Esto significa que la franquicia opera en la \"frontera de eficiencia\". Ninguna otra franquicia (o combinación de ellas) puede producir más outputs con los mismos o menos inputs. Son los puntos de referencia del grupo.\n",
        "* **DMU Ineficiente:** Si su score es menor que 1. El valor del score indica el grado de ineficiencia. Por ejemplo, un score de 0.85 sugiere que la franquicia podría, teóricamente, producir el mismo nivel de outputs utilizando solo el 85% de sus inputs actuales para alcanzar la frontera de eficiencia.\n",
        "\n",
        "A continuación, clasificamos las franquicias en dos grupos y las ordenamos para una mejor visualización."
      ],
      "metadata": {
        "id": "18gbBmEHNik4"
      }
    },
    {
      "cell_type": "code",
      "source": [
        "# Ordenar las franquicias por su score de eficiencia de mayor a menor\n",
        "sorted_performance = {k: v for k, v in sorted(performance.items(), key=lambda item: item[1], reverse=True)}\n",
        "\n",
        "# Listas para clasificar DMUs\n",
        "efficient_dmus = []\n",
        "inefficient_dmus = []\n",
        "\n",
        "# Clasificar cada DMU\n",
        "for dmu, score in sorted_performance.items():\n",
        "    if score >= 0.99999:  # Usamos una tolerancia para la comparación de punto flotante\n",
        "        efficient_dmus.append((dmu, score))\n",
        "    else:\n",
        "        inefficient_dmus.append((dmu, score))\n",
        "\n",
        "# Imprimir los resultados de forma clara y ordenada\n",
        "print(\"=\"*50)\n",
        "print(\"              ANÁLISIS DE EFICIENCIA (DEA)\")\n",
        "print(\"=\"*50)\n",
        "\n",
        "print(\"\\n--- ✅ FRANQUICIAS EFICIENTES (Score = 1.0) ---\")\n",
        "print(\"Estas franquicias son los benchmarks del grupo.\\n\")\n",
        "for dmu, score in efficient_dmus:\n",
        "    print(f\"  - {dmu:<15} | Score: {score:.3f}\")\n",
        "\n",
        "print(\"\\n--- ❌ FRANQUICIAS INEFICIENTES (Score < 1.0) ---\")\n",
        "print(\"Estas franquicias tienen potencial de mejora.\\n\")\n",
        "for dmu, score in inefficient_dmus:\n",
        "    print(f\"  - {dmu:<15} | Score: {score:.3f}\")\n",
        "\n",
        "print(\"\\n\" + \"=\"*50)"
      ],
      "metadata": {
        "colab": {
          "base_uri": "https://localhost:8080/"
        },
        "id": "kQqrqF0vNk8Q",
        "outputId": "e2e6e98c-dc59-438d-87cc-cd865bc00acb"
      },
      "execution_count": 6,
      "outputs": [
        {
          "output_type": "stream",
          "name": "stdout",
          "text": [
            "==================================================\n",
            "              ANÁLISIS DE EFICIENCIA (DEA)\n",
            "==================================================\n",
            "\n",
            "--- ✅ FRANQUICIAS EFICIENTES (Score = 1.0) ---\n",
            "Estas franquicias son los benchmarks del grupo.\n",
            "\n",
            "  - Newbury         | Score: 1.000\n",
            "  - Alresford       | Score: 1.000\n",
            "  - Salisbury       | Score: 1.000\n",
            "  - Alton           | Score: 1.000\n",
            "  - Weymouth        | Score: 1.000\n",
            "  - Petersfield     | Score: 1.000\n",
            "  - Southampton     | Score: 1.000\n",
            "  - Bournemouth     | Score: 1.000\n",
            "  - Maidenhead      | Score: 1.000\n",
            "  - Fareham         | Score: 1.000\n",
            "  - Romsey          | Score: 1.000\n",
            "  - Basingstoke     | Score: 1.000\n",
            "  - Portsmouth      | Score: 1.000\n",
            "  - Portland        | Score: 1.000\n",
            "  - Henley          | Score: 1.000\n",
            "\n",
            "--- ❌ FRANQUICIAS INEFICIENTES (Score < 1.0) ---\n",
            "Estas franquicias tienen potencial de mejora.\n",
            "\n",
            "  - Petworth        | Score: 0.988\n",
            "  - Reading         | Score: 0.984\n",
            "  - Bridport        | Score: 0.982\n",
            "  - Andover         | Score: 0.917\n",
            "  - Ringwood        | Score: 0.908\n",
            "  - Midhurst        | Score: 0.889\n",
            "  - Dorchester      | Score: 0.867\n",
            "  - Poole           | Score: 0.864\n",
            "  - Weybridge       | Score: 0.854\n",
            "  - Woking          | Score: 0.845\n",
            "  - Winchester      | Score: 0.835\n",
            "  - Chichester      | Score: 0.825\n",
            "  - Guildford       | Score: 0.802\n",
            "\n",
            "==================================================\n"
          ]
        }
      ]
    },
    {
      "cell_type": "markdown",
      "source": [
        "### Nota sobre la Elección de Herramientas (Gurobi vs. Pyomo)\n",
        "\n",
        "Para este problema, se utilizó la API nativa de **Gurobi** (`gurobipy`), que es muy eficiente para problemas de programación lineal.\n",
        "\n",
        "Una alternativa es usar **Pyomo**, un lenguaje de modelado en Python. Pyomo ofrece mayor flexibilidad para cambiar de solver (por ejemplo, a `IPOPT` para problemas no lineales, o `GLPK` que es de código abierto).\n",
        "\n",
        "* **Gurobi (nativo):** Ideal por su altísimo rendimiento y sintaxis directa cuando se sabe que el solver a usar es Gurobi.\n",
        "* **Pyomo:** Excelente para la portabilidad del modelo y para problemas que podrían requerir diferentes tipos de solvers.\n",
        "\n",
        "Dado que el DEA se formula como un problema de programación lineal, Gurobi es una elección óptima y directa."
      ],
      "metadata": {
        "id": "OO9M_66RNnZe"
      }
    }
  ]
}