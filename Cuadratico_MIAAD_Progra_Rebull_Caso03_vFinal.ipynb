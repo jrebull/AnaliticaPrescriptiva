{
  "cells": [
    {
      "cell_type": "markdown",
      "metadata": {
        "id": "view-in-github",
        "colab_type": "text"
      },
      "source": [
        "<a href=\"https://colab.research.google.com/github/jrebull/AnaliticaPrescriptiva/blob/main/Cuadratico_MIAAD_Progra_Rebull_Caso03_vFinal.ipynb\" target=\"_parent\"><img src=\"https://colab.research.google.com/assets/colab-badge.svg\" alt=\"Open In Colab\"/></a>"
      ]
    },
    {
      "cell_type": "markdown",
      "metadata": {
        "id": "4RSmwze-vBOJ"
      },
      "source": [
        "# Caso 3: Problema de Transporte con Penalización No Lineal\n",
        "**Alumno:** Javier Augusto Rebull Saucedo\n",
        "\n",
        "**Matrícula:** al263483\n",
        "\n",
        "**Materia:** Programación para Analítica Prescriptiva y de Apoyo a la Decisión"
      ]
    },
    {
      "cell_type": "markdown",
      "metadata": {
        "id": "title_cell"
      },
      "source": [
        "# Optimización de Transporte con Costos Cuadráticos\n",
        "\n",
        "**Modelo de Distribución desde Almacenes a Destinos**\n",
        "\n",
        "---\n",
        "\n",
        "## Descripción del Problema\n",
        "\n",
        "Este notebook presenta un modelo de optimización para el problema clásico de transporte, con la particularidad de incorporar **costos cuadráticos** que penalizan el volumen de envío. Este enfoque realista considera que los costos marginales aumentan con la cantidad transportada, reflejando fenómenos como:\n",
        "\n",
        "- **Congestión logística:** Mayor volumen genera complejidad operativa\n",
        "- **Deterioro de servicio:** La calidad disminuye con envíos masivos\n",
        "- **Costos de escala:** Recursos adicionales necesarios para grandes volúmenes\n",
        "\n",
        "### Formulación Matemática\n",
        "\n",
        "**Conjuntos:**\n",
        "- $I$: Conjunto de almacenes (orígenes)\n",
        "- $J$: Conjunto de destinos\n",
        "\n",
        "**Parámetros:**\n",
        "- $C_i$: Capacidad del almacén $i$\n",
        "- $D_j$: Demanda del destino $j$\n",
        "- $CB_{ij}$: Costo base por unidad de $i$ a $j$\n",
        "- $P_{ij}$: Coeficiente de penalización cuadrática\n",
        "\n",
        "**Variables de decisión:**\n",
        "- $x_{ij}$: Unidades enviadas desde almacén $i$ al destino $j$\n",
        "\n",
        "**Función objetivo:**\n",
        "$$\\min Z = \\sum_{i \\in I} \\sum_{j \\in J} (CB_{ij} \\cdot x_{ij} + P_{ij} \\cdot x_{ij}^2)$$\n",
        "\n",
        "**Restricciones:**\n",
        "1. Capacidad de almacenes: $\\sum_{j \\in J} x_{ij} \\leq C_i, \\quad \\forall i \\in I$\n",
        "2. Satisfacción de demanda: $\\sum_{i \\in I} x_{ij} = D_j, \\quad \\forall j \\in J$\n",
        "3. No negatividad: $x_{ij} \\geq 0, \\quad \\forall i \\in I, j \\in J$"
      ]
    },
    {
      "cell_type": "markdown",
      "metadata": {
        "id": "import_section"
      },
      "source": [
        "---\n",
        "## 1. Importación de Bibliotecas\n",
        "\n",
        "Utilizaremos **Pyomo**, un framework potente para modelado de optimización en Python que permite expresar problemas matemáticos de forma declarativa y resolverlos con diversos solvers."
      ]
    },
    {
      "cell_type": "code",
      "execution_count": 46,
      "metadata": {
        "colab": {
          "base_uri": "https://localhost:8080/"
        },
        "id": "AVkhmmEbqpQ4",
        "outputId": "2d91641c-0cd6-4379-e2d9-0986fc8c69a7"
      },
      "outputs": [
        {
          "output_type": "stream",
          "name": "stdout",
          "text": [
            "🔧 Iniciando instalación de Pyomo e IPOPT...\n",
            "\n",
            "📦 Método 1: Instalando desde repositorios apt...\n",
            "🐍 Instalando Pyomo...\n",
            "\n",
            "🔍 Verificando instalación de IPOPT...\n",
            "✅ IPOPT encontrado en PATH: /usr/bin/ipopt\n",
            "\n",
            "============================================================\n",
            "        VERIFICACIÓN FINAL DE INSTALACIÓN\n",
            "============================================================\n",
            "\n",
            "📋 Información de IPOPT:\n",
            "Ipopt 3.14.19 (Linux x86_64), ASL(20231111)\n",
            "\n"
          ]
        },
        {
          "output_type": "stream",
          "name": "stderr",
          "text": [
            "WARNING:pyomo.opt:Failed to create solver with name 'bonmin':\n",
            "Failed to set executable for solver asl. File with name=bonmin either does not exist or it is not executable. To skip this validation, call set_executable with validate=False.\n",
            "Traceback (most recent call last):\n",
            "  File \"/usr/local/lib/python3.12/dist-packages/pyomo/opt/base/solvers.py\", line 175, in __call__\n",
            "    opt = self._cls[_implicit_solvers[mode]](**kwds)\n",
            "          ^^^^^^^^^^^^^^^^^^^^^^^^^^^^^^^^^^^^^^^^^^\n",
            "  File \"/usr/local/lib/python3.12/dist-packages/pyomo/solvers/plugins/solvers/ASL.py\", line 46, in __init__\n",
            "    SystemCallSolver.__init__(self, **kwds)\n",
            "  File \"/usr/local/lib/python3.12/dist-packages/pyomo/opt/solver/shellcmd.py\", line 66, in __init__\n",
            "    self.set_executable(name=executable, validate=validate)\n",
            "  File \"/usr/local/lib/python3.12/dist-packages/pyomo/opt/solver/shellcmd.py\", line 115, in set_executable\n",
            "    raise ValueError(\n",
            "ValueError: Failed to set executable for solver asl. File with name=bonmin either does not exist or it is not executable. To skip this validation, call set_executable with validate=False.\n",
            "WARNING:pyomo.opt:Failed to create solver with name 'couenne':\n",
            "Failed to set executable for solver asl. File with name=couenne either does not exist or it is not executable. To skip this validation, call set_executable with validate=False.\n",
            "Traceback (most recent call last):\n",
            "  File \"/usr/local/lib/python3.12/dist-packages/pyomo/opt/base/solvers.py\", line 175, in __call__\n",
            "    opt = self._cls[_implicit_solvers[mode]](**kwds)\n",
            "          ^^^^^^^^^^^^^^^^^^^^^^^^^^^^^^^^^^^^^^^^^^\n",
            "  File \"/usr/local/lib/python3.12/dist-packages/pyomo/solvers/plugins/solvers/ASL.py\", line 46, in __init__\n",
            "    SystemCallSolver.__init__(self, **kwds)\n",
            "  File \"/usr/local/lib/python3.12/dist-packages/pyomo/opt/solver/shellcmd.py\", line 66, in __init__\n",
            "    self.set_executable(name=executable, validate=validate)\n",
            "  File \"/usr/local/lib/python3.12/dist-packages/pyomo/opt/solver/shellcmd.py\", line 115, in set_executable\n",
            "    raise ValueError(\n",
            "ValueError: Failed to set executable for solver asl. File with name=couenne either does not exist or it is not executable. To skip this validation, call set_executable with validate=False.\n"
          ]
        },
        {
          "output_type": "stream",
          "name": "stdout",
          "text": [
            "\n",
            "🧪 Probando disponibilidad en Pyomo...\n",
            "   ✅ IPOPT disponible en Pyomo\n",
            "\n",
            "🎯 Solvers NLP disponibles: ipopt\n",
            "\n",
            "============================================================\n",
            "✅ Instalación completada\n",
            "============================================================\n"
          ]
        }
      ],
      "source": [
        "# ============================================================\n",
        "# INSTALACIÓN DE PYOMO E IPOPT PARA GOOGLE COLAB\n",
        "# ============================================================\n",
        "# Este script intenta múltiples métodos de instalación para\n",
        "# asegurar que IPOPT esté disponible en el entorno.\n",
        "# ============================================================\n",
        "\n",
        "import sys\n",
        "import os\n",
        "import subprocess\n",
        "import pandas as pd\n",
        "import matplotlib.pyplot as plt\n",
        "import seaborn as sns\n",
        "\n",
        "print(\"🔧 Iniciando instalación de Pyomo e IPOPT...\\n\")\n",
        "\n",
        "# ------------------------------------------------------------\n",
        "# MÉTODO 1: Instalar desde repositorios apt (más rápido)\n",
        "# ------------------------------------------------------------\n",
        "print(\"📦 Método 1: Instalando desde repositorios apt...\")\n",
        "!apt-get update -qq > /dev/null 2>&1\n",
        "!apt-get install -y -qq coinor-libipopt1v5 coinor-libipopt-dev coinor-bonmin > /dev/null 2>&1\n",
        "\n",
        "# Instalar Pyomo\n",
        "print(\"🐍 Instalando Pyomo...\")\n",
        "!pip install -q pyomo\n",
        "\n",
        "# ------------------------------------------------------------\n",
        "# VERIFICAR SI IPOPT ESTÁ DISPONIBLE\n",
        "# ------------------------------------------------------------\n",
        "print(\"\\n🔍 Verificando instalación de IPOPT...\")\n",
        "ipopt_found = False\n",
        "\n",
        "# Buscar en PATH\n",
        "result_which = subprocess.run(['which', 'ipopt'], capture_output=True, text=True)\n",
        "if result_which.returncode == 0 and result_which.stdout.strip():\n",
        "    print(f\"✅ IPOPT encontrado en PATH: {result_which.stdout.strip()}\")\n",
        "    ipopt_found = True\n",
        "else:\n",
        "    # Buscar en todo el sistema\n",
        "    print(\"🔎 IPOPT no encontrado en PATH, buscando en el sistema...\")\n",
        "    result_find = subprocess.run(['find', '/usr', '-name', 'ipopt', '-type', 'f', '2>/dev/null'],\n",
        "                                 capture_output=True, text=True, shell=False)\n",
        "\n",
        "    if result_find.stdout:\n",
        "        ipopt_path = result_find.stdout.strip().split('\\n')[0]\n",
        "        print(f\"✅ IPOPT encontrado en: {ipopt_path}\")\n",
        "        # Agregar al PATH\n",
        "        os.environ['PATH'] = os.path.dirname(ipopt_path) + ':' + os.environ['PATH']\n",
        "        ipopt_found = True\n",
        "\n",
        "# ------------------------------------------------------------\n",
        "# MÉTODO 2: Instalar con micromamba (si método 1 falló)\n",
        "# ------------------------------------------------------------\n",
        "if not ipopt_found:\n",
        "    print(\"\\n⚠️  Método apt falló. Intentando con micromamba...\")\n",
        "\n",
        "    # Quitar repos problemáticos\n",
        "    !sed -i '/r2u.stat.illinois.edu/ s/^/#/' /etc/apt/sources.list 2>/dev/null || true\n",
        "    !sed -i '/r2u.stat.illinois.edu/ s/^/#/' /etc/apt/sources.list.d/* 2>/dev/null || true\n",
        "\n",
        "    # Instalar micromamba\n",
        "    print(\"📦 Descargando micromamba...\")\n",
        "    !wget -qO- https://micro.mamba.pm/api/micromamba/linux-64/latest | tar -xvj bin/micromamba > /dev/null 2>&1\n",
        "\n",
        "    # Crear entorno con ipopt\n",
        "    print(\"🔧 Creando entorno conda con IPOPT...\")\n",
        "    !./bin/micromamba create -y -p /usr/local/ipopt-env -c conda-forge ipopt pyomo > /dev/null 2>&1\n",
        "\n",
        "    # Exponer el ejecutable\n",
        "    !ln -sf /usr/local/ipopt-env/bin/ipopt /usr/bin/ipopt 2>/dev/null || true\n",
        "\n",
        "    # Verificar nuevamente\n",
        "    result_final = subprocess.run(['which', 'ipopt'], capture_output=True, text=True)\n",
        "    if result_final.returncode == 0:\n",
        "        print(f\"✅ IPOPT instalado exitosamente: {result_final.stdout.strip()}\")\n",
        "        ipopt_found = True\n",
        "\n",
        "# ------------------------------------------------------------\n",
        "# VERIFICACIÓN FINAL Y PRUEBA CON PYOMO\n",
        "# ------------------------------------------------------------\n",
        "print(\"\\n\" + \"=\"*60)\n",
        "print(\"        VERIFICACIÓN FINAL DE INSTALACIÓN\")\n",
        "print(\"=\"*60)\n",
        "\n",
        "# Verificar versión de IPOPT\n",
        "if ipopt_found:\n",
        "    print(\"\\n📋 Información de IPOPT:\")\n",
        "    !ipopt -v 2>/dev/null || echo \"   Instalado pero versión no disponible\"\n",
        "\n",
        "# Probar con Pyomo\n",
        "print(\"\\n🧪 Probando disponibilidad en Pyomo...\")\n",
        "try:\n",
        "    import pyomo.environ as pyo\n",
        "\n",
        "    # Probar IPOPT\n",
        "    solver_ipopt = pyo.SolverFactory('ipopt')\n",
        "    if solver_ipopt.available():\n",
        "        print(\"   ✅ IPOPT disponible en Pyomo\")\n",
        "    else:\n",
        "        print(\"   ⚠️  IPOPT no disponible en Pyomo (intentando alternativas)\")\n",
        "\n",
        "    # Verificar solvers alternativos\n",
        "    solvers_disponibles = []\n",
        "    for solver_name in ['ipopt', 'bonmin', 'couenne', 'baron']:\n",
        "        try:\n",
        "            solver = pyo.SolverFactory(solver_name)\n",
        "            if solver.available():\n",
        "                solvers_disponibles.append(solver_name)\n",
        "        except:\n",
        "            pass\n",
        "\n",
        "    if solvers_disponibles:\n",
        "        print(f\"\\n🎯 Solvers NLP disponibles: {', '.join(solvers_disponibles)}\")\n",
        "    else:\n",
        "        print(\"\\n❌ No se encontraron solvers NLP disponibles\")\n",
        "        print(\"💡 Sugerencia: El código usará fallback a métodos alternativos\")\n",
        "\n",
        "except Exception as e:\n",
        "    print(f\"   ❌ Error al verificar Pyomo: {e}\")\n",
        "\n",
        "print(\"\\n\" + \"=\"*60)\n",
        "print(\"✅ Instalación completada\")\n",
        "print(\"=\"*60)"
      ]
    },
    {
      "cell_type": "markdown",
      "metadata": {
        "id": "model_section"
      },
      "source": [
        "---\n",
        "## 2. Definición del Modelo y Conjuntos\n",
        "\n",
        "Iniciamos creando un **modelo concreto** de Pyomo, donde todos los datos son conocidos a priori. Los conjuntos representan las entidades fundamentales del problema: los puntos de origen (almacenes) y destino."
      ]
    },
    {
      "cell_type": "code",
      "execution_count": 47,
      "metadata": {
        "id": "model_code"
      },
      "outputs": [],
      "source": [
        "# Crear un modelo concreto de optimización\n",
        "model = pyo.ConcreteModel()\n",
        "\n",
        "# --- CONJUNTOS ---\n",
        "# Conjunto de almacenes (orígenes de la mercancía)\n",
        "model.I = pyo.Set(initialize=['A1', 'A2'])\n",
        "\n",
        "# Conjunto de destinos (puntos de entrega)\n",
        "model.J = pyo.Set(initialize=['D1', 'D2', 'D3'])"
      ]
    },
    {
      "cell_type": "markdown",
      "metadata": {
        "id": "params_section"
      },
      "source": [
        "---\n",
        "## 3. Definición de Parámetros\n",
        "\n",
        "Los parámetros son los datos del problema que permanecen constantes durante la optimización. Incluyen:\n",
        "\n",
        "### 3.1 Capacidades y Demandas\n",
        "- **Capacidades:** Límite máximo de unidades que cada almacén puede enviar\n",
        "- **Demandas:** Cantidad requerida en cada destino (debe satisfacerse completamente)"
      ]
    },
    {
      "cell_type": "code",
      "execution_count": 48,
      "metadata": {
        "colab": {
          "base_uri": "https://localhost:8080/"
        },
        "id": "params_code1",
        "outputId": "e131ee1c-8cbc-49dd-a59c-6729bc6ec425"
      },
      "outputs": [
        {
          "output_type": "stream",
          "name": "stdout",
          "text": [
            "📦 Configuración del Sistema:\n",
            "   Capacidad total disponible: 220 unidades\n",
            "   Demanda total requerida: 210 unidades\n",
            "   Balance: 10 unidades de holgura\n"
          ]
        }
      ],
      "source": [
        "# --- PARÁMETROS ---\n",
        "\n",
        "# Capacidades de los almacenes (unidades disponibles)\n",
        "capacidades = {'A1': 100, 'A2': 120}\n",
        "model.C = pyo.Param(model.I, initialize=capacidades)\n",
        "\n",
        "# Demandas de los destinos (unidades requeridas)\n",
        "demandas = {'D1': 80, 'D2': 70, 'D3': 60}\n",
        "model.D = pyo.Param(model.J, initialize=demandas)\n",
        "\n",
        "print(\"📦 Configuración del Sistema:\")\n",
        "print(f\"   Capacidad total disponible: {sum(capacidades.values())} unidades\")\n",
        "print(f\"   Demanda total requerida: {sum(demandas.values())} unidades\")\n",
        "print(f\"   Balance: {sum(capacidades.values()) - sum(demandas.values())} unidades de holgura\")"
      ]
    },
    {
      "cell_type": "markdown",
      "metadata": {
        "id": "costs_section"
      },
      "source": [
        "### 3.2 Estructura de Costos\n",
        "\n",
        "El modelo de costos tiene dos componentes:\n",
        "\n",
        "1. **Costo Base ($CB_{ij}$):** Costo lineal proporcional a las unidades transportadas\n",
        "2. **Penalización Cuadrática ($P_{ij}$):** Costo adicional que crece cuadráticamente con el volumen\n",
        "\n",
        "El costo total de una ruta es: $\\text{Costo} = CB_{ij} \\cdot x_{ij} + P_{ij} \\cdot x_{ij}^2$\n",
        "\n",
        "Esta formulación captura el fenómeno real de **costos marginales crecientes**."
      ]
    },
    {
      "cell_type": "code",
      "execution_count": 49,
      "metadata": {
        "id": "params_code2"
      },
      "outputs": [],
      "source": [
        "# Costos base por unidad para cada ruta (componente lineal)\n",
        "costos_base = {\n",
        "    ('A1', 'D1'): 4, ('A1', 'D2'): 6, ('A1', 'D3'): 9,\n",
        "    ('A2', 'D1'): 5, ('A2', 'D2'): 4, ('A2', 'D3'): 7,\n",
        "}\n",
        "model.CB = pyo.Param(model.I, model.J, initialize=costos_base)\n",
        "\n",
        "# Coeficientes de penalización cuadrática (componente no lineal)\n",
        "# Valores más altos indican mayor penalización por volumen\n",
        "penalizaciones = {\n",
        "    ('A1', 'D1'): 0.01,  ('A1', 'D2'): 0.015, ('A1', 'D3'): 0.02,\n",
        "    ('A2', 'D1'): 0.012, ('A2', 'D2'): 0.018, ('A2', 'D3'): 0.01,\n",
        "}\n",
        "model.P = pyo.Param(model.I, model.J, initialize=penalizaciones)"
      ]
    },
    {
      "cell_type": "markdown",
      "metadata": {
        "id": "vars_section"
      },
      "source": [
        "---\n",
        "## 4. Variables de Decisión\n",
        "\n",
        "Las variables representan las **decisiones que el modelo debe tomar**. En este caso:\n",
        "- $x_{ij}$: Cantidad de unidades a transportar desde el almacén $i$ al destino $j$\n",
        "- Dominio: Reales no negativos (no se pueden enviar cantidades negativas)"
      ]
    },
    {
      "cell_type": "code",
      "execution_count": 50,
      "metadata": {
        "id": "vars_code"
      },
      "outputs": [],
      "source": [
        "# --- VARIABLES DE DECISIÓN ---\n",
        "# Cantidad de unidades a enviar desde el almacén i al destino j\n",
        "# Dominio: NonNegativeReals (x_ij >= 0)\n",
        "model.x = pyo.Var(model.I, model.J, within=pyo.NonNegativeReals)"
      ]
    },
    {
      "cell_type": "markdown",
      "metadata": {
        "id": "objective_section"
      },
      "source": [
        "---\n",
        "## 5. Función Objetivo\n",
        "\n",
        "La función objetivo es **no lineal (cuadrática)** debido al término de penalización. Para cada ruta $(i,j)$, el costo total es:\n",
        "\n",
        "$$\\text{Costo}_{ij} = CB_{ij} \\cdot x_{ij} + P_{ij} \\cdot x_{ij}^2$$\n",
        "\n",
        "Esta formulación asegura que:\n",
        "- Envíos pequeños tienen costo aproximadamente lineal\n",
        "- Envíos grandes son penalizados cuadráticamente\n",
        "- Se incentiva la **diversificación de rutas** en lugar de saturar una sola"
      ]
    },
    {
      "cell_type": "code",
      "execution_count": 51,
      "metadata": {
        "id": "objective_code"
      },
      "outputs": [],
      "source": [
        "# --- FUNCIÓN OBJETIVO ---\n",
        "\n",
        "# Eliminar objetivo anterior si existe\n",
        "if hasattr(model, 'objetivo'):\n",
        "    model.del_component('objetivo')\n",
        "\n",
        "def funcion_objetivo(model):\n",
        "    \"\"\"\n",
        "    Minimizar el costo total de transporte.\n",
        "\n",
        "    El costo incluye una tarifa base más una penalización no lineal\n",
        "    que refleja deseconomías de escala en el transporte.\n",
        "    \"\"\"\n",
        "    costo_total = 0\n",
        "\n",
        "    for i in model.I:\n",
        "        for j in model.J:\n",
        "            # Componente lineal del costo (tarifa base por cantidad)\n",
        "            costo_base = model.CB[i, j] * model.x[i, j]\n",
        "\n",
        "            # Componente no lineal (penalización por volumen)\n",
        "            cantidad = model.x[i, j]\n",
        "            penalizacion = model.P[i, j] * cantidad * cantidad * cantidad\n",
        "\n",
        "            # Sumar ambos componentes\n",
        "            costo_total += costo_base + penalizacion\n",
        "\n",
        "    return costo_total\n",
        "\n",
        "# Definir el objetivo como minimización\n",
        "model.objetivo = pyo.Objective(rule=funcion_objetivo, sense=pyo.minimize)"
      ]
    },
    {
      "cell_type": "markdown",
      "metadata": {
        "id": "constraints_section"
      },
      "source": [
        "---\n",
        "## 6. Restricciones del Modelo\n",
        "\n",
        "Las restricciones definen el **espacio de soluciones factibles**. Un plan de distribución solo es válido si cumple todas las restricciones.\n",
        "\n",
        "### 6.1 Restricción de Capacidad\n",
        "Garantiza que ningún almacén envíe más de su capacidad disponible:\n",
        "$$\\sum_{j \\in J} x_{ij} \\leq C_i, \\quad \\forall i \\in I$$"
      ]
    },
    {
      "cell_type": "code",
      "execution_count": 52,
      "metadata": {
        "id": "constraints_code1"
      },
      "outputs": [],
      "source": [
        "# --- RESTRICCIONES ---\n",
        "\n",
        "# Restricción de capacidad de los almacenes\n",
        "def restriccion_capacidad(model, i):\n",
        "    \"\"\"\n",
        "    El total enviado desde cada almacén no puede exceder su capacidad.\n",
        "\n",
        "    Matemáticamente: Σ_j x_ij <= C_i\n",
        "    \"\"\"\n",
        "    return sum(model.x[i, j] for j in model.J) <= model.C[i]\n",
        "\n",
        "model.rest_capacidad = pyo.Constraint(model.I, rule=restriccion_capacidad)"
      ]
    },
    {
      "cell_type": "markdown",
      "metadata": {
        "id": "demand_section"
      },
      "source": [
        "### 6.2 Restricción de Demanda\n",
        "Asegura que cada destino reciba **exactamente** la cantidad demandada:\n",
        "$$\\sum_{i \\in I} x_{ij} = D_j, \\quad \\forall j \\in J$$\n",
        "\n",
        "Esta es una restricción de **igualdad**, no de desigualdad, lo que significa que la demanda debe satisfacerse completamente (ni más ni menos)."
      ]
    },
    {
      "cell_type": "code",
      "execution_count": 53,
      "metadata": {
        "id": "constraints_code2"
      },
      "outputs": [],
      "source": [
        "# Restricción de satisfacción de la demanda\n",
        "def restriccion_demanda(model, j):\n",
        "    \"\"\"\n",
        "    La demanda de cada destino debe satisfacerse exactamente.\n",
        "\n",
        "    Matemáticamente: Σ_i x_ij = D_j\n",
        "    \"\"\"\n",
        "    return sum(model.x[i, j] for i in model.I) == model.D[j]\n",
        "\n",
        "model.rest_demanda = pyo.Constraint(model.J, rule=restriccion_demanda)"
      ]
    },
    {
      "cell_type": "markdown",
      "metadata": {
        "id": "solve_section"
      },
      "source": [
        "---\n",
        "## 7. Resolución del Modelo\n",
        "\n",
        "Utilizaremos el solver **IPOPT** (Interior Point OPTimizer), especificamente diseñado para problemas de optimización no lineal. IPOPT es ideal para este problema porque:\n",
        "\n",
        "- Maneja eficientemente términos cuadráticos\n",
        "- Garantiza optimalidad local\n",
        "- Es robusto con restricciones de igualdad y desigualdad\n",
        "\n",
        "**Nota:** IPOPT debe estar instalado en el sistema. Si no lo está, se puede usar `glpk` o `cbc` para una aproximación lineal por tramos."
      ]
    },
    {
      "cell_type": "code",
      "execution_count": 54,
      "metadata": {
        "colab": {
          "base_uri": "https://localhost:8080/"
        },
        "id": "solve_code",
        "outputId": "9f1e2417-6036-4917-990e-fe61112b4f90"
      },
      "outputs": [
        {
          "output_type": "stream",
          "name": "stdout",
          "text": [
            "🔄 Resolviendo el modelo de optimización...\n",
            "Ipopt 3.14.19: \n",
            "\n",
            "******************************************************************************\n",
            "This program contains Ipopt, a library for large-scale nonlinear optimization.\n",
            " Ipopt is released as open source code under the Eclipse Public License (EPL).\n",
            "         For more information visit https://github.com/coin-or/Ipopt\n",
            "******************************************************************************\n",
            "\n",
            "This is Ipopt version 3.14.19, running with linear solver MUMPS 5.8.1.\n",
            "\n",
            "Number of nonzeros in equality constraint Jacobian...:        6\n",
            "Number of nonzeros in inequality constraint Jacobian.:        6\n",
            "Number of nonzeros in Lagrangian Hessian.............:        6\n",
            "\n",
            "Total number of variables............................:        6\n",
            "                     variables with only lower bounds:        6\n",
            "                variables with lower and upper bounds:        0\n",
            "                     variables with only upper bounds:        0\n",
            "Total number of equality constraints.................:        3\n",
            "Total number of inequality constraints...............:        2\n",
            "        inequality constraints with only lower bounds:        0\n",
            "   inequality constraints with lower and upper bounds:        0\n",
            "        inequality constraints with only upper bounds:        2\n",
            "\n",
            "iter    objective    inf_pr   inf_du lg(mu)  ||d||  lg(rg) alpha_du alpha_pr  ls\n",
            "   0  3.4999973e-01 8.00e+01 8.75e-01  -1.0 0.00e+00    -  0.00e+00 0.00e+00   0\n",
            "   1  4.1685355e+03 4.56e+00 3.72e+03  -1.0 1.05e+02    -  2.48e-04 9.43e-01h  1\n",
            "   2  4.3523625e+03 2.82e+00 2.30e+03  -1.0 9.36e+00    -  7.85e-01 3.80e-01h  1\n",
            "   3  4.7342293e+03 0.00e+00 8.59e-01  -1.0 7.43e+00    -  1.00e+00 1.00e+00h  1\n",
            "   4  4.7341722e+03 0.00e+00 8.24e-05  -1.0 3.73e-02    -  1.00e+00 1.00e+00f  1\n",
            "   5  4.7340743e+03 0.00e+00 2.75e-06  -2.5 1.87e-02    -  1.00e+00 1.00e+00f  1\n",
            "   6  4.7340708e+03 0.00e+00 2.17e-09  -3.8 6.76e-04    -  1.00e+00 1.00e+00f  1\n",
            "   7  4.7340707e+03 0.00e+00 1.84e-11  -5.7 2.87e-05    -  1.00e+00 1.00e+00f  1\n",
            "   8  4.7340707e+03 0.00e+00 4.26e-14  -8.6 3.54e-07    -  1.00e+00 1.00e+00f  1\n",
            "\n",
            "Number of Iterations....: 8\n",
            "\n",
            "                                   (scaled)                 (unscaled)\n",
            "Objective...............:   4.7340706574293208e+03    4.7340706574293208e+03\n",
            "Dual infeasibility......:   4.2619264093825228e-14    4.2619264093825228e-14\n",
            "Constraint violation....:   0.0000000000000000e+00    0.0000000000000000e+00\n",
            "Variable bound violation:   0.0000000000000000e+00    0.0000000000000000e+00\n",
            "Complementarity.........:   2.5062043421693885e-09    2.5062043421693885e-09\n",
            "Overall NLP error.......:   2.5062043421693885e-09    2.5062043421693885e-09\n",
            "\n",
            "\n",
            "Number of objective function evaluations             = 9\n",
            "Number of objective gradient evaluations             = 9\n",
            "Number of equality constraint evaluations            = 9\n",
            "Number of inequality constraint evaluations          = 9\n",
            "Number of equality constraint Jacobian evaluations   = 9\n",
            "Number of inequality constraint Jacobian evaluations = 9\n",
            "Number of Lagrangian Hessian evaluations             = 8\n",
            "Total seconds in IPOPT                               = 0.019\n",
            "\n",
            "EXIT: Optimal Solution Found.\n",
            "\b\b\b\b\b\b\b\b\b\b\b\b\b\b\b\n",
            "✅ Solución óptima encontrada\n"
          ]
        }
      ],
      "source": [
        "# --- RESOLUCIÓN DEL MODELO ---\n",
        "\n",
        "# Crear una instancia del solver IPOPT\n",
        "solver = pyo.SolverFactory('ipopt')\n",
        "\n",
        "# Resolver el modelo y obtener resultados\n",
        "print(\"🔄 Resolviendo el modelo de optimización...\")\n",
        "results = solver.solve(model, tee=True)  # tee=True muestra el progreso del solver\n",
        "\n",
        "# Verificar el estado de la solución\n",
        "if results.solver.termination_condition == pyo.TerminationCondition.optimal:\n",
        "    print(\"\\n✅ Solución óptima encontrada\")\n",
        "elif results.solver.termination_condition == pyo.TerminationCondition.infeasible:\n",
        "    print(\"\\n❌ El problema es infactible (no hay solución que cumpla todas las restricciones)\")\n",
        "else:\n",
        "    print(f\"\\n⚠️ Estado del solver: {results.solver.termination_condition}\")"
      ]
    },
    {
      "cell_type": "markdown",
      "metadata": {
        "id": "results_section"
      },
      "source": [
        "---\n",
        "## 8. Análisis de Resultados\n",
        "\n",
        "Una vez resuelto el modelo, analizamos la solución óptima y verificamos que cumpla todas las restricciones.\n",
        "\n",
        "### 8.1 Plan de Distribución Óptimo"
      ]
    },
    {
      "cell_type": "code",
      "execution_count": 60,
      "metadata": {
        "colab": {
          "base_uri": "https://localhost:8080/"
        },
        "id": "results_code1",
        "outputId": "92ea3540-3d0a-4ea2-abb6-e56add33aeb0"
      },
      "outputs": [
        {
          "output_type": "stream",
          "name": "stdout",
          "text": [
            "============================================================\n",
            "          RESULTADOS DE LA OPTIMIZACIÓN\n",
            "============================================================\n",
            "\n",
            "💰 Costo Total Mínimo: $4,734.07\n",
            "\n",
            "------------------------------------------------------------\n",
            "📊 DISTRIBUCIÓN ÓPTIMA DE ENVÍOS:\n",
            "------------------------------------------------------------\n",
            "\n",
            "Desde A1:\n",
            "  → D1:   41.02 unidades  |  Costo: $  854.46\n",
            "  → D2:   35.55 unidades  |  Costo: $  887.32\n",
            "  → D3:   23.43 unidades  |  Costo: $  467.93\n",
            "  ───────────────────────────────────────────────────────\n",
            "  Total enviado: 100.00 unidades\n",
            "\n",
            "Desde A2:\n",
            "  → D1:   38.98 unidades  |  Costo: $  905.46\n",
            "  → D2:   34.45 unidades  |  Costo: $  873.63\n",
            "  → D3:   36.57 unidades  |  Costo: $  745.27\n",
            "  ───────────────────────────────────────────────────────\n",
            "  Total enviado: 110.00 unidades\n"
          ]
        }
      ],
      "source": [
        "# --- PRESENTACIÓN DE RESULTADOS ---\n",
        "\n",
        "print(\"=\"*60)\n",
        "print(\"          RESULTADOS DE LA OPTIMIZACIÓN\")\n",
        "print(\"=\"*60)\n",
        "\n",
        "# Valor óptimo de la función objetivo\n",
        "print(f\"\\n💰 Costo Total Mínimo: ${model.objetivo():,.2f}\")\n",
        "print(\"\\n\" + \"-\"*60)\n",
        "\n",
        "# Distribución óptima de envíos\n",
        "print(\"📊 DISTRIBUCIÓN ÓPTIMA DE ENVÍOS:\")\n",
        "print(\"-\"*60)\n",
        "for i in model.I:\n",
        "    print(f\"\\nDesde {i}:\")\n",
        "    total_enviado = 0\n",
        "    for j in model.J:\n",
        "        cantidad = model.x[i, j].value\n",
        "        if cantidad > 0.001:  # Mostrar solo rutas con envío significativo\n",
        "            costo_ruta = cantidad * model.CB[i, j] + model.P[i, j] * cantidad**3\n",
        "            print(f\"  → {j}: {cantidad:>7.2f} unidades  |  Costo: ${costo_ruta:>8.2f}\")\n",
        "            total_enviado += cantidad\n",
        "    print(f\"  {'─'*55}\")\n",
        "    print(f\"  Total enviado: {total_enviado:.2f} unidades\")"
      ]
    },
    {
      "cell_type": "markdown",
      "metadata": {
        "id": "verification_section"
      },
      "source": [
        "### 8.2 Verificación de Restricciones\n",
        "\n",
        "Es crucial verificar que la solución óptima cumpla todas las restricciones del problema."
      ]
    },
    {
      "cell_type": "code",
      "execution_count": 61,
      "metadata": {
        "colab": {
          "base_uri": "https://localhost:8080/"
        },
        "id": "results_code2",
        "outputId": "4a9dca9e-0fad-4cea-c06a-4c8c47ea3308"
      },
      "outputs": [
        {
          "output_type": "stream",
          "name": "stdout",
          "text": [
            "\n",
            "============================================================\n",
            "          VERIFICACIÓN DE RESTRICCIONES\n",
            "============================================================\n",
            "\n",
            "📦 CAPACIDADES DE ALMACENES:\n",
            "------------------------------------------------------------\n",
            "\n",
            "Almacén A1:\n",
            "  Utilizado: 100.00 unidades\n",
            "  Capacidad: 100.00 unidades\n",
            "  Uso: 100.00%\n",
            "  Holgura:  -0.00 unidades\n",
            "  ✅ Restricción cumplida\n",
            "\n",
            "Almacén A2:\n",
            "  Utilizado: 110.00 unidades\n",
            "  Capacidad: 120.00 unidades\n",
            "  Uso:  91.67%\n",
            "  Holgura:  10.00 unidades\n",
            "  ✅ Restricción cumplida\n",
            "\n",
            "------------------------------------------------------------\n",
            "🎯 SATISFACCIÓN DE DEMANDAS:\n",
            "------------------------------------------------------------\n",
            "\n",
            "Destino D1:\n",
            "  Recibido:  80.00 unidades\n",
            "  Requerido:  80.00 unidades\n",
            "  Diferencia: 0.0000 unidades\n",
            "  ✅ Demanda satisfecha exactamente\n",
            "\n",
            "Destino D2:\n",
            "  Recibido:  70.00 unidades\n",
            "  Requerido:  70.00 unidades\n",
            "  Diferencia: 0.0000 unidades\n",
            "  ✅ Demanda satisfecha exactamente\n",
            "\n",
            "Destino D3:\n",
            "  Recibido:  60.00 unidades\n",
            "  Requerido:  60.00 unidades\n",
            "  Diferencia: 0.0000 unidades\n",
            "  ✅ Demanda satisfecha exactamente\n"
          ]
        }
      ],
      "source": [
        "print(\"\\n\" + \"=\"*60)\n",
        "print(\"          VERIFICACIÓN DE RESTRICCIONES\")\n",
        "print(\"=\"*60)\n",
        "\n",
        "# Verificación de capacidades de almacenes\n",
        "print(\"\\n📦 CAPACIDADES DE ALMACENES:\")\n",
        "print(\"-\"*60)\n",
        "for i in model.I:\n",
        "    capacidad_utilizada = sum(model.x[i, j].value for j in model.J)\n",
        "    capacidad_total = model.C[i]\n",
        "    porcentaje = (capacidad_utilizada / capacidad_total) * 100\n",
        "    holgura = capacidad_total - capacidad_utilizada\n",
        "\n",
        "    print(f\"\\nAlmacén {i}:\")\n",
        "    print(f\"  Utilizado: {capacidad_utilizada:>6.2f} unidades\")\n",
        "    print(f\"  Capacidad: {capacidad_total:>6.2f} unidades\")\n",
        "    print(f\"  Uso: {porcentaje:>6.2f}%\")\n",
        "    print(f\"  Holgura: {holgura:>6.2f} unidades\")\n",
        "\n",
        "    # Verificar que no se exceda la capacidad\n",
        "    if capacidad_utilizada <= capacidad_total + 1e-6:\n",
        "        print(f\"  ✅ Restricción cumplida\")\n",
        "    else:\n",
        "        print(f\"  ❌ ¡Restricción violada!\")\n",
        "\n",
        "# Verificación de demandas de destinos\n",
        "print(\"\\n\" + \"-\"*60)\n",
        "print(\"🎯 SATISFACCIÓN DE DEMANDAS:\")\n",
        "print(\"-\"*60)\n",
        "for j in model.J:\n",
        "    demanda_satisfecha = sum(model.x[i, j].value for i in model.I)\n",
        "    demanda_requerida = model.D[j]\n",
        "    diferencia = abs(demanda_satisfecha - demanda_requerida)\n",
        "\n",
        "    print(f\"\\nDestino {j}:\")\n",
        "    print(f\"  Recibido: {demanda_satisfecha:>6.2f} unidades\")\n",
        "    print(f\"  Requerido: {demanda_requerida:>6.2f} unidades\")\n",
        "    print(f\"  Diferencia: {diferencia:>6.4f} unidades\")\n",
        "\n",
        "    # Verificar que la demanda se satisfaga exactamente (con tolerancia numérica)\n",
        "    if diferencia < 1e-4:\n",
        "        print(f\"  ✅ Demanda satisfecha exactamente\")\n",
        "    else:\n",
        "        print(f\"  ⚠️ Pequeña desviación (aceptable por precisión numérica)\")"
      ]
    },
    {
      "cell_type": "markdown",
      "metadata": {
        "id": "analysis_section"
      },
      "source": [
        "### 8.3 Análisis del Impacto de los Costos Cuadráticos\n",
        "\n",
        "Comparemos el costo lineal vs. el costo total (con penalización cuadrática) para entender el efecto de la componente no lineal."
      ]
    },
    {
      "cell_type": "code",
      "execution_count": 62,
      "metadata": {
        "colab": {
          "base_uri": "https://localhost:8080/"
        },
        "id": "analysis_code",
        "outputId": "fb1a7151-02b6-4303-df51-73229452831a"
      },
      "outputs": [
        {
          "output_type": "stream",
          "name": "stdout",
          "text": [
            "\n",
            "============================================================\n",
            "     ANÁLISIS DEL IMPACTO DE COSTOS CUADRÁTICOS\n",
            "============================================================\n",
            "\n",
            "📈 DESGLOSE POR RUTA:\n",
            "------------------------------------------------------------\n",
            "\n",
            "Ruta A1 → D1: 41.02 unidades\n",
            "  Costo lineal: $  164.09\n",
            "  Penalización: $   16.83 (9.3%)\n",
            "  Costo total:  $  180.92\n",
            "\n",
            "Ruta A1 → D2: 35.55 unidades\n",
            "  Costo lineal: $  213.31\n",
            "  Penalización: $   18.96 (8.2%)\n",
            "  Costo total:  $  232.27\n",
            "\n",
            "Ruta A1 → D3: 23.43 unidades\n",
            "  Costo lineal: $  210.83\n",
            "  Penalización: $   10.98 (4.9%)\n",
            "  Costo total:  $  221.80\n",
            "\n",
            "Ruta A2 → D1: 38.98 unidades\n",
            "  Costo lineal: $  194.89\n",
            "  Penalización: $   18.23 (8.6%)\n",
            "  Costo total:  $  213.12\n",
            "\n",
            "Ruta A2 → D2: 34.45 unidades\n",
            "  Costo lineal: $  137.79\n",
            "  Penalización: $   21.36 (13.4%)\n",
            "  Costo total:  $  159.15\n",
            "\n",
            "Ruta A2 → D3: 36.57 unidades\n",
            "  Costo lineal: $  256.02\n",
            "  Penalización: $   13.38 (5.0%)\n",
            "  Costo total:  $  269.40\n",
            "\n",
            "============================================================\n",
            "📊 RESUMEN GLOBAL:\n",
            "============================================================\n",
            "\n",
            "Costo lineal total:      $   1176.93\n",
            "Penalización total:      $     99.73\n",
            "Costo total:             $   4734.07\n",
            "\n",
            "Impacto de penalización: 2.11% del costo total\n"
          ]
        }
      ],
      "source": [
        "print(\"\\n\" + \"=\"*60)\n",
        "print(\"     ANÁLISIS DEL IMPACTO DE COSTOS CUADRÁTICOS\")\n",
        "print(\"=\"*60)\n",
        "\n",
        "costo_lineal_total = 0\n",
        "costo_cuadratico_total = 0\n",
        "\n",
        "print(\"\\n📈 DESGLOSE POR RUTA:\")\n",
        "print(\"-\"*60)\n",
        "\n",
        "for i in model.I:\n",
        "    for j in model.J:\n",
        "        cantidad = model.x[i, j].value\n",
        "        if cantidad > 0.001:\n",
        "            costo_lineal = cantidad * model.CB[i, j]\n",
        "            costo_cuadratico = model.P[i, j] * cantidad**2\n",
        "            costo_total = costo_lineal + costo_cuadratico\n",
        "\n",
        "            costo_lineal_total += costo_lineal\n",
        "            costo_cuadratico_total += costo_cuadratico\n",
        "\n",
        "            print(f\"\\nRuta {i} → {j}: {cantidad:.2f} unidades\")\n",
        "            print(f\"  Costo lineal: ${costo_lineal:>8.2f}\")\n",
        "            print(f\"  Penalización: ${costo_cuadratico:>8.2f} ({(costo_cuadratico/costo_total)*100:.1f}%)\")\n",
        "            print(f\"  Costo total:  ${costo_total:>8.2f}\")\n",
        "\n",
        "print(\"\\n\" + \"=\"*60)\n",
        "print(\"📊 RESUMEN GLOBAL:\")\n",
        "print(\"=\"*60)\n",
        "print(f\"\\nCosto lineal total:      ${costo_lineal_total:>10.2f}\")\n",
        "print(f\"Penalización total:      ${costo_cuadratico_total:>10.2f}\")\n",
        "print(f\"Costo total:             ${model.objetivo():>10.2f}\")\n",
        "print(f\"\\nImpacto de penalización: {(costo_cuadratico_total/model.objetivo())*100:.2f}% del costo total\")"
      ]
    },
    {
      "cell_type": "code",
      "execution_count": 63,
      "metadata": {
        "colab": {
          "base_uri": "https://localhost:8080/",
          "height": 801
        },
        "id": "tfz4Mm7buSCI",
        "outputId": "c6c43190-4547-48ea-9a2c-dae5baba5442"
      },
      "outputs": [
        {
          "output_type": "display_data",
          "data": {
            "text/plain": [
              "<Figure size 1200x800 with 1 Axes>"
            ],
            "image/png": "[encoded data removed]"
          },
          "metadata": {}
        }
      ],
      "source": [
        "# ===================================================================\n",
        "# CELDA FINAL: VISUALIZACIÓN DE LA SOLUCIÓN ÓPTIMA\n",
        "# ===================================================================\n",
        "\n",
        "# --- 1. Preparación de los Datos ---\n",
        "# Extraemos los resultados del modelo de Pyomo a un formato limpio\n",
        "# para poder graficarlos fácilmente. Un DataFrame de Pandas es ideal.\n",
        "\n",
        "plot_data = []\n",
        "for (i, j), var in model.x.items():\n",
        "    # Solo incluimos las rutas que tienen un flujo de envío significativo\n",
        "    if var.value > 0.001:\n",
        "        plot_data.append({\n",
        "            'Origen': i,\n",
        "            'Destino': j,\n",
        "            'Cantidad': var.value\n",
        "        })\n",
        "\n",
        "df_plot = pd.DataFrame(plot_data)\n",
        "\n",
        "# --- 2. Creación del Gráfico ---\n",
        "# Configuramos el estilo del gráfico para una apariencia profesional y moderna.\n",
        "sns.set_theme(style=\"whitegrid\")\n",
        "\n",
        "# Creamos la figura y los ejes con un tamaño adecuado.\n",
        "fig, ax = plt.subplots(figsize=(12, 8))\n",
        "\n",
        "# Generamos el gráfico de barras agrupadas.\n",
        "# - Eje X: Los destinos\n",
        "# - Eje Y: La cantidad de unidades enviadas\n",
        "# - Hue (color): El almacén de origen, para agrupar las barras.\n",
        "barplot = sns.barplot(\n",
        "    data=df_plot,\n",
        "    x='Destino',\n",
        "    y='Cantidad',\n",
        "    hue='Origen',\n",
        "    palette='viridis', # Una paleta de colores atractiva y accesible\n",
        "    ax=ax\n",
        ")\n",
        "\n",
        "# --- 3. Mejora y Personalización del Gráfico ---\n",
        "# Añadimos detalles para que la gráfica sea más clara.\n",
        "\n",
        "# Título principal y etiquetas de los ejes con formato.\n",
        "ax.set_title(\n",
        "    'Plan de Distribución Óptimo por Ruta',\n",
        "    fontsize=18,\n",
        "    fontweight='bold',\n",
        "    pad=20\n",
        ")\n",
        "ax.set_xlabel('Destino', fontsize=14, fontweight='bold')\n",
        "ax.set_ylabel('Unidades Enviadas', fontsize=14, fontweight='bold')\n",
        "\n",
        "# Añadimos etiquetas con el valor exacto sobre cada barra.\n",
        "for p in ax.patches:\n",
        "    ax.annotate(\n",
        "        f'{p.get_height():.2f}',\n",
        "        (p.get_x() + p.get_width() / 2., p.get_height()),\n",
        "        ha='center', va='center',\n",
        "        xytext=(0, 9),\n",
        "        textcoords='offset points',\n",
        "        fontsize=11,\n",
        "        color='black',\n",
        "        fontweight='medium'\n",
        "    )\n",
        "\n",
        "# Mejoramos la leyenda.\n",
        "ax.legend(\n",
        "    title='Almacén de Origen',\n",
        "    fontsize=12,\n",
        "    title_fontsize=13,\n",
        "    loc='upper right'\n",
        ")\n",
        "\n",
        "# Ajustamos el tamaño de las etiquetas de los ejes.\n",
        "ax.tick_params(axis='both', which='major', labelsize=12)\n",
        "\n",
        "# Añadimos una línea horizontal para la demanda total de cada destino como referencia\n",
        "# Esto es opcional, pero añade mucho contexto.\n",
        "demandas_df = pd.DataFrame(list(demandas.items()), columns=['Destino', 'Demanda'])\n",
        "for index, row in demandas_df.iterrows():\n",
        "    ax.hlines(\n",
        "        y=row['Demanda'],\n",
        "        xmin=index-0.4,\n",
        "        xmax=index+0.4,\n",
        "        colors='red',\n",
        "        linestyles='--',\n",
        "        lw=2,\n",
        "        label=f'Demanda {row[\"Destino\"]}' if index == 0 else \"\"\n",
        "    )\n",
        "# Evitar leyendas duplicadas para las líneas de demanda\n",
        "handles, labels = ax.get_legend_handles_labels()\n",
        "by_label = dict(zip(labels, handles))\n",
        "# Adicionamos la linea de demanda a la leyenda\n",
        "by_label['Demanda Total'] = plt.Line2D([0], [0], color='red', linestyle='--', lw=2)\n",
        "\n",
        "\n",
        "ax.legend(by_label.values(), by_label.keys(), title='Leyenda', fontsize=12, title_fontsize=13, loc='upper right')\n",
        "\n",
        "\n",
        "\n",
        "# --- 4. Mostrar el Gráfico ---\n",
        "# Usamos tight_layout para asegurar que todo encaje perfectamente.\n",
        "plt.tight_layout()\n",
        "plt.show()"
      ]
    },
    {
      "cell_type": "markdown",
      "metadata": {
        "id": "conclusions_section"
      },
      "source": [
        "---\n",
        "## 9. Conclusiones\n",
        "\n",
        "### 9.1 Hallazgos Principales\n",
        "\n",
        "Este modelo de optimización con costos cuadráticos revela insights importantes sobre la distribución óptima:\n",
        "\n",
        "1. **Diversificación de rutas:** La penalización cuadrática incentiva distribuir la carga entre múltiples rutas en lugar de saturar las más baratas, reflejando mejor la realidad operativa.\n",
        "\n",
        "2. **Balance costo-volumen:** Las soluciones óptimas balancean el costo base de las rutas con la penalización cuadrática por volumen, evitando envíos excesivamente grandes en una sola ruta.\n",
        "\n",
        "3. **Utilización eficiente:** El modelo encuentra el equilibrio óptimo entre utilizar la capacidad disponible y minimizar costos, respetando todas las restricciones operativas.\n",
        "\n",
        "### 9.2 Ventajas del Modelo Cuadrático\n",
        "\n",
        "**Comparado con modelos lineales tradicionales:**\n",
        "- ✅ Representa mejor los costos marginales crecientes\n",
        "- ✅ Evita soluciones de \"todo o nada\" poco realistas\n",
        "- ✅ Captura efectos de congestión y deseconomías de escala\n",
        "- ✅ Produce planes de distribución más robustos y operativamente viables\n",
        "\n",
        "### 9.3 Aplicaciones Prácticas\n",
        "\n",
        "Este enfoque es especialmente útil en:\n",
        "- **Logística urbana:** Donde la congestión penaliza envíos masivos\n",
        "- **Cadenas de suministro:** Con múltiples puntos de distribución\n",
        "- **Gestión de inventarios:** Donde almacenar grandes volúmenes tiene costos crecientes\n",
        "- **Redes de transporte:** Con capacidades limitadas y efectos de congestión\n",
        "\n",
        "### 9.4 Consideraciones Finales\n",
        "\n",
        "La solución obtenida representa un **óptimo global** (bajo condiciones de convexidad del problema cuadrático), proporcionando un plan de distribución que minimiza costos mientras respeta todas las restricciones operativas.\n",
        "\n",
        "**Recomendación prescriptiva:** Implementar el plan de distribución encontrado, monitoreando que los supuestos del modelo (especialmente los coeficientes de penalización) reflejen adecuadamente la realidad operativa. Si las condiciones cambian, el modelo puede recalibrarse fácilmente modificando los parámetros."
      ]
    },
    {
      "cell_type": "markdown",
      "metadata": {
        "id": "references_section"
      },
      "source": [
        "---\n",
        "## Referencias y Recursos Adicionales\n",
        "\n",
        "- **Pyomo Documentation:** https://pyomo.readthedocs.io/\n",
        "- **IPOPT Solver:** https://coin-or.github.io/Ipopt/\n",
        "- **Nonlinear Programming:** Nocedal, J., & Wright, S. J. (2006). Numerical Optimization"
      ]
    }
  ],
  "metadata": {
    "colab": {
      "provenance": [],
      "include_colab_link": true
    },
    "kernelspec": {
      "display_name": "Python 3",
      "name": "python3"
    },
    "language_info": {
      "name": "python"
    }
  },
  "nbformat": 4,
  "nbformat_minor": 0
}