{
  "nbformat": 4,
  "nbformat_minor": 0,
  "metadata": {
    "colab": {
      "provenance": [],
      "authorship_tag": "ABX9TyN/XmfCfs0p/nMQaiufmKsL"
    },
    "kernelspec": {
      "name": "python3",
      "display_name": "Python 3"
    },
    "language_info": {
      "name": "python"
    }
  },
  "cells": [
    {
      "cell_type": "markdown",
      "source": [
        "# Caso 1: Optimización de Mezcla de Combustibles\n",
        "\n",
        "## Maestría en Inteligencia Artificial y Analítica de Datos (MIAAD)\n",
        "**Alumno:** Javier Augusto Rebull Saucedo (al263483)\n",
        "\n",
        "### Introducción al Problema\n",
        "Una refinería necesita producir **95 barriles** de gasolina mezclando dos tipos de combustibles (A y B). El objetivo es minimizar el costo total, cumpliendo con restricciones de calidad (octanaje), ambientales (emisiones de CO₂) y límites de producción. Crucialmente, solo se pueden usar barriles enteros.\n",
        "\n",
        "**Datos del Problema:**\n",
        "\n",
        "| Combustible | Costo ($/barril) | Octanaje | Emisiones CO₂ (kg/barril) | Límite de Producción |\n",
        "| :---: | :---: | :---: | :---: | :---: |\n",
        "| A | 50 | 92 | 3.0 | 70 barriles |\n",
        "| B | 35 | 70 | 2.1 | 80 barriles |\n",
        "\n",
        "**Requisitos de la Mezcla Final:**\n",
        "- Octanaje Promedio Mínimo: 80.\n",
        "- Emisiones Totales Máximas: 275 kg de CO₂."
      ],
      "metadata": {
        "id": "xJoQJJzqaBv9"
      }
    },
    {
      "cell_type": "code",
      "execution_count": 1,
      "metadata": {
        "colab": {
          "base_uri": "https://localhost:8080/"
        },
        "id": "2QS79KTbZ2iN",
        "outputId": "dd5e2de7-6237-40a1-a9f3-ca86c2e6f27c"
      },
      "outputs": [
        {
          "output_type": "stream",
          "name": "stdout",
          "text": [
            "Requirement already satisfied: pulp in /usr/local/lib/python3.12/dist-packages (3.3.0)\n",
            "Librería PuLP importada correctamente.\n"
          ]
        }
      ],
      "source": [
        "#Instalacion\n",
        "!pip install pulp\n",
        "\n",
        "#Configuración e Instalación de Librerías\n",
        "import pulp\n",
        "import pandas as pd\n",
        "print(\"Librería PuLP importada correctamente.\")"
      ]
    },
    {
      "cell_type": "code",
      "source": [
        "#Definición de Datos y Parámetros\n",
        "\n",
        "# Datos de los combustibles organizados en un diccionario\n",
        "data = {\n",
        "    'A': {'costo': 50, 'octanaje': 92, 'emisiones': 3.0, 'limite_max': 70},\n",
        "    'B': {'costo': 35, 'octanaje': 70, 'emisiones': 2.1, 'limite_max': 80}\n",
        "}\n",
        "combustibles = data.keys()\n",
        "\n",
        "# Requerimientos de la mezcla final\n",
        "produccion_requerida = 95\n",
        "octanaje_minimo = 80\n",
        "emisiones_maximas = 275"
      ],
      "metadata": {
        "id": "R_d2DY6CaJxQ"
      },
      "execution_count": 2,
      "outputs": []
    },
    {
      "cell_type": "markdown",
      "source": [
        "## Formulación del Modelo Matemático\n",
        "\n",
        "Implementamos el modelo de Programación Lineal Entera (ILP)."
      ],
      "metadata": {
        "id": "U98MSB-PcFlQ"
      }
    },
    {
      "cell_type": "code",
      "source": [
        "# 1. Inicializar el modelo (Minimización de costos)\n",
        "model = pulp.LpProblem(\"Mezcla_Combustibles_Costo_Minimo\", pulp.LpMinimize)\n",
        "\n",
        "# 2. Definir las Variables de Decisión\n",
        "# X_A, X_B: Número de barriles de A y B.\n",
        "# Deben ser enteras (cat='Integer') y no negativas (lowBound=0).\n",
        "X = pulp.LpVariable.dicts(\"Barriles\", combustibles, lowBound=0, cat='Integer')\n",
        "\n",
        "# 3. Definir la Función Objetivo\n",
        "# Minimizar Z = 50*X_A + 35*X_B\n",
        "model += pulp.lpSum([data[i]['costo'] * X[i] for i in combustibles]), \"Costo_Total\""
      ],
      "metadata": {
        "id": "RXQTMUVCcIGS"
      },
      "execution_count": 3,
      "outputs": []
    },
    {
      "cell_type": "code",
      "source": [
        "# 4. Definir las Restricciones\n",
        "\n",
        "# R1: Producción Total (X_A + X_B = 95)\n",
        "model += pulp.lpSum([X[i] for i in combustibles]) == produccion_requerida, \"Produccion_Total\"\n",
        "\n",
        "# R2: Octanaje Mínimo (92*X_A + 70*X_B >= 80 * 95)\n",
        "# Se requiere linealizar la restricción de promedio. 80 * 95 = 7600.\n",
        "octanaje_requerido_total = octanaje_minimo * produccion_requerida\n",
        "model += pulp.lpSum([data[i]['octanaje'] * X[i] for i in combustibles]) >= octanaje_requerido_total, \"Octanaje_Minimo\"\n",
        "\n",
        "# R3: Límite de Emisiones (3.0*X_A + 2.1*X_B <= 275)\n",
        "model += pulp.lpSum([data[i]['emisiones'] * X[i] for i in combustibles]) <= emisiones_maximas, \"Emisiones_CO2\"\n",
        "\n",
        "# R4: Límites de Producción Individuales (X_A <= 70, X_B <= 80)\n",
        "for i in combustibles:\n",
        "    model += X[i] <= data[i]['limite_max'], f\"Limite_Max_{i}\"\n",
        "\n",
        "print(\"Modelo formulado correctamente.\")\n",
        "# print(model) # Descomentar para ver la formulación completa"
      ],
      "metadata": {
        "colab": {
          "base_uri": "https://localhost:8080/"
        },
        "id": "EV5MjH3wcK6k",
        "outputId": "446697aa-2e02-40c9-a662-3270d9388ebf"
      },
      "execution_count": 4,
      "outputs": [
        {
          "output_type": "stream",
          "name": "stdout",
          "text": [
            "Modelo formulado correctamente.\n"
          ]
        }
      ]
    },
    {
      "cell_type": "code",
      "source": [
        "# Resolución del Modelo\n",
        "\n",
        "# 5. Resolver el modelo\n",
        "print(\"Iniciando resolución...\")\n",
        "model.solve()\n",
        "\n",
        "# Verificar el estado de la solución\n",
        "estado = pulp.LpStatus[model.status]\n",
        "print(f\"Estado de la solución: {estado}\")"
      ],
      "metadata": {
        "colab": {
          "base_uri": "https://localhost:8080/"
        },
        "id": "jong5Uq8cQDG",
        "outputId": "7e2c6d50-e9a8-47de-f7a5-c43ee425b488"
      },
      "execution_count": 5,
      "outputs": [
        {
          "output_type": "stream",
          "name": "stdout",
          "text": [
            "Iniciando resolución...\n",
            "Estado de la solución: Optimal\n"
          ]
        }
      ]
    },
    {
      "cell_type": "code",
      "source": [
        "# Interpretación y Presentación de Resultados\n",
        "\n",
        "# 6. Interpretar y mostrar los resultados\n",
        "if estado == 'Optimal':\n",
        "    print(\"\\n\" + \"=\"*40)\n",
        "    print(\"  SOLUCIÓN ÓPTIMA ENCONTRADA\")\n",
        "    print(\"=\"*40)\n",
        "\n",
        "    # Mostrar el Costo Mínimo\n",
        "    print(f\"Costo Mínimo Total: ${pulp.value(model.objective):,.2f}\")\n",
        "\n",
        "    # Mostrar la mezcla óptima\n",
        "    print(\"\\n--- Plan de Mezcla Óptimo ---\")\n",
        "    for i in combustibles:\n",
        "        print(f\" - Combustible {i}: {X[i].varValue:.0f} barriles\")\n",
        "\n",
        "    # Verificación de métricas clave\n",
        "    print(\"\\n--- Verificación de Métricas ---\")\n",
        "    barriles_A = X['A'].varValue\n",
        "    barriles_B = X['B'].varValue\n",
        "\n",
        "    # Verificar que los valores se recuperaron correctamente\n",
        "    if barriles_A is not None and barriles_B is not None:\n",
        "        # Octanaje Promedio\n",
        "        octanaje_final = (data['A']['octanaje'] * barriles_A + data['B']['octanaje'] * barriles_B) / produccion_requerida\n",
        "        print(f\" - Octanaje Promedio: {octanaje_final:.2f} (Mínimo requerido: {octanaje_minimo})\")\n",
        "\n",
        "        # Emisiones Totales\n",
        "        emisiones_finales = (data['A']['emisiones'] * barriles_A + data['B']['emisiones'] * barriles_B)\n",
        "        print(f\" - Emisiones CO2: {emisiones_finales:.1f} kg (Máximo permitido: {emisiones_maximas} kg)\")\n",
        "    else:\n",
        "        print(\"Error al recuperar los valores de las variables.\")\n",
        "\n",
        "    print(\"=\"*40)\n",
        "\n",
        "else:\n",
        "    print(f\"No se encontró una solución óptima. Estado: {estado}. Revisar las restricciones del modelo.\")"
      ],
      "metadata": {
        "colab": {
          "base_uri": "https://localhost:8080/"
        },
        "id": "XFQ3MqbjcsE2",
        "outputId": "cbd93d9e-0bfe-4054-e892-0bdae7ed98de"
      },
      "execution_count": 6,
      "outputs": [
        {
          "output_type": "stream",
          "name": "stdout",
          "text": [
            "\n",
            "========================================\n",
            "  SOLUCIÓN ÓPTIMA ENCONTRADA\n",
            "========================================\n",
            "Costo Mínimo Total: $3,985.00\n",
            "\n",
            "--- Plan de Mezcla Óptimo ---\n",
            " - Combustible A: 44 barriles\n",
            " - Combustible B: 51 barriles\n",
            "\n",
            "--- Verificación de Métricas ---\n",
            " - Octanaje Promedio: 80.19 (Mínimo requerido: 80)\n",
            " - Emisiones CO2: 239.1 kg (Máximo permitido: 275 kg)\n",
            "========================================\n"
          ]
        }
      ]
    },
    {
      "cell_type": "markdown",
      "source": [
        "## Decisión Prescrita\n",
        "\n",
        "El modelo de optimización ILP prescribe la siguiente estrategia para minimizar los costos:\n",
        "\n",
        "- **Usar 44 barriles de Combustible A.**\n",
        "- **Usar 51 barriles de Combustible B.**\n",
        "\n",
        "El costo mínimo total es de **$3,985.00**.\n",
        "\n",
        "**Análisis:** La solución muestra que la restricción de octanaje es el factor limitante. Para minimizar el costo, el modelo busca maximizar el uso del Combustible B (más barato). Sin embargo, necesita al menos 44 barriles del Combustible A (más caro, pero de alto octanaje) para alcanzar el promedio mínimo requerido de 80. El octanaje final es 80.19, muy cercano al límite."
      ],
      "metadata": {
        "id": "eoqodx3ocx7g"
      }
    }
  ]
}