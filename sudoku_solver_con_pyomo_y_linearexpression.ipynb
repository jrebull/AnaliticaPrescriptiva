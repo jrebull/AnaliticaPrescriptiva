{
  "nbformat": 4,
  "nbformat_minor": 0,
  "metadata": {
    "colab": {
      "provenance": [],
      "authorship_tag": "ABX9TyM1HUqY23BrTe8OliYRcHTJ",
      "include_colab_link": true
    },
    "kernelspec": {
      "name": "python3",
      "display_name": "Python 3"
    },
    "language_info": {
      "name": "python"
    }
  },
  "cells": [
    {
      "cell_type": "markdown",
      "metadata": {
        "id": "view-in-github",
        "colab_type": "text"
      },
      "source": [
        "<a href=\"https://colab.research.google.com/github/jrebull/AnaliticaPrescriptiva/blob/main/sudoku_solver_con_pyomo_y_linearexpression.ipynb\" target=\"_parent\"><img src=\"https://colab.research.google.com/assets/colab-badge.svg\" alt=\"Open In Colab\"/></a>"
      ]
    },
    {
      "cell_type": "markdown",
      "source": [
        "#  sudoku-solver-con-pyomo-y-linearexpression\n",
        "\n",
        "Este notebook resuelve cualquier puzzle de Sudoku utilizando **Programación Lineal Entera** con la librería **Pyomo** en Python.\n",
        "\n",
        "## Características Principales\n",
        "\n",
        "- **Modelo Matemático**: El Sudoku se modela como un problema de satisfacción de restricciones, donde cada celda es una variable de decisión.\n",
        "- **Optimización de Rendimiento**: Se utiliza `LinearExpression` para construir las restricciones del modelo. Este método es significativamente más rápido que la sobrecarga de operadores tradicional de Pyomo (`sum()`), especialmente para modelos grandes, ya que evita la creación de múltiples objetos intermedios.\n",
        "- **Comparación**: El notebook incluye una comparación de rendimiento directa entre el método optimizado y el método tradicional para demostrar la ganancia en velocidad.\n",
        "\n",
        "**Autor:** Alex / Angel / Javier / Nohemi   \n",
        "**Fecha:** 2025"
      ],
      "metadata": {
        "id": "cAbcleG3MBmy"
      }
    },
    {
      "cell_type": "markdown",
      "source": [
        "Celda 2: Instalación e Importaciones (Código)\n",
        "Esta primera celda de código instala las dependencias necesarias y luego importa todas las librerías que usaremos."
      ],
      "metadata": {
        "id": "eP4J11bjMO1o"
      }
    },
    {
      "cell_type": "code",
      "execution_count": 1,
      "metadata": {
        "colab": {
          "base_uri": "https://localhost:8080/"
        },
        "id": "N6xCXC4YLBJQ",
        "outputId": "3a46f19b-0f31-4fc5-87f2-c753d224c13e"
      },
      "outputs": [
        {
          "output_type": "stream",
          "name": "stdout",
          "text": [
            "Selecting previously unselected package libsuitesparseconfig5:amd64.\n",
            "(Reading database ... 126435 files and directories currently installed.)\n",
            "Preparing to unpack .../libsuitesparseconfig5_1%3a5.10.1+dfsg-4build1_amd64.deb ...\n",
            "Unpacking libsuitesparseconfig5:amd64 (1:5.10.1+dfsg-4build1) ...\n",
            "Selecting previously unselected package libamd2:amd64.\n",
            "Preparing to unpack .../libamd2_1%3a5.10.1+dfsg-4build1_amd64.deb ...\n",
            "Unpacking libamd2:amd64 (1:5.10.1+dfsg-4build1) ...\n",
            "Selecting previously unselected package libcolamd2:amd64.\n",
            "Preparing to unpack .../libcolamd2_1%3a5.10.1+dfsg-4build1_amd64.deb ...\n",
            "Unpacking libcolamd2:amd64 (1:5.10.1+dfsg-4build1) ...\n",
            "Selecting previously unselected package libglpk40:amd64.\n",
            "Preparing to unpack .../libglpk40_5.0-1_amd64.deb ...\n",
            "Unpacking libglpk40:amd64 (5.0-1) ...\n",
            "Selecting previously unselected package glpk-utils.\n",
            "Preparing to unpack .../glpk-utils_5.0-1_amd64.deb ...\n",
            "Unpacking glpk-utils (5.0-1) ...\n",
            "Setting up libsuitesparseconfig5:amd64 (1:5.10.1+dfsg-4build1) ...\n",
            "Setting up libamd2:amd64 (1:5.10.1+dfsg-4build1) ...\n",
            "Setting up libcolamd2:amd64 (1:5.10.1+dfsg-4build1) ...\n",
            "Setting up libglpk40:amd64 (5.0-1) ...\n",
            "Setting up glpk-utils (5.0-1) ...\n",
            "Processing triggers for man-db (2.10.2-1) ...\n",
            "Processing triggers for libc-bin (2.35-0ubuntu3.8) ...\n",
            "/sbin/ldconfig.real: /usr/local/lib/libtcm_debug.so.1 is not a symbolic link\n",
            "\n",
            "/sbin/ldconfig.real: /usr/local/lib/libhwloc.so.15 is not a symbolic link\n",
            "\n",
            "/sbin/ldconfig.real: /usr/local/lib/libtbbmalloc.so.2 is not a symbolic link\n",
            "\n",
            "/sbin/ldconfig.real: /usr/local/lib/libumf.so.0 is not a symbolic link\n",
            "\n",
            "/sbin/ldconfig.real: /usr/local/lib/libtbbbind_2_0.so.3 is not a symbolic link\n",
            "\n",
            "/sbin/ldconfig.real: /usr/local/lib/libtbbbind.so.3 is not a symbolic link\n",
            "\n",
            "/sbin/ldconfig.real: /usr/local/lib/libur_adapter_level_zero.so.0 is not a symbolic link\n",
            "\n",
            "/sbin/ldconfig.real: /usr/local/lib/libtbb.so.12 is not a symbolic link\n",
            "\n",
            "/sbin/ldconfig.real: /usr/local/lib/libur_adapter_opencl.so.0 is not a symbolic link\n",
            "\n",
            "/sbin/ldconfig.real: /usr/local/lib/libtbbbind_2_5.so.3 is not a symbolic link\n",
            "\n",
            "/sbin/ldconfig.real: /usr/local/lib/libtcm.so.1 is not a symbolic link\n",
            "\n",
            "/sbin/ldconfig.real: /usr/local/lib/libtbbmalloc_proxy.so.2 is not a symbolic link\n",
            "\n",
            "/sbin/ldconfig.real: /usr/local/lib/libur_adapter_level_zero_v2.so.0 is not a symbolic link\n",
            "\n",
            "/sbin/ldconfig.real: /usr/local/lib/libur_loader.so.0 is not a symbolic link\n",
            "\n",
            "✅ Instalaciones completas. Importando librerías...\n",
            "👍 ¡Todo listo!\n"
          ]
        }
      ],
      "source": [
        "# ===================================================================\n",
        "# PASO 1: INSTALACIÓN DE LIBRERÍAS Y SOLVER\n",
        "# ===================================================================\n",
        "# Usamos \"!\" para ejecutar comandos de la terminal desde la celda.\n",
        "# -q es para que la instalación sea \"silenciosa\".\n",
        "\n",
        "# Instalamos la librería Pyomo para modelado de optimización\n",
        "!pip install -q pyomo\n",
        "\n",
        "# Instalamos un solver (GLPK). Pyomo lo necesita para resolver los modelos.\n",
        "!apt-get install -y -qq glpk-utils\n",
        "\n",
        "\n",
        "# ===================================================================\n",
        "# PASO 2: IMPORTACIÓN DE LIBRERÍAS A PYTHON\n",
        "# ===================================================================\n",
        "print(\"✅ Instalaciones completas. Importando librerías...\")\n",
        "\n",
        "import time\n",
        "import numpy as np\n",
        "import pyomo.environ as pyo\n",
        "from pyomo.common.timing import TicTocTimer, report_timing\n",
        "from pyomo.core.expr.numeric_expr import LinearExpression\n",
        "\n",
        "print(\"👍 ¡Todo listo!\")"
      ]
    },
    {
      "cell_type": "markdown",
      "source": [
        "Celda 3: Funciones de Configuración y Utilidades (Código)\n",
        "Aquí definimos funciones auxiliares y creamos el mapeo de las subcuadrículas que será usado por el modelo."
      ],
      "metadata": {
        "id": "F2F1MmvWNFAm"
      }
    },
    {
      "cell_type": "code",
      "source": [
        "# ===========================\n",
        "# CONFIGURACIÓN Y UTILIDADES\n",
        "# ===========================\n",
        "\n",
        "def crear_mapeo_subcuadriculas():\n",
        "    \"\"\"\n",
        "    Crea un diccionario que mapea cada subcuadrícula a sus celdas correspondientes.\n",
        "    \"\"\"\n",
        "    mapeo = {}\n",
        "    for k in range(1, 10):\n",
        "        fila_base = ((k - 1) // 3) * 3\n",
        "        col_base = ((k - 1) % 3) * 3\n",
        "        celdas = [(fila_base + i + 1, col_base + j + 1) for i in range(3) for j in range(3)]\n",
        "        mapeo[k] = celdas\n",
        "    return mapeo\n",
        "\n",
        "# Mapeo global de subcuadrículas, disponible para todas las funciones\n",
        "MAPEO_SUBCUADRICULAS = crear_mapeo_subcuadriculas()\n",
        "\n",
        "def imprimir_sudoku(matriz, titulo=\"Sudoku\"):\n",
        "    \"\"\"\n",
        "    Imprime un Sudoku de forma legible en la consola.\n",
        "    \"\"\"\n",
        "    print(f\"\\n{titulo}\")\n",
        "    print(\"╔═══════╤═══════╤═══════╗\")\n",
        "\n",
        "    # Convertir lista de tuplas a matriz si es necesario\n",
        "    if not isinstance(matriz, np.ndarray):\n",
        "        temp = np.zeros((9, 9), dtype=int)\n",
        "        for (f, c, v) in matriz:\n",
        "            temp[f-1][c-1] = v\n",
        "        matriz = temp\n",
        "\n",
        "    for i in range(9):\n",
        "        if i > 0 and i % 3 == 0:\n",
        "            print(\"╟───────┼───────┼───────╢\")\n",
        "        fila = \"║\"\n",
        "        for j in range(9):\n",
        "            if j > 0 and j % 3 == 0:\n",
        "                fila += \"│\"\n",
        "            valor = matriz[i][j]\n",
        "            fila += f\" {valor} \" if valor != 0 else \" · \"\n",
        "        fila += \"║\"\n",
        "        print(fila)\n",
        "\n",
        "    print(\"╚═══════╧═══════╧═══════╝\")\n",
        "\n",
        "print(\"✓ Funciones de utilidad cargadas.\")"
      ],
      "metadata": {
        "colab": {
          "base_uri": "https://localhost:8080/"
        },
        "id": "2zCaY5HOM-Jx",
        "outputId": "3fc1339d-6520-4a3c-b13b-4267981d6c90"
      },
      "execution_count": 2,
      "outputs": [
        {
          "output_type": "stream",
          "name": "stdout",
          "text": [
            "✓ Funciones de utilidad cargadas.\n"
          ]
        }
      ]
    },
    {
      "cell_type": "markdown",
      "source": [
        "Celda 4: Definición del Modelo Optimizado (Código)\n",
        "Esta es la celda principal donde se construye el modelo de Pyomo usando la técnica optimizada con LinearExpression."
      ],
      "metadata": {
        "id": "HK_dbC5PNLYy"
      }
    },
    {
      "cell_type": "code",
      "source": [
        "# ==========================================\n",
        "# MODELO OPTIMIZADO CON LINEAR EXPRESSION\n",
        "# ==========================================\n",
        "\n",
        "def crear_modelo_sudoku_optimizado(tablero_inicial):\n",
        "    \"\"\"\n",
        "    Crea un modelo de Sudoku optimizado usando LinearExpression para todas las restricciones.\n",
        "    \"\"\"\n",
        "    modelo = pyo.ConcreteModel(name=\"Sudoku_Optimizado\")\n",
        "\n",
        "    # ===== CONJUNTOS =====\n",
        "    modelo.FILAS = pyo.RangeSet(1, 9)\n",
        "    modelo.COLUMNAS = pyo.RangeSet(1, 9)\n",
        "    modelo.VALORES = pyo.RangeSet(1, 9)\n",
        "    modelo.SUBCUADRICULAS = pyo.RangeSet(1, 9)\n",
        "\n",
        "    # ===== VARIABLES DE DECISIÓN =====\n",
        "    modelo.y = pyo.Var(modelo.FILAS, modelo.COLUMNAS, modelo.VALORES, within=pyo.Binary)\n",
        "\n",
        "    # ===== FIJAR VALORES INICIALES (PISTAS) =====\n",
        "    for (fila, col, valor) in tablero_inicial:\n",
        "        modelo.y[fila, col, valor].fix(1)\n",
        "        for v in modelo.VALORES:\n",
        "            if v != valor:\n",
        "                modelo.y[fila, col, v].fix(0)\n",
        "\n",
        "    # ===== FUNCIÓN OBJETIVO (TRIVIAL) =====\n",
        "    modelo.objetivo = pyo.Objective(expr=1.0)\n",
        "\n",
        "    # ===========================\n",
        "    # RESTRICCIONES CON LINEAR EXPRESSION\n",
        "    # ===========================\n",
        "\n",
        "    # 1. Exactamente un valor por celda\n",
        "    def restriccion_unicidad_celda(modelo, f, c):\n",
        "        variables = [modelo.y[f, c, v] for v in modelo.VALORES]\n",
        "        return LinearExpression(linear_vars=variables, linear_coefs=[1.0]*9) == 1\n",
        "    modelo.unicidad_celda = pyo.Constraint(modelo.FILAS, modelo.COLUMNAS, rule=restriccion_unicidad_celda)\n",
        "\n",
        "    # 2. Cada valor aparece una vez por fila\n",
        "    def restriccion_fila(modelo, f, v):\n",
        "        variables = [modelo.y[f, c, v] for c in modelo.COLUMNAS]\n",
        "        return LinearExpression(linear_vars=variables, linear_coefs=[1.0]*9) == 1\n",
        "    modelo.restriccion_fila = pyo.Constraint(modelo.FILAS, modelo.VALORES, rule=restriccion_fila)\n",
        "\n",
        "    # 3. Cada valor aparece una vez por columna\n",
        "    def restriccion_columna(modelo, c, v):\n",
        "        variables = [modelo.y[f, c, v] for f in modelo.FILAS]\n",
        "        return LinearExpression(linear_vars=variables, linear_coefs=[1.0]*9) == 1\n",
        "    modelo.restriccion_columna = pyo.Constraint(modelo.COLUMNAS, modelo.VALORES, rule=restriccion_columna)\n",
        "\n",
        "    # 4. Cada valor aparece una vez por subcuadrícula\n",
        "    def restriccion_subcuadricula(modelo, s, v):\n",
        "        celdas = MAPEO_SUBCUADRICULAS[s]\n",
        "        variables = [modelo.y[f, c, v] for (f, c) in celdas]\n",
        "        return LinearExpression(linear_vars=variables, linear_coefs=[1.0]*9) == 1\n",
        "    modelo.restriccion_subcuadricula = pyo.Constraint(modelo.SUBCUADRICULAS, modelo.VALORES, rule=restriccion_subcuadricula)\n",
        "\n",
        "    return modelo\n",
        "\n",
        "print(\"✓ Función para crear el modelo optimizado cargada.\")"
      ],
      "metadata": {
        "colab": {
          "base_uri": "https://localhost:8080/"
        },
        "id": "7NpEWxSfNNun",
        "outputId": "727cef58-a52e-4b8e-af25-c6c8cb700434"
      },
      "execution_count": 3,
      "outputs": [
        {
          "output_type": "stream",
          "name": "stdout",
          "text": [
            "✓ Función para crear el modelo optimizado cargada.\n"
          ]
        }
      ]
    },
    {
      "cell_type": "markdown",
      "source": [
        "Celda 5: Funciones de Solución y Extracción (Código)\n",
        "Estas funciones toman el modelo, lo envían al solver y procesan los resultados."
      ],
      "metadata": {
        "id": "MThgMX_9NTGS"
      }
    },
    {
      "cell_type": "code",
      "source": [
        "# ===========================\n",
        "# FUNCIONES DE SOLUCIÓN\n",
        "# ===========================\n",
        "\n",
        "def resolver_sudoku(tablero_inicial, modelo_func, solver='glpk', mostrar_tiempos=True):\n",
        "    \"\"\"\n",
        "    Función genérica para resolver un Sudoku dado un tablero y una función de creación de modelo.\n",
        "    \"\"\"\n",
        "    tiempo_inicio_total = time.time()\n",
        "\n",
        "    # Construir modelo\n",
        "    print(f\"\\nConstruyendo modelo ({modelo_func.__name__})...\")\n",
        "    tiempo_inicio_construccion = time.time()\n",
        "    modelo = modelo_func(tablero_inicial)\n",
        "    tiempo_construccion = time.time() - tiempo_inicio_construccion\n",
        "\n",
        "    # Resolver modelo\n",
        "    print(f\"Resolviendo con {solver}...\")\n",
        "    opt = pyo.SolverFactory(solver)\n",
        "    tiempo_inicio_solucion = time.time()\n",
        "    resultado = opt.solve(modelo, tee=False)\n",
        "    tiempo_solucion = time.time() - tiempo_inicio_solucion\n",
        "\n",
        "    tiempo_total = time.time() - tiempo_inicio_total\n",
        "\n",
        "    # Verificar y extraer solución\n",
        "    if resultado.solver.termination_condition != pyo.TerminationCondition.optimal:\n",
        "        print(\"\\n¡No se encontró solución óptima!\")\n",
        "        return None, tiempo_construccion, tiempo_solucion, tiempo_total\n",
        "\n",
        "    solucion = np.zeros((9, 9), dtype=int)\n",
        "    for f in modelo.FILAS:\n",
        "        for c in modelo.COLUMNAS:\n",
        "            for v in modelo.VALORES:\n",
        "                if pyo.value(modelo.y[f, c, v]) >= 0.5:\n",
        "                    solucion[f-1][c-1] = v\n",
        "                    break\n",
        "\n",
        "    if mostrar_tiempos:\n",
        "        print(\"\\n\" + \"=\"*40)\n",
        "        print(\"ESTADÍSTICAS DE RENDIMIENTO\")\n",
        "        print(f\"Tiempo de construcción: {tiempo_construccion:.4f} s\")\n",
        "        print(f\"Tiempo de solución: {tiempo_solucion:.4f} s\")\n",
        "        print(f\"Tiempo total: {tiempo_total:.4f} s\")\n",
        "        print(\"=\"*40)\n",
        "\n",
        "    return solucion, tiempo_construccion, tiempo_solucion, tiempo_total\n",
        "\n",
        "print(\"✓ Función para resolver y extraer la solución cargada.\")"
      ],
      "metadata": {
        "colab": {
          "base_uri": "https://localhost:8080/"
        },
        "id": "lz32580ENU_j",
        "outputId": "66a4e50b-fb4b-47ae-ecf1-09a9bf1dacfe"
      },
      "execution_count": 4,
      "outputs": [
        {
          "output_type": "stream",
          "name": "stdout",
          "text": [
            "✓ Función para resolver y extraer la solución cargada.\n"
          ]
        }
      ]
    },
    {
      "cell_type": "markdown",
      "source": [
        "Celda 6: Ejecución Principal (Resolver un Sudoku) (Código)\n",
        "¡Aquí es donde ocurre la magia! Definimos un puzzle y lo resolvemos."
      ],
      "metadata": {
        "id": "vlhxC07CNbjL"
      }
    },
    {
      "cell_type": "code",
      "source": [
        "# ===========================\n",
        "# EJECUCIÓN DEL SOLUCIONADOR\n",
        "# ===========================\n",
        "\n",
        "# Puzzle de ejemplo (considerado difícil)\n",
        "sudoku_dificil = [\n",
        "    (1,1,5), (1,2,3), (1,5,7),\n",
        "    (2,1,6), (2,4,1), (2,5,9), (2,6,5),\n",
        "    (3,2,9), (3,3,8), (3,8,6),\n",
        "    (4,1,8), (4,5,6), (4,9,3),\n",
        "    (5,1,4), (5,4,8), (5,6,3), (5,9,1),\n",
        "    (6,1,7), (6,5,2), (6,9,6),\n",
        "    (7,2,6), (7,7,2), (7,8,8),\n",
        "    (8,4,4), (8,5,1), (8,6,9), (8,9,5),\n",
        "    (9,5,8), (9,8,7), (9,9,9)\n",
        "]\n",
        "\n",
        "print(\"### RESOLVIENDO PUZZLE DIFÍCIL CON MÉTODO OPTIMIZADO ###\")\n",
        "imprimir_sudoku(sudoku_dificil, \"PUZZLE INICIAL\")\n",
        "\n",
        "# Resolver usando la función de modelo optimizado\n",
        "solucion_opt, _, _, _ = resolver_sudoku(sudoku_dificil, crear_modelo_sudoku_optimizado)\n",
        "\n",
        "if solucion_opt is not None:\n",
        "    imprimir_sudoku(solucion_opt, \"SOLUCIÓN ENCONTRADA\")"
      ],
      "metadata": {
        "colab": {
          "base_uri": "https://localhost:8080/"
        },
        "id": "T7RuqchdNaXK",
        "outputId": "4710540c-586a-420d-af76-66be6c0f661d"
      },
      "execution_count": 5,
      "outputs": [
        {
          "output_type": "stream",
          "name": "stdout",
          "text": [
            "### RESOLVIENDO PUZZLE DIFÍCIL CON MÉTODO OPTIMIZADO ###\n",
            "\n",
            "PUZZLE INICIAL\n",
            "╔═══════╤═══════╤═══════╗\n",
            "║ 5  3  · │ ·  7  · │ ·  ·  · ║\n",
            "║ 6  ·  · │ 1  9  5 │ ·  ·  · ║\n",
            "║ ·  9  8 │ ·  ·  · │ ·  6  · ║\n",
            "╟───────┼───────┼───────╢\n",
            "║ 8  ·  · │ ·  6  · │ ·  ·  3 ║\n",
            "║ 4  ·  · │ 8  ·  3 │ ·  ·  1 ║\n",
            "║ 7  ·  · │ ·  2  · │ ·  ·  6 ║\n",
            "╟───────┼───────┼───────╢\n",
            "║ ·  6  · │ ·  ·  · │ 2  8  · ║\n",
            "║ ·  ·  · │ 4  1  9 │ ·  ·  5 ║\n",
            "║ ·  ·  · │ ·  8  · │ ·  7  9 ║\n",
            "╚═══════╧═══════╧═══════╝\n",
            "\n",
            "Construyendo modelo (crear_modelo_sudoku_optimizado)...\n",
            "Resolviendo con glpk...\n",
            "\n",
            "========================================\n",
            "ESTADÍSTICAS DE RENDIMIENTO\n",
            "Tiempo de construcción: 0.0080 s\n",
            "Tiempo de solución: 0.0347 s\n",
            "Tiempo total: 0.0429 s\n",
            "========================================\n",
            "\n",
            "SOLUCIÓN ENCONTRADA\n",
            "╔═══════╤═══════╤═══════╗\n",
            "║ 5  3  4 │ 6  7  8 │ 9  1  2 ║\n",
            "║ 6  7  2 │ 1  9  5 │ 3  4  8 ║\n",
            "║ 1  9  8 │ 3  4  2 │ 5  6  7 ║\n",
            "╟───────┼───────┼───────╢\n",
            "║ 8  5  9 │ 7  6  1 │ 4  2  3 ║\n",
            "║ 4  2  6 │ 8  5  3 │ 7  9  1 ║\n",
            "║ 7  1  3 │ 9  2  4 │ 8  5  6 ║\n",
            "╟───────┼───────┼───────╢\n",
            "║ 9  6  1 │ 5  3  7 │ 2  8  4 ║\n",
            "║ 2  8  7 │ 4  1  9 │ 6  3  5 ║\n",
            "║ 3  4  5 │ 2  8  6 │ 1  7  9 ║\n",
            "╚═══════╧═══════╧═══════╝\n"
          ]
        }
      ]
    },
    {
      "cell_type": "markdown",
      "source": [
        "Celda 7: Comparación de Rendimiento (Código)\n",
        "Esta celda define el modelo tradicional y ejecuta una comparación para demostrar la mejora de rendimiento."
      ],
      "metadata": {
        "id": "juvB9XTjNnky"
      }
    },
    {
      "cell_type": "code",
      "source": [
        "# ====================================\n",
        "# COMPARACIÓN CON MÉTODO TRADICIONAL\n",
        "# ====================================\n",
        "\n",
        "def crear_modelo_tradicional(tablero_inicial):\n",
        "    \"\"\"\n",
        "    Crea un modelo de Sudoku usando sobrecarga de operadores (método tradicional).\n",
        "    \"\"\"\n",
        "    modelo = pyo.ConcreteModel(name=\"Sudoku_Tradicional\")\n",
        "    modelo.FILAS = pyo.RangeSet(1, 9)\n",
        "    modelo.COLUMNAS = pyo.RangeSet(1, 9)\n",
        "    modelo.VALORES = pyo.RangeSet(1, 9)\n",
        "    modelo.SUBCUADRICULAS = pyo.RangeSet(1, 9)\n",
        "    modelo.y = pyo.Var(modelo.FILAS, modelo.COLUMNAS, modelo.VALORES, within=pyo.Binary)\n",
        "\n",
        "    for (f, c, v) in tablero_inicial:\n",
        "        modelo.y[f, c, v].fix(1)\n",
        "\n",
        "    modelo.objetivo = pyo.Objective(expr=1.0)\n",
        "\n",
        "    # Restricciones con sum() de Python\n",
        "    modelo.unicidad_celda = pyo.Constraint(modelo.FILAS, modelo.COLUMNAS, rule=lambda m, f, c: sum(m.y[f, c, v] for v in m.VALORES) == 1)\n",
        "    modelo.restriccion_fila = pyo.Constraint(modelo.FILAS, modelo.VALORES, rule=lambda m, f, v: sum(m.y[f, c, v] for c in m.COLUMNAS) == 1)\n",
        "    modelo.restriccion_columna = pyo.Constraint(modelo.COLUMNAS, modelo.VALORES, rule=lambda m, c, v: sum(m.y[f, c, v] for f in m.FILAS) == 1)\n",
        "    modelo.restriccion_subcuadricula = pyo.Constraint(modelo.SUBCUADRICULAS, modelo.VALORES, rule=lambda m, s, v: sum(m.y[f, c, v] for (f, c) in MAPEO_SUBCUADRICULAS[s]) == 1)\n",
        "\n",
        "    return modelo\n",
        "\n",
        "print(\"### INICIANDO COMPARACIÓN DE RENDIMIENTO ###\")\n",
        "\n",
        "# Puzzle para la comparación\n",
        "sudoku_medio = [\n",
        "    (1,2,4), (1,3,3), (1,5,8), (1,7,2), (1,8,5), (2,1,6), (3,6,1), (3,8,9), (3,9,4),\n",
        "    (4,1,9), (4,6,4), (4,8,7), (5,4,6), (5,6,8), (6,2,1), (6,4,2), (6,9,3),\n",
        "    (7,1,8), (7,2,2), (7,4,5), (8,9,5), (9,2,3), (9,3,4), (9,5,9), (9,7,7), (9,8,1)\n",
        "]\n",
        "imprimir_sudoku(sudoku_medio, \"Puzzle para Comparación\")\n",
        "\n",
        "\n",
        "# Ejecutar y medir ambos métodos\n",
        "sol_trad, t_const_trad, t_sol_trad, t_total_trad = resolver_sudoku(sudoku_medio, crear_modelo_tradicional, mostrar_tiempos=False)\n",
        "sol_opt, t_const_opt, t_sol_opt, t_total_opt = resolver_sudoku(sudoku_medio, crear_modelo_sudoku_optimizado, mostrar_tiempos=False)\n",
        "\n",
        "# Imprimir resultados de la comparación\n",
        "print(\"\\n\" + \"=\"*60)\n",
        "print(\"RESULTADOS DE LA COMPARACIÓN\")\n",
        "print(\"=\"*60)\n",
        "print(f\"{'MÉTODO':<25} | {'T. CONSTRUCCIÓN':<15} | {'T. TOTAL':<15}\")\n",
        "print(\"-\"*60)\n",
        "print(f\"{'Tradicional (sum)':<25} | {t_const_trad:<15.4f} | {t_total_trad:<15.4f}\")\n",
        "print(f\"{'Optimizado (LinearExpr)':<25} | {t_const_opt:<15.4f} | {t_total_opt:<15.4f}\")\n",
        "print(\"=\"*60)\n",
        "\n",
        "mejora = ((t_const_trad - t_const_opt) / t_const_trad) * 100\n",
        "print(f\"🚀 Mejora en tiempo de construcción del modelo: {mejora:.1f}% más rápido.\")"
      ],
      "metadata": {
        "colab": {
          "base_uri": "https://localhost:8080/"
        },
        "id": "chVgjBzxNuan",
        "outputId": "3d7fa742-44c8-4c33-a563-bd74b22597c8"
      },
      "execution_count": 6,
      "outputs": [
        {
          "output_type": "stream",
          "name": "stdout",
          "text": [
            "### INICIANDO COMPARACIÓN DE RENDIMIENTO ###\n",
            "\n",
            "Puzzle para Comparación\n",
            "╔═══════╤═══════╤═══════╗\n",
            "║ ·  4  3 │ ·  8  · │ 2  5  · ║\n",
            "║ 6  ·  · │ ·  ·  · │ ·  ·  · ║\n",
            "║ ·  ·  · │ ·  ·  1 │ ·  9  4 ║\n",
            "╟───────┼───────┼───────╢\n",
            "║ 9  ·  · │ ·  ·  4 │ ·  7  · ║\n",
            "║ ·  ·  · │ 6  ·  8 │ ·  ·  · ║\n",
            "║ ·  1  · │ 2  ·  · │ ·  ·  3 ║\n",
            "╟───────┼───────┼───────╢\n",
            "║ 8  2  · │ 5  ·  · │ ·  ·  · ║\n",
            "║ ·  ·  · │ ·  ·  · │ ·  ·  5 ║\n",
            "║ ·  3  4 │ ·  9  · │ 7  1  · ║\n",
            "╚═══════╧═══════╧═══════╝\n",
            "\n",
            "Construyendo modelo (crear_modelo_tradicional)...\n",
            "Resolviendo con glpk...\n",
            "\n",
            "Construyendo modelo (crear_modelo_sudoku_optimizado)...\n",
            "Resolviendo con glpk...\n",
            "\n",
            "============================================================\n",
            "RESULTADOS DE LA COMPARACIÓN\n",
            "============================================================\n",
            "MÉTODO                    | T. CONSTRUCCIÓN | T. TOTAL       \n",
            "------------------------------------------------------------\n",
            "Tradicional (sum)         | 0.0096          | 0.0545         \n",
            "Optimizado (LinearExpr)   | 0.0078          | 0.0380         \n",
            "============================================================\n",
            "🚀 Mejora en tiempo de construcción del modelo: 18.7% más rápido.\n"
          ]
        }
      ]
    },
    {
      "cell_type": "markdown",
      "source": [
        "Celda 8: Verificación de la Solución (Código)\n",
        "Finalmente, una celda para verificar formalmente que la solución encontrada es válida y cumple todas las reglas del Sudoku."
      ],
      "metadata": {
        "id": "MUS8wQyGN4H1"
      }
    },
    {
      "cell_type": "code",
      "source": [
        "# ===========================\n",
        "# VERIFICACIÓN DE LA SOLUCIÓN\n",
        "# ===========================\n",
        "\n",
        "def verificar_solucion(solucion):\n",
        "    \"\"\"\n",
        "    Verifica que una solución de Sudoku sea válida.\n",
        "    \"\"\"\n",
        "    es_valida = True\n",
        "    # Verificar filas y columnas\n",
        "    for i in range(9):\n",
        "        if len(set(solucion[i, :])) != 9: es_valida = False; print(f\"Error en fila {i+1}\")\n",
        "        if len(set(solucion[:, i])) != 9: es_valida = False; print(f\"Error en columna {i+1}\")\n",
        "\n",
        "    # Verificar subcuadrículas\n",
        "    for i in range(0, 9, 3):\n",
        "        for j in range(0, 9, 3):\n",
        "            if len(set(solucion[i:i+3, j:j+3].flatten())) != 9:\n",
        "                es_valida = False; print(f\"Error en subcuadrícula ({i//3+1}, {j//3+1})\")\n",
        "\n",
        "    if es_valida:\n",
        "        print(\"\\n✓ La solución es VÁLIDA. Todas las restricciones se cumplen.\")\n",
        "    else:\n",
        "        print(\"\\n✗ La solución NO es válida.\")\n",
        "    return es_valida\n",
        "\n",
        "# Verificar la solución del puzzle difícil que resolvimos en la celda 6\n",
        "if 'solucion_opt' in locals() and solucion_opt is not None:\n",
        "    print(\"\\n### VERIFICANDO LA SOLUCIÓN DEL PUZZLE DIFÍCIL ###\")\n",
        "    verificar_solucion(solucion_opt)"
      ],
      "metadata": {
        "colab": {
          "base_uri": "https://localhost:8080/"
        },
        "id": "GQ1l1bZ8N7H4",
        "outputId": "665efbb6-65fc-4a7d-c5f5-e4955dac32b9"
      },
      "execution_count": 7,
      "outputs": [
        {
          "output_type": "stream",
          "name": "stdout",
          "text": [
            "\n",
            "### VERIFICANDO LA SOLUCIÓN DEL PUZZLE DIFÍCIL ###\n",
            "\n",
            "✓ La solución es VÁLIDA. Todas las restricciones se cumplen.\n"
          ]
        }
      ]
    }
  ]
}