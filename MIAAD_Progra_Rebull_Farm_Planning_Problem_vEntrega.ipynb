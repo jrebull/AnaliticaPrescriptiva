{
  "cells": [
    {
      "cell_type": "markdown",
      "metadata": {
        "id": "view-in-github",
        "colab_type": "text"
      },
      "source": [
        "<a href=\"https://colab.research.google.com/github/jrebull/AnaliticaPrescriptiva/blob/main/MIAAD_Progra_Rebull_Farm_Planning_Problem_vEntrega.ipynb\" target=\"_parent\"><img src=\"https://colab.research.google.com/assets/colab-badge.svg\" alt=\"Open In Colab\"/></a>"
      ]
    },
    {
      "cell_type": "markdown",
      "metadata": {
        "id": "vUtLfzB4JaWi"
      },
      "source": [
        "# Problema de Planificación Agrícola\n",
        "\n",
        "## Descripción del Problema\n",
        "\n",
        "Un agricultor con una granja de 200 acres necesita desarrollar un plan estratégico de producción para los próximos 5 años que maximice sus ganancias.\n",
        "\n",
        "**Estado inicial:**\n",
        "- 200 acres de tierra disponible\n",
        "- 120 vacas (20 novillas + 100 vacas lecheras adultas)\n",
        "- Horizonte de planificación: 5 años\n",
        "\n",
        "**Decisiones a tomar:**\n",
        "1. Gestión del Ganado: criar, vender o mantener vacas\n",
        "2. Producción Agrícola: cantidad de grano y remolacha azucarera a cultivar\n",
        "3. Comercio: compra/venta de productos\n",
        "\n",
        "---"
      ]
    },
    {
      "cell_type": "markdown",
      "metadata": {
        "id": "FvVcyXhtJaWk"
      },
      "source": [
        "## 1. Importación de Librerías"
      ]
    },
    {
      "cell_type": "code",
      "execution_count": 1,
      "metadata": {
        "id": "9MTpP2TZJaWk",
        "colab": {
          "base_uri": "https://localhost:8080/"
        },
        "outputId": "79168f5b-234b-4ece-99e0-bd88aeb04513"
      },
      "outputs": [
        {
          "output_type": "stream",
          "name": "stdout",
          "text": [
            "Collecting gurobipy\n",
            "  Downloading gurobipy-12.0.3-cp312-cp312-manylinux2014_x86_64.manylinux_2_17_x86_64.whl.metadata (16 kB)\n",
            "Downloading gurobipy-12.0.3-cp312-cp312-manylinux2014_x86_64.manylinux_2_17_x86_64.whl (14.3 MB)\n",
            "\u001b[2K   \u001b[90m━━━━━━━━━━━━━━━━━━━━━━━━━━━━━━━━━━━━━━━━\u001b[0m \u001b[32m14.3/14.3 MB\u001b[0m \u001b[31m43.6 MB/s\u001b[0m eta \u001b[36m0:00:00\u001b[0m\n",
            "\u001b[?25hInstalling collected packages: gurobipy\n",
            "Successfully installed gurobipy-12.0.3\n",
            "Librerías importadas exitosamente\n"
          ]
        }
      ],
      "source": [
        "#===============\n",
        "#Celda 01\n",
        "#===============\n",
        "\n",
        "# Se recomienda ejecutar esta celda si no se tienen instaladas las librerías\n",
        "# !pip install pyomo pandas matplotlib seaborn\n",
        "\n",
        "# Librerías de optimización\n",
        "from pyomo.environ import *\n",
        "import pyomo.environ as pyo\n",
        "\n",
        "# Librerías para análisis de datos\n",
        "import numpy as np\n",
        "import pandas as pd\n",
        "\n",
        "# Librerías para visualización\n",
        "import matplotlib.pyplot as plt\n",
        "import seaborn as sns\n",
        "\n",
        "%pip install gurobipy\n",
        "import gurobipy as gp\n",
        "from gurobipy import GRB\n",
        "\n",
        "\n",
        "# Configuración de visualización\n",
        "plt.style.use('seaborn-v0_8-whitegrid')\n",
        "sns.set_palette(\"husl\")\n",
        "%matplotlib inline\n",
        "\n",
        "print(\"Librerías importadas exitosamente\")"
      ]
    },
    {
      "cell_type": "markdown",
      "metadata": {
        "id": "9n3WgtyaJaWl"
      },
      "source": [
        "## 2. Definición de Parámetros del Problema"
      ]
    },
    {
      "cell_type": "code",
      "execution_count": 2,
      "metadata": {
        "id": "BVv8U1TdJaWl",
        "colab": {
          "base_uri": "https://localhost:8080/"
        },
        "outputId": "5f18c2fc-de3a-4003-a20e-b9a36728ca4e"
      },
      "outputs": [
        {
          "output_type": "stream",
          "name": "stdout",
          "text": [
            "Parámetros del problema del PDF cargados exitosamente.\n"
          ]
        }
      ],
      "source": [
        "#===============\n",
        "#Celda 02\n",
        "#===============\n",
        "\n",
        "# --- Parámetros del PDF ---\n",
        "\n",
        "# Conjuntos e Índices\n",
        "years = list(range(1, 6))\n",
        "lands = list(range(1, 5))\n",
        "ages = list(range(1, 13))\n",
        "cow_ages = list(range(2, 12)) # Edades de vacas lecheras (2 a 11 años)\n",
        "\n",
        "# Parámetros de Cultivos (del PDF, tabla 1)\n",
        "gr_area = {1: 20.0, 2: 30.0, 3: 20.0, 4: 10.0} # Acres por grupo de tierra\n",
        "gr_yield = {1: 1.1,  2: 0.9, 3: 0.8, 4: 0.65} # Rendimiento de grano (ton/acre)\n",
        "sb_yield = 1.5 # Rendimiento de remolacha (ton/acre)\n",
        "\n",
        "# Capacidades y Recursos (del PDF)\n",
        "housing_cap = 130 # Capacidad de alojamiento inicial\n",
        "land_cap = 200 # Tierra total disponible (acres)\n",
        "labor_cap = 5500 # Horas de mano de obra regular\n",
        "regular_time_cost = 4000 # Costo anual de la mano de obra regular\n",
        "\n",
        "# Requerimientos por Animal (del PDF)\n",
        "gr_intake = 0.6 # Consumo de grano por vaca lechera (ton/año)\n",
        "sb_intake = 0.7 # Consumo de remolacha por vaca (ton/año)\n",
        "hf_land = 2/3.0 # Tierra por novilla (acres)\n",
        "cow_land = 1.0 # Tierra por vaca lechera (acres)\n",
        "\n",
        "hf_labor = 10 # Horas de trabajo por novilla\n",
        "cow_labor = 42 # Horas de trabajo por vaca lechera\n",
        "gr_labor = 4 # Horas de trabajo por acre de grano\n",
        "sb_labor = 14 # Horas de trabajo por acre de remolacha\n",
        "\n",
        "# Dinámica del Ganado (del PDF)\n",
        "birthrate = 1.1 # Crías por vaca lechera al año\n",
        "hf_decay = 0.05 # Tasa de mortalidad de novillas\n",
        "cow_decay = 0.02 # Tasa de mortalidad de vacas lecheras\n",
        "# Nota: La venta obligatoria a los 12 años se modela en las restricciones de continuidad.\n",
        "\n",
        "# Condiciones Iniciales (del PDF, 10 vacas por edad)\n",
        "# Se ajusta por la mortalidad del \"año 0\" para iniciar el año 1\n",
        "initial_hf_1yr = 10 * (1 - 0.05) # Novillas de 1 año (nacieron en año -1)\n",
        "initial_hf_2yr = 10 * (1 - 0.05) # Novillas de 2 años (nacieron en año -2)\n",
        "initial_cows_over_2 = 10 * (1 - 0.02) # Vacas de 3 a 12 años\n",
        "\n",
        "# Restricciones Finales (del PDF)\n",
        "min_final_cows = 50 # No reducir más del 50% de 100\n",
        "max_final_cows = 175 # No aumentar más del 75% de 100\n",
        "\n",
        "# Parámetros Económicos (del PDF)\n",
        "bl_price = 30 # Precio venta de ternero macho (bullock)\n",
        "hf_price = 40 # Precio venta de novilla\n",
        "cow_price = 120 # Precio venta de vaca de 12 años\n",
        "milk_price = 370 # Ingreso por leche por vaca/año\n",
        "gr_price = 75 # Precio venta de grano\n",
        "sb_price = 58 # Precio venta de remolacha\n",
        "\n",
        "gr_cost = 90 # Costo compra de grano\n",
        "sb_cost = 70 # Costo compra de remolacha\n",
        "overtime_cost = 1.20 # Costo hora extra de trabajo\n",
        "housing_expansion_cost = 200 # Costo por vaca adicional de alojamiento\n",
        "\n",
        "hf_cost = 50 # Costo mantenimiento novilla\n",
        "cow_cost = 100 # Costo mantenimiento vaca\n",
        "gr_land_cost = 15 # Costo por acre de grano\n",
        "sb_land_cost = 10 # Costo por acre de remolacha\n",
        "\n",
        "# Parámetros Financieros (del PDF)\n",
        "installment = 39.71 # Pago anual por cada $200 de préstamo\n",
        "\n",
        "print(\"Parámetros del problema del PDF cargados exitosamente.\")"
      ]
    },
    {
      "cell_type": "markdown",
      "metadata": {
        "id": "ESlhZ1cfJaWm"
      },
      "source": [
        "## 3. Construcción del Modelo de Optimización con Pyomo"
      ]
    },
    {
      "cell_type": "code",
      "execution_count": 3,
      "metadata": {
        "id": "utG0mHtAJaWm",
        "colab": {
          "base_uri": "https://localhost:8080/"
        },
        "outputId": "0c816321-d75e-43f5-f55c-e08569e36cf0"
      },
      "outputs": [
        {
          "output_type": "stream",
          "name": "stdout",
          "text": [
            "Modelo y conjuntos definidos correctamente.\n"
          ]
        }
      ],
      "source": [
        "# Crear el modelo\n",
        "model = ConcreteModel(name=\"Planificacion_Agricola_PDF\")\n",
        "\n",
        "# --- CONJUNTOS ---\n",
        "model.T = Set(initialize=years, doc='Años del horizonte de planificación')\n",
        "model.L = Set(initialize=lands, doc='Grupos de tierra') # <-- CORRECCIÓN: Usar 'lands'\n",
        "model.A = Set(initialize=ages, doc='Edades de las vacas')\n",
        "\n",
        "print(\"Modelo y conjuntos definidos correctamente.\")"
      ]
    },
    {
      "cell_type": "markdown",
      "metadata": {
        "id": "csGNFMxWJaWn"
      },
      "source": [
        "### 3.1. Variables de Decisión"
      ]
    },
    {
      "cell_type": "code",
      "execution_count": 4,
      "metadata": {
        "id": "JL0vqE97JaWn",
        "colab": {
          "base_uri": "https://localhost:8080/"
        },
        "outputId": "d5d95114-b3a3-461d-8e00-9acb448a0010"
      },
      "outputs": [
        {
          "output_type": "stream",
          "name": "stdout",
          "text": [
            "Variables de decisión complejas del PDF definidas correctamente.\n"
          ]
        }
      ],
      "source": [
        "#===============\n",
        "#Celda 04\n",
        "#===============\n",
        "\n",
        "# --- VARIABLES ---\n",
        "# Variables de producción de cultivos\n",
        "model.sb_grown = Var(years, within=NonNegativeReals, doc='Toneladas de remolacha cultivadas')\n",
        "model.gr_grown = Var(years, lands, within=NonNegativeReals, doc='Toneladas de grano cultivadas por grupo de tierra')\n",
        "\n",
        "# Variables de comercio\n",
        "model.gr_bought = Var(years, within=NonNegativeReals, doc='Grano comprado')\n",
        "model.gr_sold = Var(years, within=NonNegativeReals, doc='Grano vendido')\n",
        "model.sb_bought = Var(years, within=NonNegativeReals, doc='Remolacha comprada')\n",
        "model.sb_sold = Var(years, within=NonNegativeReals, doc='Remolacha vendida')\n",
        "\n",
        "# Variables de Ganado (más detalladas, por edad)\n",
        "model.cows = Var(years, ages, within=NonNegativeReals, doc='Número de vacas de cada edad')\n",
        "model.heifers_raised = Var(years, within=NonNegativeReals, doc='Nuevas novillas criadas (edad 0)')\n",
        "model.heifers_sold_new = Var(years, within=NonNegativeReals, doc='Nuevas novillas vendidas al nacer')\n",
        "\n",
        "# Variables de Recursos y Financieras\n",
        "model.overtime = Var(years, within=NonNegativeReals, doc='Horas extra de trabajo')\n",
        "model.outlay = Var(years, within=NonNegativeReals, doc='Inversión en alojamiento (unidades de $200)')\n",
        "model.profit = Var(years, within=Reals, doc='Ganancia anual calculada')\n",
        "\n",
        "print(\"Variables de decisión complejas del PDF definidas correctamente.\")"
      ]
    },
    {
      "cell_type": "markdown",
      "metadata": {
        "id": "vzQez5XsJaWn"
      },
      "source": [
        "### 3.2. Función Objetivo"
      ]
    },
    {
      "cell_type": "code",
      "execution_count": 5,
      "metadata": {
        "id": "nr7LBFhQJaWn",
        "colab": {
          "base_uri": "https://localhost:8080/"
        },
        "outputId": "81cd3a04-273c-4b56-ca2e-4063671b66c7"
      },
      "outputs": [
        {
          "output_type": "stream",
          "name": "stdout",
          "text": [
            "Función objetivo del PDF implementada.\n"
          ]
        }
      ],
      "source": [
        "#===============\n",
        "#Celda 05\n",
        "#===============\n",
        "\n",
        "# --- FUNCIÓN OBJETIVO ---\n",
        "# Maximizar la ganancia total menos los pagos de préstamos pendientes más allá de 5 años (Ecuación 1 del PDF)\n",
        "def objective_rule(m):\n",
        "    return sum(m.profit[t] - installment * (t + 4) * m.outlay[t] for t in years)\n",
        "\n",
        "model.total_profit_objective = Objective(rule=objective_rule, sense=maximize)\n",
        "\n",
        "print(\"Función objetivo del PDF implementada.\")"
      ]
    },
    {
      "cell_type": "markdown",
      "metadata": {
        "id": "bBQRZj4eJaWn"
      },
      "source": [
        "### 3.3. Restricciones"
      ]
    },
    {
      "cell_type": "code",
      "execution_count": 6,
      "metadata": {
        "id": "_slS3zfUJaWn",
        "colab": {
          "base_uri": "https://localhost:8080/"
        },
        "outputId": "7dc41db5-bf3f-4151-e890-6f2fad01f271"
      },
      "outputs": [
        {
          "output_type": "stream",
          "name": "stdout",
          "text": [
            "Restricciones del modelo del PDF definidas correctamente.\n"
          ]
        }
      ],
      "source": [
        "# --- RESTRICCIONES ---\n",
        "model.constraints = ConstraintList()\n",
        "\n",
        "# 1. Restricción de Ganancia Anual (Ecuaciones 21-27 del PDF)\n",
        "for t in years:\n",
        "    revenue = (\n",
        "        bl_price * birthrate / 2 * sum(model.cows[t, k] for k in cow_ages) +\n",
        "        hf_price * model.heifers_sold_new[t] +\n",
        "        cow_price * model.cows[t, 12] +\n",
        "        milk_price * sum(model.cows[t, k] for k in cow_ages) +\n",
        "        gr_price * model.gr_sold[t] +\n",
        "        sb_price * model.sb_sold[t]\n",
        "    )\n",
        "    costs = (\n",
        "        gr_cost * model.gr_bought[t] +\n",
        "        sb_cost * model.sb_bought[t] +\n",
        "        overtime_cost * model.overtime[t] +\n",
        "        regular_time_cost +\n",
        "        hf_cost * (model.heifers_raised[t] + model.cows[t, 1]) +\n",
        "        cow_cost * sum(model.cows[t, k] for k in cow_ages) +\n",
        "        gr_land_cost * sum(model.gr_grown[t, l] / gr_yield[l] for l in lands) +\n",
        "        sb_land_cost * model.sb_grown[t] / sb_yield +\n",
        "        installment * sum(model.outlay[d] for d in years if d <= t)\n",
        "    )\n",
        "    model.constraints.add(model.profit[t] == revenue - costs)\n",
        "\n",
        "    # <-- CORRECCIÓN 1: Añadir la restricción de flujo de caja no negativo del PDF.\n",
        "    model.constraints.add(model.profit[t] >= 0)\n",
        "\n",
        "# 2. Capacidad de Alojamiento (Ecuación 2)\n",
        "for t in years:\n",
        "    total_animals = model.heifers_raised[t] + model.cows[t, 1] + sum(model.cows[t, k] for k in cow_ages)\n",
        "    expansion = sum(model.outlay[d] for d in years if d <= t)\n",
        "    model.constraints.add(total_animals <= housing_cap + expansion)\n",
        "\n",
        "# 3. Consumo de Alimentos (Ecuaciones 3 y 4)\n",
        "for t in years:\n",
        "    grain_needed = gr_intake * sum(model.cows[t, k] for k in cow_ages)\n",
        "    grain_available = model.gr_bought[t] - model.gr_sold[t] + sum(model.gr_grown[t, l] for l in lands)\n",
        "    model.constraints.add(grain_needed <= grain_available)\n",
        "\n",
        "    sb_needed = sb_intake * sum(model.cows[t, k] for k in cow_ages)\n",
        "    sb_available = model.sb_bought[t] - model.sb_sold[t] + model.sb_grown[t]\n",
        "    model.constraints.add(sb_needed <= sb_available)\n",
        "\n",
        "# 4. Límite de Cultivo de Grano (Ecuación 5)\n",
        "for t in years:\n",
        "    for l in lands:\n",
        "        model.constraints.add(model.gr_grown[t, l] <= gr_yield[l] * gr_area[l])\n",
        "\n",
        "# 5. Capacidad de Tierra (Ecuaciones 6-8)\n",
        "for t in years:\n",
        "    land_used = (\n",
        "        model.sb_grown[t] / sb_yield +\n",
        "        hf_land * (model.heifers_raised[t] + model.cows[t, 1]) +\n",
        "        cow_land * sum(model.cows[t, k] for k in cow_ages) +\n",
        "        sum(model.gr_grown[t, l] / gr_yield[l] for l in lands)\n",
        "    )\n",
        "    model.constraints.add(land_used <= land_cap)\n",
        "\n",
        "# 6. Disponibilidad de Mano de Obra (Ecuaciones 9-12)\n",
        "for t in years:\n",
        "    labor_needed = (\n",
        "        hf_labor * (model.heifers_raised[t] + model.cows[t, 1]) +\n",
        "        cow_labor * sum(model.cows[t, k] for k in cow_ages) +\n",
        "        gr_labor * sum(model.gr_grown[t, l] / gr_yield[l] for l in lands) +\n",
        "        sb_labor * model.sb_grown[t] / sb_yield\n",
        "    )\n",
        "    model.constraints.add(labor_needed <= labor_cap + model.overtime[t])\n",
        "\n",
        "# 7. Continuidad del Ganado (Ecuaciones 13-15)\n",
        "for t in years:\n",
        "    if t > 1:\n",
        "        model.constraints.add(model.cows[t, 1] == (1 - hf_decay) * model.heifers_raised[t-1])\n",
        "        model.constraints.add(model.cows[t, 2] == (1 - hf_decay) * model.cows[t-1, 1])\n",
        "        # <-- CORRECCIÓN 2: El rango debe ser hasta 12 para incluir el envejecimiento de las vacas de 11 años.\n",
        "        for k in range(2, 12):\n",
        "            model.constraints.add(model.cows[t, k+1] == (1 - cow_decay) * model.cows[t-1, k])\n",
        "\n",
        "# 8. Balance de Nacimientos de Novillas (Ecuación 16)\n",
        "for t in years:\n",
        "    new_heifers = birthrate / 2 * sum(model.cows[t, k] for k in cow_ages)\n",
        "    model.constraints.add(model.heifers_raised[t] + model.heifers_sold_new[t] == new_heifers)\n",
        "\n",
        "# 9. Condiciones Iniciales (Ecuaciones 18-20)\n",
        "model.constraints.add(model.cows[1, 1] == initial_hf_1yr)\n",
        "model.constraints.add(model.cows[1, 2] == initial_hf_2yr)\n",
        "for k in range(3, 13):\n",
        "    model.constraints.add(model.cows[1, k] == initial_cows_over_2)\n",
        "\n",
        "# 10. Restricción del Hato Final (Ecuación 17)\n",
        "final_year = max(years)\n",
        "model.constraints.add(sum(model.cows[final_year, k] for k in cow_ages) >= min_final_cows)\n",
        "model.constraints.add(sum(model.cows[final_year, k] for k in cow_ages) <= max_final_cows)\n",
        "\n",
        "print(\"Restricciones del modelo del PDF definidas correctamente.\")"
      ]
    },
    {
      "cell_type": "markdown",
      "metadata": {
        "id": "ju9-bhYbJaWo"
      },
      "source": [
        "## 4. Resolución del Modelo"
      ]
    },
    {
      "cell_type": "code",
      "execution_count": 7,
      "metadata": {
        "id": "S89hrShQJaWo",
        "colab": {
          "base_uri": "https://localhost:8080/"
        },
        "outputId": "3f764e9b-b3e7-4ee0-e04e-3273e92a9602"
      },
      "outputs": [
        {
          "output_type": "stream",
          "name": "stdout",
          "text": [
            "Resolviendo el modelo...\n",
            "Read LP format model from file /tmp/tmp0e5snaab.pyomo.lp\n",
            "Reading time = 0.00 seconds\n",
            "x1: 122 rows, 130 columns, 748 nonzeros\n",
            "Set parameter MIPGap to value 0.01\n",
            "Set parameter TimeLimit to value 300\n",
            "Gurobi Optimizer version 12.0.3 build v12.0.3rc0 (linux64 - \"Ubuntu 22.04.4 LTS\")\n",
            "\n",
            "CPU model: Intel(R) Xeon(R) CPU @ 2.20GHz, instruction set [SSE2|AVX|AVX2]\n",
            "Thread count: 1 physical cores, 2 logical processors, using up to 2 threads\n",
            "\n",
            "Non-default parameters:\n",
            "TimeLimit  300\n",
            "MIPGap  0.01\n",
            "\n",
            "Optimize a model with 122 rows, 130 columns and 748 nonzeros\n",
            "Model fingerprint: 0xdb898d8a\n",
            "Coefficient statistics:\n",
            "  Matrix range     [6e-01, 3e+02]\n",
            "  Objective range  [1e+00, 4e+02]\n",
            "  Bounds range     [0e+00, 0e+00]\n",
            "  RHS range        [6e+00, 6e+03]\n",
            "Presolve removed 90 rows and 66 columns\n",
            "Presolve time: 0.00s\n",
            "Presolved: 32 rows, 64 columns, 252 nonzeros\n",
            "\n",
            "Iteration    Objective       Primal Inf.    Dual Inf.      Time\n",
            "       0    5.1200000e+32   5.000000e+30   5.120000e+02      0s\n",
            "      22    1.2171917e+05   0.000000e+00   0.000000e+00      0s\n",
            "\n",
            "Solved in 22 iterations and 0.01 seconds (0.00 work units)\n",
            "Optimal objective  1.217191729e+05\n"
          ]
        }
      ],
      "source": [
        "#===============\n",
        "#Celda 08\n",
        "#===============\n",
        "\n",
        "# Es necesario tener un solver como Gurobi o CBC instalado.\n",
        "# Si usas Google Colab, puedes instalar CBC con la siguiente línea:\n",
        "# !apt-get install -y -qq coinor-cbc\n",
        "\n",
        "solver = SolverFactory('gurobi') # o 'cbc' si no tienes Gurobi\n",
        "solver.options['mipgap'] = 0.01\n",
        "solver.options['timelimit'] = 300\n",
        "\n",
        "print(\"Resolviendo el modelo...\")\n",
        "results = solver.solve(model, tee=True)"
      ]
    },
    {
      "cell_type": "code",
      "execution_count": 8,
      "metadata": {
        "id": "5SGCsHekJaWo",
        "colab": {
          "base_uri": "https://localhost:8080/"
        },
        "outputId": "37c09bea-460d-49fe-91df-4cb7a4b13dd2"
      },
      "outputs": [
        {
          "output_type": "stream",
          "name": "stdout",
          "text": [
            "\n",
            "Estado del Solver:\n",
            "  Status: ok\n",
            "  Termination Condition: optimal\n",
            "\n",
            "✓ ¡Solución óptima encontrada!\n",
            "\n",
            "Ganancia Total Óptima: $121,719.17\n"
          ]
        }
      ],
      "source": [
        "# Verificar el estado de la solución\n",
        "print(f\"\\nEstado del Solver:\")\n",
        "print(f\"  Status: {results.solver.status}\")\n",
        "print(f\"  Termination Condition: {results.solver.termination_condition}\")\n",
        "\n",
        "if (results.solver.status == SolverStatus.ok and\n",
        "    results.solver.termination_condition == TerminationCondition.optimal):\n",
        "    print(\"\\n✓ ¡Solución óptima encontrada!\")\n",
        "    # CORRECCIÓN AQUÍ:\n",
        "    print(f\"\\nGanancia Total Óptima: ${value(model.total_profit_objective):,.2f}\")\n",
        "elif results.solver.termination_condition == TerminationCondition.infeasible:\n",
        "    print(\"\\n✗ El modelo es infactible. Revisa las restricciones.\")\n",
        "else:\n",
        "    print(f\"\\n⚠ Solver terminó con condición: {results.solver.termination_condition}\")"
      ]
    },
    {
      "cell_type": "markdown",
      "metadata": {
        "id": "z2pb7grmJaWo"
      },
      "source": [
        "## 5. Extracción y Análisis de Resultados"
      ]
    },
    {
      "cell_type": "code",
      "execution_count": 9,
      "metadata": {
        "id": "wCLFtkEEJaWo",
        "colab": {
          "base_uri": "https://localhost:8080/"
        },
        "outputId": "be9e110f-5a6c-49e5-a80a-73f4c424847d"
      },
      "outputs": [
        {
          "output_type": "stream",
          "name": "stdout",
          "text": [
            "Resultados extraídos en un DataFrame para su análisis.\n"
          ]
        }
      ],
      "source": [
        "# --- EXTRACCIÓN Y ANÁLISIS DE RESULTADOS ---\n",
        "\n",
        "if (results.solver.termination_condition == TerminationCondition.optimal):\n",
        "    # Extraer y redondear los resultados para presentación\n",
        "    results_data = []\n",
        "    for t in years:\n",
        "        data_year = {'Año': t}\n",
        "        # Ganado\n",
        "        data_year['Vacas Lecheras'] = sum(value(model.cows[t,k]) for k in cow_ages)\n",
        "        data_year['Novillas (0-1)'] = value(model.heifers_raised[t])\n",
        "        data_year['Novillas (1-2)'] = value(model.cows[t,1])\n",
        "        # Cultivos\n",
        "        data_year['Grano Cultivado'] = sum(value(model.gr_grown[t,l]) for l in lands)\n",
        "        data_year['Grano Comprado'] = value(model.gr_bought[t])\n",
        "        data_year['Grano Vendido'] = value(model.gr_sold[t])\n",
        "        data_year['Remolacha Cultivada'] = value(model.sb_grown[t])\n",
        "        data_year['Remolacha Vendida'] = value(model.sb_sold[t])\n",
        "        # <-- CORRECCIÓN: Añadir la línea que faltaba para la remolacha comprada\n",
        "        data_year['Remolacha Comprada'] = value(model.sb_bought[t])\n",
        "        # Novillas\n",
        "        data_year['Novillas Criadas'] = value(model.heifers_raised[t])\n",
        "        data_year['Novillas Vendidas'] = value(model.heifers_sold_new[t])\n",
        "        # Financiero\n",
        "        data_year['Ganancia Anual'] = value(model.profit[t])\n",
        "        data_year['Inversión ($)'] = value(model.outlay[t]) * housing_expansion_cost\n",
        "\n",
        "        results_data.append(data_year)\n",
        "\n",
        "    df_results = pd.DataFrame(results_data).set_index('Año')\n",
        "    print(\"Resultados extraídos en un DataFrame para su análisis.\")\n",
        "else:\n",
        "    print(\"\\nNo se extrajeron resultados porque el modelo no se resolvió de forma óptima.\")"
      ]
    },
    {
      "cell_type": "markdown",
      "metadata": {
        "id": "tTxwVm6nJaWp"
      },
      "source": [
        "## 6. Visualización de Resultados"
      ]
    },
    {
      "cell_type": "code",
      "execution_count": 10,
      "metadata": {
        "id": "AF8AnA4UJaWp",
        "colab": {
          "base_uri": "https://localhost:8080/",
          "height": 610
        },
        "outputId": "1f439d93-edc8-4248-f2d5-d9fc2f2773c2"
      },
      "outputs": [
        {
          "output_type": "display_data",
          "data": {
            "text/plain": [
              "<Figure size 1600x600 with 2 Axes>"
            ],
            "image/png": "[encoded data removed]"
          },
          "metadata": {}
        }
      ],
      "source": [
        "# CORRECCIÓN: Los gráficos ahora usan 'df_results'\n",
        "if 'df_results' in locals():\n",
        "    fig, (ax1, ax2) = plt.subplots(1, 2, figsize=(16, 6))\n",
        "    fig.suptitle('Análisis del Plan de 5 Años', fontsize=16, fontweight='bold')\n",
        "\n",
        "    # Gráfico 1: Evolución del ganado\n",
        "    df_results[['Vacas Lecheras', 'Novillas (0-1)', 'Novillas (1-2)']].plot(kind='line', marker='o', ax=ax1)\n",
        "    ax1.set_title('Evolución del Hato Ganadero', fontsize=14)\n",
        "    ax1.set_ylabel('Número de Animales')\n",
        "    ax1.set_xlabel('Año')\n",
        "    ax1.grid(True, which='both', linestyle='--', linewidth=0.5)\n",
        "    ax1.legend()\n",
        "\n",
        "    # Gráfico 2: Uso de la tierra\n",
        "    df_results[['Grano Cultivado', 'Remolacha Cultivada']].plot(kind='bar', stacked=True, ax=ax2, alpha=0.8)\n",
        "    ax2.set_title('Uso de Tierra para Cultivos', fontsize=14)\n",
        "    ax2.set_ylabel('Acres')\n",
        "    ax2.set_xlabel('Año')\n",
        "    ax2.legend()\n",
        "    ax2.tick_params(axis='x', rotation=0)\n",
        "\n",
        "    plt.tight_layout(rect=[0, 0, 1, 0.96])\n",
        "    plt.show()"
      ]
    },
    {
      "cell_type": "code",
      "execution_count": 11,
      "metadata": {
        "id": "jm3fuA7pJaWq",
        "colab": {
          "base_uri": "https://localhost:8080/",
          "height": 607
        },
        "outputId": "8578db26-d918-489d-fc09-5f21b05933e1"
      },
      "outputs": [
        {
          "output_type": "display_data",
          "data": {
            "text/plain": [
              "<Figure size 1600x600 with 2 Axes>"
            ],
            "image/png": "[encoded data removed]"
          },
          "metadata": {}
        }
      ],
      "source": [
        "#===============\n",
        "# Celda 12 - CORREGIDA\n",
        "#===============\n",
        "\n",
        "# CORRECCIÓN: Este bloque se ejecuta solo si 'df_results' fue creado exitosamente.\n",
        "if 'df_results' in locals():\n",
        "    fig, (ax1, ax2) = plt.subplots(1, 2, figsize=(16, 6))\n",
        "\n",
        "    # Gráfico 3: Balance de grano\n",
        "    # Se usa 'df_results' y los nombres de columna correctos.\n",
        "    df_results[['Grano Cultivado', 'Grano Vendido', 'Grano Comprado']].plot(kind='bar', ax=ax1, alpha=0.8)\n",
        "    ax1.set_title('Balance de Grano (Toneladas)', fontsize=14)\n",
        "    ax1.set_ylabel('Toneladas')\n",
        "    ax1.set_xlabel('Año')\n",
        "    ax1.tick_params(axis='x', rotation=0)\n",
        "    ax1.legend()\n",
        "\n",
        "    # Gráfico 4: Balance de remolacha\n",
        "    # Se usa 'df_results' y los nombres de columna correctos.\n",
        "    df_results[['Remolacha Cultivada', 'Remolacha Vendida', 'Remolacha Comprada']].plot(kind='bar', ax=ax2, alpha=0.8)\n",
        "    ax2.set_title('Balance de Remolacha Azucarera (Toneladas)', fontsize=14)\n",
        "    ax2.set_ylabel('Toneladas')\n",
        "    ax2.set_xlabel('Año')\n",
        "    ax2.tick_params(axis='x', rotation=0)\n",
        "    ax2.legend()\n",
        "\n",
        "    plt.tight_layout()\n",
        "    plt.show()\n",
        "else:\n",
        "    print(\"No se pueden generar gráficos porque no se encontró una solución óptima en las celdas anteriores.\")"
      ]
    },
    {
      "cell_type": "markdown",
      "metadata": {
        "id": "rW6FoNwDJaWq"
      },
      "source": [
        "## 7. Tablas Resumen de Resultados"
      ]
    },
    {
      "cell_type": "code",
      "execution_count": 12,
      "metadata": {
        "id": "Tm863GPYJaWq",
        "colab": {
          "base_uri": "https://localhost:8080/"
        },
        "outputId": "9460b638-dd3d-4208-c96a-13ee83322f1d"
      },
      "outputs": [
        {
          "output_type": "stream",
          "name": "stdout",
          "text": [
            "\\n================================================================================\n",
            "TABLA 1: RESUMEN DE GANADO Y GANANCIA POR AÑO\n",
            "================================================================================\n",
            "     Vacas Lecheras  Novillas (0-1)  Novillas (1-2)  Ganancia Anual  \\\n",
            "Año                                                                   \n",
            "1              97.7            22.8             9.5        21,906.1   \n",
            "2              95.2            11.6            21.7        21,888.7   \n",
            "3             104.4             0.0            11.0        25,816.1   \n",
            "4             103.6             0.0             0.0        26,825.8   \n",
            "5              92.5             0.0             0.0        25,282.6   \n",
            "\n",
            "     Inversión ($)  \n",
            "Año                 \n",
            "1              0.0  \n",
            "2              0.0  \n",
            "3              0.0  \n",
            "4              0.0  \n",
            "5              0.0  \n",
            "\\n================================================================================\n",
            "TABLA 2: PLAN DE CULTIVOS POR AÑO (TONELADAS)\n",
            "================================================================================\n",
            "     Grano Cultivado  Grano Comprado  Grano Vendido  Remolacha Cultivada  \\\n",
            "Año                                                                        \n",
            "1               22.0            36.6            0.0                 91.1   \n",
            "2               22.0            35.1            0.0                 94.0   \n",
            "3               24.8            37.8            0.0                 97.7   \n",
            "4               22.0            40.1            0.0                114.6   \n",
            "5               22.0            33.5            0.0                131.3   \n",
            "\n",
            "     Remolacha Vendida  \n",
            "Año                     \n",
            "1                 22.8  \n",
            "2                 27.4  \n",
            "3                 24.6  \n",
            "4                 42.1  \n",
            "5                 66.6  \n",
            "\\n================================================================================\n",
            "TABLA 3: PLAN DE GESTIÓN DE NOVILLAS POR AÑO\n",
            "================================================================================\n",
            "     Novillas Criadas  Novillas Vendidas\n",
            "Año                                     \n",
            "1                22.8               30.9\n",
            "2                11.6               40.8\n",
            "3                 0.0               57.4\n",
            "4                 0.0               57.0\n",
            "5                 0.0               50.9\n"
          ]
        }
      ],
      "source": [
        "# Imprimir las tablas de resultados de forma clara\n",
        "pd.options.display.float_format = '{:,.1f}'.format\n",
        "\n",
        "print(\"\\\\n\" + \"=\"*80)\n",
        "print(\"TABLA 1: RESUMEN DE GANADO Y GANANCIA POR AÑO\")\n",
        "print(\"=\"*80)\n",
        "print(df_results[['Vacas Lecheras', 'Novillas (0-1)', 'Novillas (1-2)', 'Ganancia Anual', 'Inversión ($)']])\n",
        "\n",
        "print(\"\\\\n\" + \"=\"*80)\n",
        "print(\"TABLA 2: PLAN DE CULTIVOS POR AÑO (TONELADAS)\")\n",
        "print(\"=\"*80)\n",
        "print(df_results[['Grano Cultivado', 'Grano Comprado', 'Grano Vendido', 'Remolacha Cultivada', 'Remolacha Vendida']])\n",
        "\n",
        "print(\"\\\\n\" + \"=\"*80)\n",
        "print(\"TABLA 3: PLAN DE GESTIÓN DE NOVILLAS POR AÑO\")\n",
        "print(\"=\"*80)\n",
        "print(df_results[['Novillas Criadas', 'Novillas Vendidas']])"
      ]
    },
    {
      "cell_type": "markdown",
      "metadata": {
        "id": "1Yz9jOk_JaWq"
      },
      "source": [
        "## 8. Análisis Financiero Detallado"
      ]
    },
    {
      "cell_type": "code",
      "source": [
        "#===============\n",
        "# Celda 14 - CORREGIDA\n",
        "#===============\n",
        "\n",
        "# --- EXTRACCIÓN Y ANÁLISIS DE RESULTADOS ---\n",
        "\n",
        "# Este bloque solo se ejecuta si el modelo se resolvió correctamente\n",
        "if (results.solver.termination_condition == TerminationCondition.optimal):\n",
        "    # Extraer y redondear los resultados para presentación\n",
        "    results_data = []\n",
        "    for t in years:\n",
        "        data_year = {'Año': t}\n",
        "        # Ganado\n",
        "        data_year['Vacas Lecheras'] = sum(value(model.cows[t,k]) for k in cow_ages)\n",
        "        data_year['Novillas (0-1)'] = value(model.heifers_raised[t])\n",
        "        data_year['Novillas (1-2)'] = value(model.cows[t,1])\n",
        "        # Cultivos\n",
        "        data_year['Grano Cultivado'] = sum(value(model.gr_grown[t,l]) for l in lands)\n",
        "        data_year['Grano Comprado'] = value(model.gr_bought[t])\n",
        "        data_year['Grano Vendido'] = value(model.gr_sold[t])\n",
        "        data_year['Remolacha Cultivada'] = value(model.sb_grown[t])\n",
        "        data_year['Remolacha Vendida'] = value(model.sb_sold[t])\n",
        "        data_year['Remolacha Comprada'] = value(model.sb_bought[t])\n",
        "        # Novillas\n",
        "        data_year['Novillas Criadas'] = value(model.heifers_raised[t])\n",
        "        data_year['Novillas Vendidas'] = value(model.heifers_sold_new[t])\n",
        "        # Financiero\n",
        "        data_year['Ganancia Anual'] = value(model.profit[t])\n",
        "        data_year['Inversión ($)'] = value(model.outlay[t]) * housing_expansion_cost\n",
        "\n",
        "        results_data.append(data_year)\n",
        "\n",
        "    df_results = pd.DataFrame(results_data).set_index('Año')\n",
        "\n",
        "    # --- IMPRESIÓN DE TABLAS (SECCIÓN CORREGIDA) ---\n",
        "    pd.options.display.float_format = '{:,.1f}'.format\n",
        "\n",
        "    print(\"\\n\" + \"=\"*80)\n",
        "    print(\"TABLA 1: RESUMEN DE GANADO Y GANANCIA POR AÑO\")\n",
        "    print(\"=\"*80)\n",
        "    print(df_results[['Vacas Lecheras', 'Novillas (0-1)', 'Novillas (1-2)', 'Ganancia Anual', 'Inversión ($)']])\n",
        "\n",
        "    print(\"\\n\" + \"=\"*80)\n",
        "    print(\"TABLA 2: PLAN DE CULTIVOS POR AÑO (TONELADAS)\")\n",
        "    print(\"=\"*80)\n",
        "    # CORRECCIÓN: Se añade 'Remolacha Comprada' que faltaba\n",
        "    print(df_results[['Grano Cultivado', 'Grano Comprado', 'Grano Vendido', 'Remolacha Cultivada', 'Remolacha Comprada', 'Remolacha Vendida']])\n",
        "\n",
        "    print(\"\\n\" + \"=\"*80)\n",
        "    print(\"TABLA 3: PLAN DE GESTIÓN DE NOVILLAS POR AÑO\")\n",
        "    print(\"=\"*80)\n",
        "    print(df_results[['Novillas Criadas', 'Novillas Vendidas']])\n",
        "else:\n",
        "    print(\"\\nNo se imprimen tablas porque no se encontró una solución óptima.\")"
      ],
      "metadata": {
        "colab": {
          "base_uri": "https://localhost:8080/"
        },
        "id": "UBnp31ECTUj4",
        "outputId": "4c520eac-1a5a-4171-aa78-93b4879eb3ee"
      },
      "execution_count": 13,
      "outputs": [
        {
          "output_type": "stream",
          "name": "stdout",
          "text": [
            "\n",
            "================================================================================\n",
            "TABLA 1: RESUMEN DE GANADO Y GANANCIA POR AÑO\n",
            "================================================================================\n",
            "     Vacas Lecheras  Novillas (0-1)  Novillas (1-2)  Ganancia Anual  \\\n",
            "Año                                                                   \n",
            "1              97.7            22.8             9.5        21,906.1   \n",
            "2              95.2            11.6            21.7        21,888.7   \n",
            "3             104.4             0.0            11.0        25,816.1   \n",
            "4             103.6             0.0             0.0        26,825.8   \n",
            "5              92.5             0.0             0.0        25,282.6   \n",
            "\n",
            "     Inversión ($)  \n",
            "Año                 \n",
            "1              0.0  \n",
            "2              0.0  \n",
            "3              0.0  \n",
            "4              0.0  \n",
            "5              0.0  \n",
            "\n",
            "================================================================================\n",
            "TABLA 2: PLAN DE CULTIVOS POR AÑO (TONELADAS)\n",
            "================================================================================\n",
            "     Grano Cultivado  Grano Comprado  Grano Vendido  Remolacha Cultivada  \\\n",
            "Año                                                                        \n",
            "1               22.0            36.6            0.0                 91.1   \n",
            "2               22.0            35.1            0.0                 94.0   \n",
            "3               24.8            37.8            0.0                 97.7   \n",
            "4               22.0            40.1            0.0                114.6   \n",
            "5               22.0            33.5            0.0                131.3   \n",
            "\n",
            "     Remolacha Comprada  Remolacha Vendida  \n",
            "Año                                         \n",
            "1                   0.0               22.8  \n",
            "2                   0.0               27.4  \n",
            "3                   0.0               24.6  \n",
            "4                   0.0               42.1  \n",
            "5                   0.0               66.6  \n",
            "\n",
            "================================================================================\n",
            "TABLA 3: PLAN DE GESTIÓN DE NOVILLAS POR AÑO\n",
            "================================================================================\n",
            "     Novillas Criadas  Novillas Vendidas\n",
            "Año                                     \n",
            "1                22.8               30.9\n",
            "2                11.6               40.8\n",
            "3                 0.0               57.4\n",
            "4                 0.0               57.0\n",
            "5                 0.0               50.9\n"
          ]
        }
      ]
    },
    {
      "cell_type": "markdown",
      "source": [
        "## Análisis de la Estrategia Óptima y Plan de Acción\n",
        "\n",
        "El análisis de optimización revela que la estrategia más rentable para los próximos 5 años no es la expansión, sino una gestión inteligente de los recursos existentes que lleva a una contracción planificada del hato ganadero para maximizar la rentabilidad de los cultivos.\n",
        "\n",
        "<div style=\"background-color: #e8f5e9; border-left: 5px solid #4CAF50; padding: 15px; margin: 20px 0;\">\n",
        "  <h3 style=\"margin-top: 0;\">Ganancia Total Óptima del Plan de 5 Años</h3>\n",
        "  <p style=\"font-size: 24px; font-weight: bold; color: #2e7d32;\">$121,719.17</p>\n",
        "  <p>Este es el máximo beneficio económico alcanzable cumpliendo todas las restricciones operativas, de recursos y financieras del problema.</p>\n",
        "</div>\n",
        "\n",
        "---\n",
        "\n",
        "### **Resultados Clave en Tablas**\n",
        "\n",
        "<style>\n",
        "  .styled-table {\n",
        "    border-collapse: collapse;\n",
        "    margin: 25px 0;\n",
        "    font-size: 0.9em;\n",
        "    font-family: sans-serif;\n",
        "    width: 100%;\n",
        "    box-shadow: 0 0 20px rgba(0, 0, 0, 0.15);\n",
        "  }\n",
        "  .styled-table thead tr {\n",
        "    background-color: #009879;\n",
        "    color: #ffffff;\n",
        "    text-align: left;\n",
        "  }\n",
        "  .styled-table th,\n",
        "  .styled-table td {\n",
        "    padding: 12px 15px;\n",
        "    text-align: right;\n",
        "  }\n",
        "  .styled-table tbody tr {\n",
        "    border-bottom: 1px solid #dddddd;\n",
        "  }\n",
        "  .styled-table tbody tr:nth-of-type(even) {\n",
        "    background-color: #f3f3f3;\n",
        "  }\n",
        "  .styled-table tbody tr:last-of-type {\n",
        "    border-bottom: 2px solid #009879;\n",
        "  }\n",
        "  .styled-table th:first-of-type,\n",
        "  .styled-table td:first-of-type {\n",
        "    text-align: left;\n",
        "  }\n",
        "</style>\n",
        "\n",
        "<h4>Tabla 1: Plan Financiero y de Inversión Anual</h4>\n",
        "<table class=\"styled-table\">\n",
        "  <thead>\n",
        "    <tr>\n",
        "      <th>Concepto</th>\n",
        "      <th>Año 1</th>\n",
        "      <th>Año 2</th>\n",
        "      <th>Año 3</th>\n",
        "      <th>Año 4</th>\n",
        "      <th>Año 5</th>\n",
        "    </tr>\n",
        "  </thead>\n",
        "  <tbody>\n",
        "    <tr>\n",
        "      <td><b>Ganancia Anual ($)</b></td>\n",
        "      <td>21,906.1</td>\n",
        "      <td>21,888.7</td>\n",
        "      <td>25,816.1</td>\n",
        "      <td>26,825.8</td>\n",
        "      <td>25,282.6</td>\n",
        "    </tr>\n",
        "    <tr>\n",
        "      <td><b>Inversión en Alojamiento ($)</b></td>\n",
        "      <td>0.0</td>\n",
        "      <td>0.0</td>\n",
        "      <td>0.0</td>\n",
        "      <td>0.0</td>\n",
        "      <td>0.0</td>\n",
        "    </tr>\n",
        "  </tbody>\n",
        "</table>\n",
        "\n",
        "<h4>Tabla 2: Estrategia de Cultivos (en Toneladas)</h4>\n",
        "<table class=\"styled-table\">\n",
        "  <thead>\n",
        "    <tr>\n",
        "      <th>Cultivo</th>\n",
        "      <th>Acción</th>\n",
        "      <th>Año 1</th>\n",
        "      <th>Año 2</th>\n",
        "      <th>Año 3</th>\n",
        "      <th>Año 4</th>\n",
        "      <th>Año 5</th>\n",
        "    </tr>\n",
        "  </thead>\n",
        "  <tbody>\n",
        "    <tr>\n",
        "      <td rowspan=\"3\"><b>Grano</b></td>\n",
        "      <td>Cultivado</td>\n",
        "      <td>22.0</td>\n",
        "      <td>22.0</td>\n",
        "      <td>24.8</td>\n",
        "      <td>22.0</td>\n",
        "      <td>22.0</td>\n",
        "    </tr>\n",
        "    <tr>\n",
        "      <td>Comprado</td>\n",
        "      <td>36.6</td>\n",
        "      <td>35.1</td>\n",
        "      <td>37.8</td>\n",
        "      <td>40.1</td>\n",
        "      <td>33.5</td>\n",
        "    </tr>\n",
        "    <tr>\n",
        "      <td>Vendido</td>\n",
        "      <td>0.0</td>\n",
        "      <td>0.0</td>\n",
        "      <td>0.0</td>\n",
        "      <td>0.0</td>\n",
        "      <td>0.0</td>\n",
        "    </tr>\n",
        "    <tr style=\"border-top: 2px solid #009879;\">\n",
        "      <td rowspan=\"3\"><b>Remolacha</b></td>\n",
        "      <td>Cultivada</td>\n",
        "      <td>91.1</td>\n",
        "      <td>94.0</td>\n",
        "      <td>97.7</td>\n",
        "      <td>114.6</td>\n",
        "      <td>131.3</td>\n",
        "    </tr>\n",
        "    <tr>\n",
        "      <td>Comprada</td>\n",
        "      <td>0.0</td>\n",
        "      <td>0.0</td>\n",
        "      <td>0.0</td>\n",
        "      <td>0.0</td>\n",
        "      <td>0.0</td>\n",
        "    </tr>\n",
        "    <tr>\n",
        "      <td>Vendida</td>\n",
        "      <td>22.8</td>\n",
        "      <td>27.4</td>\n",
        "      <td>24.6</td>\n",
        "      <td>42.1</td>\n",
        "      <td>66.6</td>\n",
        "    </tr>\n",
        "  </tbody>\n",
        "</table>\n",
        "\n",
        "<h4>Tabla 3: Plan de Gestión de Novillas (Número de animales)</h4>\n",
        "<table class=\"styled-table\">\n",
        "  <thead>\n",
        "    <tr>\n",
        "      <th>Decisión</th>\n",
        "      <th>Año 1</th>\n",
        "      <th>Año 2</th>\n",
        "      <th>Año 3</th>\n",
        "      <th>Año 4</th>\n",
        "      <th>Año 5</th>\n",
        "    </tr>\n",
        "  </thead>\n",
        "  <tbody>\n",
        "    <tr>\n",
        "      <td><b>Vender al nacer</b></td>\n",
        "      <td>30.9</td>\n",
        "      <td>40.8</td>\n",
        "      <td>57.4</td>\n",
        "      <td>57.0</td>\n",
        "      <td>50.9</td>\n",
        "    </tr>\n",
        "    <tr>\n",
        "      <td><b>Criar para el hato</b></td>\n",
        "      <td>22.8</td>\n",
        "      <td>11.6</td>\n",
        "      <td><b>0.0</b></td>\n",
        "      <td><b>0.0</b></td>\n",
        "      <td><b>0.0</b></td>\n",
        "    </tr>\n",
        "  </tbody>\n",
        "</table>\n",
        "\n",
        "---\n",
        "\n",
        "### **Interpretación de los Resultados: ¿Qué debe hacer el agricultor?**\n",
        "\n",
        "La solución óptima del modelo sugiere un plan de acción claro y, en ciertos aspectos, anti-intuitivo.\n",
        "\n",
        "#### 1. Estrategia del Ganado: Contracción Estratégica\n",
        "La decisión más importante es **dejar de criar nuevas novillas a partir del tercer año**.\n",
        "* **¿Por qué?** El horizonte de planificación de 5 años es clave. Criar una novilla es una inversión a largo plazo; se convierte en vaca lechera productiva después de 2 años. El modelo calcula que, para los años 3, 4 y 5, es más rentable obtener el ingreso inmediato de **$40 por vender la novilla** que esperar los beneficios futuros de la leche, los cuales se materializarían mayormente fuera del horizonte de 5 años. Esto también libera recursos valiosos como tierra y mano de obra.\n",
        "\n",
        "#### 2. Estrategia de Cultivos: Especialización y Costo de Oportunidad\n",
        "El plan recomienda **concentrarse en producir remolacha para la venta** y **comprar el grano que falte**.\n",
        "* **¿Por qué?** Se trata de un cálculo de costo de oportunidad. La tierra del agricultor es limitada (200 acres). El modelo determina que es más rentable usar esa tierra para cultivar remolacha (que genera un excedente vendible y buenos ingresos) que dedicarla a cultivar grano en las parcelas menos productivas. El costo de comprar el grano ($90/ton) es menor que la ganancia que se perdería si no se usara esa misma tierra para la remolacha.\n",
        "\n",
        "#### 3. Gestión de Recursos: Sin Inversión Necesaria\n",
        "El plan óptimo **no requiere ninguna inversión** en ampliar la capacidad de alojamiento.\n",
        "* **¿Por qué?** Dado que la estrategia implica una reducción gradual del hato ganadero, la capacidad existente de 130 vacas es más que suficiente. El modelo evita incurrir en deuda y pagos de intereses (el `installment` de $39.71 por cada $200), lo que mantiene un flujo de caja más saludable y maximiza la ganancia neta.\n",
        "\n",
        "### En Resumen: El Plan de Acción\n",
        "El agricultor debe cambiar su enfoque de expansión a optimización. En los primeros dos años, debe reponer el hato moderadamente. A partir del tercer año, debe enfocarse en maximizar los ingresos a corto plazo vendiendo todas las novillas nuevas y utilizando la tierra liberada para cultivar y vender la mayor cantidad posible de remolacha, comprando el grano que necesite en el mercado."
      ],
      "metadata": {
        "id": "4l7dqwf9bNq5"
      }
    },
    {
      "cell_type": "markdown",
      "metadata": {
        "id": "teAKWh2nJaWr"
      },
      "source": [
        "---\n",
        "\n",
        "## Acerca del Autor\n",
        "\n",
        "**Autor**: Javier Augusto Rebull Saucedo  \n",
        "**Matrícula**: 263483  \n",
        "**Curso**: Programación para Analítica Prescriptiva y de Apoyo a la Decisión  \n",
        "**Universidad**: UACJ - Maestría en Inteligencia Artificial y Analítica de Datos (MIAAD)\n",
        "\n",
        "---"
      ]
    }
  ],
  "metadata": {
    "kernelspec": {
      "display_name": "Python 3",
      "language": "python",
      "name": "python3"
    },
    "language_info": {
      "codemirror_mode": {
        "name": "ipython",
        "version": 3
      },
      "file_extension": ".py",
      "mimetype": "text/x-python",
      "name": "python",
      "nbconvert_exporter": "python",
      "pygments_lexer": "ipython3",
      "version": "3.8.0"
    },
    "colab": {
      "provenance": [],
      "include_colab_link": true
    }
  },
  "nbformat": 4,
  "nbformat_minor": 0
}